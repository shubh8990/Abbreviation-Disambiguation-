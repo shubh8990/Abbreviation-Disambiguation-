{
 "metadata": {
  "language_info": {
   "codemirror_mode": {
    "name": "ipython",
    "version": 3
   },
   "file_extension": ".py",
   "mimetype": "text/x-python",
   "name": "python",
   "nbconvert_exporter": "python",
   "pygments_lexer": "ipython3",
   "version": "3.8.3-final"
  },
  "orig_nbformat": 2,
  "kernelspec": {
   "name": "python3",
   "display_name": "Python 3.8.3 64-bit (conda)",
   "metadata": {
    "interpreter": {
     "hash": "5711503aa775ae4aab8b7e3d1867329870f2ef034b0c2bb5c88ae00369442dcf"
    }
   }
  }
 },
 "nbformat": 4,
 "nbformat_minor": 2,
 "cells": [
  {
   "cell_type": "markdown",
   "metadata": {},
   "source": [
    "# Abbreviation Disambiguation in Medical Texts - Data Wrangling & EDA\n",
    "\n",
    "This Notebook is used to list down:\n",
    "\n",
    "1. How the Data for Test and Train sets was collected i.e, Data Sources.\n",
    "2. How the data has been organized for Training and Testing the model.\n",
    "3. Data Cleaning.\n",
    "4. Exploratory Data Analysis (EDA)."
   ]
  },
  {
   "cell_type": "markdown",
   "metadata": {},
   "source": [
    "## Step# 1: Downloading Data from Data Sources.\n",
    "\n",
    "            Data being used in this problem will be downloaded using Kaggle API from the below location:\n",
    "\n",
    "            https://www.kaggle.com/xhlulu/medal-emnlp"
   ]
  },
  {
   "cell_type": "code",
   "execution_count": 2,
   "metadata": {},
   "outputs": [
    {
     "output_type": "stream",
     "name": "stdout",
     "text": [
      "^C\n"
     ]
    }
   ],
   "source": [
    "# Uncomment below lines to download the dataset directly from Kaggle\n",
    "## To Install Kaggle package in case it is not already present\n",
    "# !pip install kaggle\n",
    "## Download dataset\n",
    "# !kaggle datasets download -d xhlulu/medal-emnlp"
   ]
  },
  {
   "source": [
    "### Once the dataset has been downloaded lets check the directory contents"
   ],
   "cell_type": "markdown",
   "metadata": {}
  },
  {
   "cell_type": "code",
   "execution_count": 1,
   "metadata": {},
   "outputs": [],
   "source": [
    "#Importing the Required Python Packages\n",
    "import os\n",
    "import shutil\n",
    "import zipfile\n",
    "import pandas as pd\n",
    "import matplotlib.pyplot as plt"
   ]
  },
  {
   "cell_type": "markdown",
   "metadata": {},
   "source": [
    "Printing the Current Working Directory"
   ]
  },
  {
   "cell_type": "code",
   "execution_count": 2,
   "metadata": {
    "tags": []
   },
   "outputs": [
    {
     "output_type": "stream",
     "name": "stdout",
     "text": [
      "d:\\Learning\\Springboard\\GitHub\\Abbreviation-Disambiguation-\n"
     ]
    }
   ],
   "source": [
    "print(os.getcwd())"
   ]
  },
  {
   "cell_type": "markdown",
   "metadata": {},
   "source": [
    "Printing the content of the Working Directory"
   ]
  },
  {
   "cell_type": "code",
   "execution_count": 3,
   "metadata": {
    "tags": []
   },
   "outputs": [
    {
     "output_type": "stream",
     "name": "stdout",
     "text": [
      "['.git', 'NLP_Dataset.zip', 'Project Proposal.pdf', 'README.md', 'Step 1- Data Wrangling and EDA.ipynb']\n"
     ]
    }
   ],
   "source": [
    "print(os.listdir())"
   ]
  },
  {
   "source": [],
   "cell_type": "markdown",
   "metadata": {}
  },
  {
   "cell_type": "markdown",
   "metadata": {},
   "source": [
    "## Step# 2: Organizing data into Logical folder structure from where the system will read the data and process it.\n"
   ]
  },
  {
   "cell_type": "markdown",
   "metadata": {},
   "source": [
    "    The Data for this problem will have the following Folder structure:\n",
    "\n",
    "    Work_Dir\n",
    "    |\n",
    "    |\n",
    "    |----> Data\n",
    "    |\n",
    "    |\n",
    "    |----> Train\n",
    "    |\n",
    "    |\n",
    "    |----> Test\n",
    "    |\n",
    "    |\n",
    "    |----> Validation\n",
    "    |\n",
    "    |\n",
    "    |----> Images\n",
    "    \n",
    "    Thus, creating the required Folder structure."
   ]
  },
  {
   "cell_type": "code",
   "execution_count": 3,
   "metadata": {},
   "outputs": [
    {
     "output_type": "stream",
     "name": "stdout",
     "text": [
      "d:\\Learning\\Springboard\\GitHub\\Abbreviation-Disambiguation-\n"
     ]
    }
   ],
   "source": [
    "#Reading the current path in a variable\n",
    "path = os.getcwd()\n",
    "print(path)"
   ]
  },
  {
   "cell_type": "code",
   "execution_count": 5,
   "metadata": {},
   "outputs": [],
   "source": [
    "#Creating a folder by name Train\n",
    "os.mkdir(os.path.join(path, 'Train'))"
   ]
  },
  {
   "cell_type": "code",
   "execution_count": 6,
   "metadata": {},
   "outputs": [],
   "source": [
    "#Creating a folder by name Test\n",
    "os.mkdir(os.path.join(path, 'Test'))"
   ]
  },
  {
   "cell_type": "code",
   "execution_count": 7,
   "metadata": {},
   "outputs": [],
   "source": [
    "#Creating a folder by name Data\n",
    "os.mkdir(os.path.join(path, 'Data'))"
   ]
  },
  {
   "cell_type": "code",
   "execution_count": 8,
   "metadata": {},
   "outputs": [],
   "source": [
    "#Creating a folder by name Validation\n",
    "os.mkdir(os.path.join(path, 'Validation'))"
   ]
  },
  {
   "cell_type": "code",
   "execution_count": 9,
   "metadata": {},
   "outputs": [],
   "source": [
    "#Creating a folder by name Images\n",
    "os.mkdir(os.path.join(path, 'Images'))"
   ]
  },
  {
   "source": [
    "Moving the NLP_Dataset.zip file into the Data folder and then unzipping the file"
   ],
   "cell_type": "markdown",
   "metadata": {}
  },
  {
   "cell_type": "code",
   "execution_count": 15,
   "metadata": {},
   "outputs": [
    {
     "output_type": "execute_result",
     "data": {
      "text/plain": [
       "'d:\\\\Learning\\\\Springboard\\\\GitHub\\\\Abbreviation-Disambiguation-\\\\Data\\\\NLP_Dataset.zip'"
      ]
     },
     "metadata": {},
     "execution_count": 15
    }
   ],
   "source": [
    "#Moving the file to Data folder\n",
    "source = os.path.join(path, 'NLP_Dataset.zip')\n",
    "destination = os.path.join(path, 'Data', 'NLP_Dataset.zip')\n",
    "shutil.move(source, destination)"
   ]
  },
  {
   "cell_type": "code",
   "execution_count": 16,
   "metadata": {},
   "outputs": [
    {
     "output_type": "stream",
     "name": "stdout",
     "text": [
      "['NLP_Dataset.zip']\n"
     ]
    }
   ],
   "source": [
    "#Check the contents of Data folder\n",
    "print(os.listdir(os.path.join(path, 'Data')))"
   ]
  },
  {
   "cell_type": "code",
   "execution_count": 19,
   "metadata": {},
   "outputs": [],
   "source": [
    "#Unzip the dataset file\n",
    "with zipfile.ZipFile(destination, 'r') as zip_ref:\n",
    "    zip_ref.extractall(os.path.join(path, 'Data'))"
   ]
  },
  {
   "cell_type": "code",
   "execution_count": 3,
   "metadata": {},
   "outputs": [
    {
     "output_type": "stream",
     "name": "stdout",
     "text": [
      "['full_data.csv', 'NLP_Dataset.zip', 'pretrain_subset']\n"
     ]
    }
   ],
   "source": [
    "#Check the contents of Data folder\n",
    "print(os.listdir(os.path.join(path, 'Data')))"
   ]
  },
  {
   "source": [
    "Data was successfully extracted and a new folder 'pretrain_subset' was also created, Let's check the contents of that folder."
   ],
   "cell_type": "markdown",
   "metadata": {}
  },
  {
   "cell_type": "code",
   "execution_count": 4,
   "metadata": {},
   "outputs": [
    {
     "output_type": "stream",
     "name": "stdout",
     "text": [
      "['test.csv', 'train.csv', 'valid.csv']\n"
     ]
    }
   ],
   "source": [
    "#Check the contents of pretrain_subset folder\n",
    "print(os.listdir(os.path.join(path, 'Data', 'pretrain_subset')))"
   ]
  },
  {
   "source": [
    "Pretrain_subset folder contains the dataset already divided into 3 different files- Train, test and valid. We will use the the data in this folder due to system memory restrictions."
   ],
   "cell_type": "markdown",
   "metadata": {}
  },
  {
   "cell_type": "code",
   "execution_count": 5,
   "metadata": {},
   "outputs": [
    {
     "output_type": "stream",
     "name": "stdout",
     "text": [
      "['NLP_Dataset.zip', 'pretrain_subset', 'test.csv', 'train.csv', 'valid.csv']\n"
     ]
    }
   ],
   "source": [
    "# Deleting full_data.csv and moving train, test and valid files to Data folder.\n",
    "source = os.path.join(path, 'Data', 'pretrain_subset')\n",
    "destination = os.path.join(path, 'Data')\n",
    "shutil.move(os.path.join(source, 'train.csv'), os.path.join(destination, 'train.csv'))\n",
    "shutil.move(os.path.join(source, 'test.csv'), os.path.join(destination, 'test.csv'))\n",
    "shutil.move(os.path.join(source, 'valid.csv'), os.path.join(destination, 'valid.csv'))\n",
    "os.remove(os.path.join(destination, 'full_data.csv'))\n",
    "\n",
    "#Check the contents of Data folder\n",
    "print(os.listdir(os.path.join(path, 'Data')))"
   ]
  },
  {
   "cell_type": "markdown",
   "metadata": {},
   "source": [
    "## Step# 3: Cleaning Data"
   ]
  },
  {
   "source": [
    "### Lets have a look at our data."
   ],
   "cell_type": "markdown",
   "metadata": {}
  },
  {
   "cell_type": "code",
   "execution_count": 4,
   "metadata": {},
   "outputs": [
    {
     "output_type": "stream",
     "name": "stdout",
     "text": [
      "d:\\Learning\\Springboard\\GitHub\\Abbreviation-Disambiguation-\\Data\\train.csv\n"
     ]
    }
   ],
   "source": [
    "#Creating a path variable directly to the dataset\n",
    "data_path = os.path.join(path, 'Data', 'train.csv')\n",
    "print(data_path)"
   ]
  },
  {
   "cell_type": "code",
   "execution_count": 5,
   "metadata": {},
   "outputs": [],
   "source": [
    "# Loading the data in a dataframe.\n",
    "textDF = pd.read_csv(data_path)"
   ]
  },
  {
   "cell_type": "code",
   "execution_count": 6,
   "metadata": {},
   "outputs": [
    {
     "output_type": "execute_result",
     "data": {
      "text/plain": [
       "(3000000, 4)"
      ]
     },
     "metadata": {},
     "execution_count": 6
    }
   ],
   "source": [
    "#Checking the shape of Dataframe\n",
    "textDF.shape"
   ]
  },
  {
   "cell_type": "code",
   "execution_count": 7,
   "metadata": {},
   "outputs": [
    {
     "output_type": "execute_result",
     "data": {
      "text/plain": [
       "   ABSTRACT_ID                                               TEXT  LOCATION  \\\n",
       "0     14145090  velvet antlers vas are commonly used in tradit...        63   \n",
       "1      1900667  the clinical features of our cases demonstrate...        85   \n",
       "2      8625554  ceftobiprole bpr is an investigational cephalo...        90   \n",
       "3      8157202  we have taken a basic biologic RPA to elucidat...        26   \n",
       "4      6784974  lipoperoxidationderived aldehydes for example ...       157   \n",
       "\n",
       "                                LABEL  \n",
       "0      transverse aortic constriction  \n",
       "1                   hodgkins lymphoma  \n",
       "2     methicillinsusceptible s aureus  \n",
       "3  parathyroid hormonerelated protein  \n",
       "4                    lipoperoxidation  "
      ],
      "text/html": "<div>\n<style scoped>\n    .dataframe tbody tr th:only-of-type {\n        vertical-align: middle;\n    }\n\n    .dataframe tbody tr th {\n        vertical-align: top;\n    }\n\n    .dataframe thead th {\n        text-align: right;\n    }\n</style>\n<table border=\"1\" class=\"dataframe\">\n  <thead>\n    <tr style=\"text-align: right;\">\n      <th></th>\n      <th>ABSTRACT_ID</th>\n      <th>TEXT</th>\n      <th>LOCATION</th>\n      <th>LABEL</th>\n    </tr>\n  </thead>\n  <tbody>\n    <tr>\n      <th>0</th>\n      <td>14145090</td>\n      <td>velvet antlers vas are commonly used in tradit...</td>\n      <td>63</td>\n      <td>transverse aortic constriction</td>\n    </tr>\n    <tr>\n      <th>1</th>\n      <td>1900667</td>\n      <td>the clinical features of our cases demonstrate...</td>\n      <td>85</td>\n      <td>hodgkins lymphoma</td>\n    </tr>\n    <tr>\n      <th>2</th>\n      <td>8625554</td>\n      <td>ceftobiprole bpr is an investigational cephalo...</td>\n      <td>90</td>\n      <td>methicillinsusceptible s aureus</td>\n    </tr>\n    <tr>\n      <th>3</th>\n      <td>8157202</td>\n      <td>we have taken a basic biologic RPA to elucidat...</td>\n      <td>26</td>\n      <td>parathyroid hormonerelated protein</td>\n    </tr>\n    <tr>\n      <th>4</th>\n      <td>6784974</td>\n      <td>lipoperoxidationderived aldehydes for example ...</td>\n      <td>157</td>\n      <td>lipoperoxidation</td>\n    </tr>\n  </tbody>\n</table>\n</div>"
     },
     "metadata": {},
     "execution_count": 7
    }
   ],
   "source": [
    "#Checking the first 5 rows of the dataframe\n",
    "textDF.head(5)"
   ]
  },
  {
   "cell_type": "code",
   "execution_count": 8,
   "metadata": {},
   "outputs": [
    {
     "output_type": "execute_result",
     "data": {
      "text/plain": [
       "         ABSTRACT_ID                                               TEXT  \\\n",
       "2999995     10674546  the results of a surveillance study conducted ...   \n",
       "2999996     15628733  approximately of patients with celiac disease ...   \n",
       "2999997     15419189  the LT survivorship and PET outcomes of the mo...   \n",
       "2999998      2075862  previous work has demonstrated the presence of...   \n",
       "2999999       532074  a hospital warm water system was monitored for...   \n",
       "\n",
       "         LOCATION                               LABEL  \n",
       "2999995        99            argon plasma coagulation  \n",
       "2999996        12                     glutenfree diet  \n",
       "2999997        15  unicompartmental knee arthroplasty  \n",
       "2999998        60                            complete  \n",
       "2999999        18              legionella pneumophila  "
      ],
      "text/html": "<div>\n<style scoped>\n    .dataframe tbody tr th:only-of-type {\n        vertical-align: middle;\n    }\n\n    .dataframe tbody tr th {\n        vertical-align: top;\n    }\n\n    .dataframe thead th {\n        text-align: right;\n    }\n</style>\n<table border=\"1\" class=\"dataframe\">\n  <thead>\n    <tr style=\"text-align: right;\">\n      <th></th>\n      <th>ABSTRACT_ID</th>\n      <th>TEXT</th>\n      <th>LOCATION</th>\n      <th>LABEL</th>\n    </tr>\n  </thead>\n  <tbody>\n    <tr>\n      <th>2999995</th>\n      <td>10674546</td>\n      <td>the results of a surveillance study conducted ...</td>\n      <td>99</td>\n      <td>argon plasma coagulation</td>\n    </tr>\n    <tr>\n      <th>2999996</th>\n      <td>15628733</td>\n      <td>approximately of patients with celiac disease ...</td>\n      <td>12</td>\n      <td>glutenfree diet</td>\n    </tr>\n    <tr>\n      <th>2999997</th>\n      <td>15419189</td>\n      <td>the LT survivorship and PET outcomes of the mo...</td>\n      <td>15</td>\n      <td>unicompartmental knee arthroplasty</td>\n    </tr>\n    <tr>\n      <th>2999998</th>\n      <td>2075862</td>\n      <td>previous work has demonstrated the presence of...</td>\n      <td>60</td>\n      <td>complete</td>\n    </tr>\n    <tr>\n      <th>2999999</th>\n      <td>532074</td>\n      <td>a hospital warm water system was monitored for...</td>\n      <td>18</td>\n      <td>legionella pneumophila</td>\n    </tr>\n  </tbody>\n</table>\n</div>"
     },
     "metadata": {},
     "execution_count": 8
    }
   ],
   "source": [
    "#Checking last 5 rows of the dataframe\n",
    "textDF.tail(5)"
   ]
  },
  {
   "cell_type": "code",
   "execution_count": 9,
   "metadata": {},
   "outputs": [
    {
     "output_type": "execute_result",
     "data": {
      "text/plain": [
       "         ABSTRACT_ID                                               TEXT  \\\n",
       "count   3.000000e+06                                            3000000   \n",
       "unique           NaN                                            2530992   \n",
       "top              NaN  glycyrrhetinic acid and its salts and esters a...   \n",
       "freq             NaN                                                 12   \n",
       "mean    7.027529e+06                                                NaN   \n",
       "std     4.591529e+06                                                NaN   \n",
       "min     6.000000e+00                                                NaN   \n",
       "25%     3.065308e+06                                                NaN   \n",
       "50%     6.382561e+06                                                NaN   \n",
       "75%     1.082218e+07                                                NaN   \n",
       "max     1.617066e+07                                                NaN   \n",
       "\n",
       "            LOCATION          LABEL  \n",
       "count   3.000000e+06        3000000  \n",
       "unique           NaN          22555  \n",
       "top              NaN  birth weights  \n",
       "freq             NaN            268  \n",
       "mean    7.683654e+01            NaN  \n",
       "std     6.759640e+01            NaN  \n",
       "min     0.000000e+00            NaN  \n",
       "25%     2.200000e+01            NaN  \n",
       "50%     6.000000e+01            NaN  \n",
       "75%     1.150000e+02            NaN  \n",
       "max     1.401000e+03            NaN  "
      ],
      "text/html": "<div>\n<style scoped>\n    .dataframe tbody tr th:only-of-type {\n        vertical-align: middle;\n    }\n\n    .dataframe tbody tr th {\n        vertical-align: top;\n    }\n\n    .dataframe thead th {\n        text-align: right;\n    }\n</style>\n<table border=\"1\" class=\"dataframe\">\n  <thead>\n    <tr style=\"text-align: right;\">\n      <th></th>\n      <th>ABSTRACT_ID</th>\n      <th>TEXT</th>\n      <th>LOCATION</th>\n      <th>LABEL</th>\n    </tr>\n  </thead>\n  <tbody>\n    <tr>\n      <th>count</th>\n      <td>3.000000e+06</td>\n      <td>3000000</td>\n      <td>3.000000e+06</td>\n      <td>3000000</td>\n    </tr>\n    <tr>\n      <th>unique</th>\n      <td>NaN</td>\n      <td>2530992</td>\n      <td>NaN</td>\n      <td>22555</td>\n    </tr>\n    <tr>\n      <th>top</th>\n      <td>NaN</td>\n      <td>glycyrrhetinic acid and its salts and esters a...</td>\n      <td>NaN</td>\n      <td>birth weights</td>\n    </tr>\n    <tr>\n      <th>freq</th>\n      <td>NaN</td>\n      <td>12</td>\n      <td>NaN</td>\n      <td>268</td>\n    </tr>\n    <tr>\n      <th>mean</th>\n      <td>7.027529e+06</td>\n      <td>NaN</td>\n      <td>7.683654e+01</td>\n      <td>NaN</td>\n    </tr>\n    <tr>\n      <th>std</th>\n      <td>4.591529e+06</td>\n      <td>NaN</td>\n      <td>6.759640e+01</td>\n      <td>NaN</td>\n    </tr>\n    <tr>\n      <th>min</th>\n      <td>6.000000e+00</td>\n      <td>NaN</td>\n      <td>0.000000e+00</td>\n      <td>NaN</td>\n    </tr>\n    <tr>\n      <th>25%</th>\n      <td>3.065308e+06</td>\n      <td>NaN</td>\n      <td>2.200000e+01</td>\n      <td>NaN</td>\n    </tr>\n    <tr>\n      <th>50%</th>\n      <td>6.382561e+06</td>\n      <td>NaN</td>\n      <td>6.000000e+01</td>\n      <td>NaN</td>\n    </tr>\n    <tr>\n      <th>75%</th>\n      <td>1.082218e+07</td>\n      <td>NaN</td>\n      <td>1.150000e+02</td>\n      <td>NaN</td>\n    </tr>\n    <tr>\n      <th>max</th>\n      <td>1.617066e+07</td>\n      <td>NaN</td>\n      <td>1.401000e+03</td>\n      <td>NaN</td>\n    </tr>\n  </tbody>\n</table>\n</div>"
     },
     "metadata": {},
     "execution_count": 9
    }
   ],
   "source": [
    "#Checking the summary statistics of the dataframe\n",
    "textDF.describe(include = 'all')"
   ]
  },
  {
   "cell_type": "code",
   "execution_count": 10,
   "metadata": {},
   "outputs": [
    {
     "output_type": "execute_result",
     "data": {
      "text/plain": [
       "ABSTRACT_ID     int64\n",
       "TEXT           object\n",
       "LOCATION        int64\n",
       "LABEL          object\n",
       "dtype: object"
      ]
     },
     "metadata": {},
     "execution_count": 10
    }
   ],
   "source": [
    "#Checking the datatypes of dataframe columns\n",
    "textDF.dtypes"
   ]
  },
  {
   "cell_type": "code",
   "execution_count": 11,
   "metadata": {},
   "outputs": [
    {
     "output_type": "execute_result",
     "data": {
      "text/plain": [
       "2531051"
      ]
     },
     "metadata": {},
     "execution_count": 11
    }
   ],
   "source": [
    "# Checking the unique Abstract_id to see if Abstract_id can be converted to Index\n",
    "textDF['ABSTRACT_ID'].nunique()"
   ]
  },
  {
   "source": [
    "Hence, the Abstract_ID's are not all unique. So, lets check the duplicates in the dataset."
   ],
   "cell_type": "markdown",
   "metadata": {}
  },
  {
   "cell_type": "code",
   "execution_count": 12,
   "metadata": {},
   "outputs": [
    {
     "output_type": "execute_result",
     "data": {
      "text/plain": [
       "Empty DataFrame\n",
       "Columns: [ABSTRACT_ID, TEXT, LOCATION, LABEL]\n",
       "Index: []"
      ],
      "text/html": "<div>\n<style scoped>\n    .dataframe tbody tr th:only-of-type {\n        vertical-align: middle;\n    }\n\n    .dataframe tbody tr th {\n        vertical-align: top;\n    }\n\n    .dataframe thead th {\n        text-align: right;\n    }\n</style>\n<table border=\"1\" class=\"dataframe\">\n  <thead>\n    <tr style=\"text-align: right;\">\n      <th></th>\n      <th>ABSTRACT_ID</th>\n      <th>TEXT</th>\n      <th>LOCATION</th>\n      <th>LABEL</th>\n    </tr>\n  </thead>\n  <tbody>\n  </tbody>\n</table>\n</div>"
     },
     "metadata": {},
     "execution_count": 12
    }
   ],
   "source": [
    "duplicate = textDF[textDF.duplicated()]\n",
    "duplicate.head(5)"
   ]
  },
  {
   "source": [
    "Hence, none of the rows are duplicates."
   ],
   "cell_type": "markdown",
   "metadata": {}
  },
  {
   "cell_type": "code",
   "execution_count": 13,
   "metadata": {},
   "outputs": [
    {
     "output_type": "execute_result",
     "data": {
      "text/plain": [
       "False"
      ]
     },
     "metadata": {},
     "execution_count": 13
    }
   ],
   "source": [
    "# Lets check for null values if any\n",
    "textDF.isnull().values.any()"
   ]
  },
  {
   "source": [
    "Thus, we don't have any Null values in the dataset."
   ],
   "cell_type": "markdown",
   "metadata": {}
  },
  {
   "cell_type": "markdown",
   "metadata": {},
   "source": [
    "### At this point the Data Wrangling has been completed and the resulting data is now ready for EDA"
   ]
  },
  {
   "source": [
    "## Step# 4: EDA"
   ],
   "cell_type": "markdown",
   "metadata": {}
  },
  {
   "cell_type": "code",
   "execution_count": 14,
   "metadata": {},
   "outputs": [
    {
     "output_type": "execute_result",
     "data": {
      "text/plain": [
       "   ABSTRACT_ID  \\\n",
       "0  14145090      \n",
       "\n",
       "                                                                                                                                                                                                                                                                                                                                                                                                                                                                                                                                                                                                                                                                                                                                                                                                                                                                                                                                                                                                                                                                                                                                                                                                                                                                                                                                                                                                           TEXT  \\\n",
       "0  velvet antlers vas are commonly used in traditional chinese medicine and invigorant and contain many PET components for health promotion the velvet antler peptide svap is one of active components in vas based on structural study the svap interacts with tgfÎ² receptors and disrupts the tgfÎ² pathway we hypothesized that svap prevents cardiac fibrosis from pressure overload by blocking tgfÎ² signaling SDRs underwent TAC tac or a sham operation T3 one month rats received either svap mgkgday or vehicle for an additional one month tac surgery induced significant cardiac dysfunction FB activation and fibrosis these effects were improved by treatment with svap in the heart tissue tac remarkably increased the expression of tgfÎ² and connective tissue growth factor ctgf ROS species C2 and the phosphorylation C2 of smad and ERK kinases erk svap inhibited the increases in reactive oxygen species C2 ctgf expression and the phosphorylation of smad and erk but not tgfÎ² expression in cultured cardiac fibroblasts angiotensin ii ang ii had similar effects compared to tac surgery such as increases in Î±smapositive CFs and collagen synthesis svap eliminated these effects by disrupting tgfÎ² IB to its receptors and blocking ang iitgfÎ² downstream signaling these results demonstrated that svap has antifibrotic effects by blocking the tgfÎ² pathway in CFs   \n",
       "\n",
       "   LOCATION                           LABEL  \n",
       "0  63        transverse aortic constriction  "
      ],
      "text/html": "<div>\n<style scoped>\n    .dataframe tbody tr th:only-of-type {\n        vertical-align: middle;\n    }\n\n    .dataframe tbody tr th {\n        vertical-align: top;\n    }\n\n    .dataframe thead th {\n        text-align: right;\n    }\n</style>\n<table border=\"1\" class=\"dataframe\">\n  <thead>\n    <tr style=\"text-align: right;\">\n      <th></th>\n      <th>ABSTRACT_ID</th>\n      <th>TEXT</th>\n      <th>LOCATION</th>\n      <th>LABEL</th>\n    </tr>\n  </thead>\n  <tbody>\n    <tr>\n      <th>0</th>\n      <td>14145090</td>\n      <td>velvet antlers vas are commonly used in traditional chinese medicine and invigorant and contain many PET components for health promotion the velvet antler peptide svap is one of active components in vas based on structural study the svap interacts with tgfÎ² receptors and disrupts the tgfÎ² pathway we hypothesized that svap prevents cardiac fibrosis from pressure overload by blocking tgfÎ² signaling SDRs underwent TAC tac or a sham operation T3 one month rats received either svap mgkgday or vehicle for an additional one month tac surgery induced significant cardiac dysfunction FB activation and fibrosis these effects were improved by treatment with svap in the heart tissue tac remarkably increased the expression of tgfÎ² and connective tissue growth factor ctgf ROS species C2 and the phosphorylation C2 of smad and ERK kinases erk svap inhibited the increases in reactive oxygen species C2 ctgf expression and the phosphorylation of smad and erk but not tgfÎ² expression in cultured cardiac fibroblasts angiotensin ii ang ii had similar effects compared to tac surgery such as increases in Î±smapositive CFs and collagen synthesis svap eliminated these effects by disrupting tgfÎ² IB to its receptors and blocking ang iitgfÎ² downstream signaling these results demonstrated that svap has antifibrotic effects by blocking the tgfÎ² pathway in CFs</td>\n      <td>63</td>\n      <td>transverse aortic constriction</td>\n    </tr>\n  </tbody>\n</table>\n</div>"
     },
     "metadata": {},
     "execution_count": 14
    }
   ],
   "source": [
    "# Lets look at one row of the dataset in detail\n",
    "pd.set_option('display.max_colwidth', -1)\n",
    "textDF.head(1)"
   ]
  },
  {
   "source": [
    "### As per dataset specifications, location column signifies the word count after which the Abbreviation occurs and its Label is provided in Lable column."
   ],
   "cell_type": "markdown",
   "metadata": {}
  },
  {
   "cell_type": "code",
   "execution_count": 59,
   "metadata": {},
   "outputs": [],
   "source": [
    "# Lets check the Abbreviations of first 10 rows of the dataset alongwith their labels\n",
    "split_text = [ t.split(' ') for t in textDF[:10]['TEXT']]\n",
    "label = [t for t in textDF[:10]['LABEL']]\n",
    "location = [t for t in textDF[:10]['LOCATION']]"
   ]
  },
  {
   "cell_type": "code",
   "execution_count": 61,
   "metadata": {},
   "outputs": [
    {
     "output_type": "stream",
     "name": "stdout",
     "text": [
      "transverse aortic constriction  --  TAC\nhodgkins lymphoma  --  HD\nmethicillinsusceptible s aureus  --  MSSA\nparathyroid hormonerelated protein  --  PTHrP\nlipoperoxidation  --  LPO\nhepatitis g virus  --  HGV\nradical neck dissection  --  RND\namplified spontaneous emission  --  ASE\nportal blood  --  HPB\nwestern medicine  --  WM\n"
     ]
    }
   ],
   "source": [
    "for i in range(0,10):\n",
    "    print(label[i], ' -- ', split_text[i][location[i]])"
   ]
  },
  {
   "source": [
    "From the above analysis, the relationship between Location, Label and Text columns are clearly visible. "
   ],
   "cell_type": "markdown",
   "metadata": {}
  },
  {
   "source": [
    "### Let us again check the number of unique AABSTRACT_ID in Dataset"
   ],
   "cell_type": "markdown",
   "metadata": {}
  },
  {
   "cell_type": "code",
   "execution_count": 62,
   "metadata": {},
   "outputs": [
    {
     "output_type": "execute_result",
     "data": {
      "text/plain": [
       "2531051"
      ]
     },
     "metadata": {},
     "execution_count": 62
    }
   ],
   "source": [
    "# Checking the unique Abstract_id\n",
    "textDF['ABSTRACT_ID'].nunique()"
   ]
  },
  {
   "cell_type": "code",
   "execution_count": 63,
   "metadata": {},
   "outputs": [
    {
     "output_type": "execute_result",
     "data": {
      "text/plain": [
       "(3000000, 4)"
      ]
     },
     "metadata": {},
     "execution_count": 63
    }
   ],
   "source": [
    "# Checking the shape of the Dataset\n",
    "textDF.shape"
   ]
  },
  {
   "source": [
    "It can be seen here that there are some Abstract_ID's which are not unique. Lets find those abstracts and check what is the main differences"
   ],
   "cell_type": "markdown",
   "metadata": {}
  },
  {
   "cell_type": "code",
   "execution_count": 70,
   "metadata": {},
   "outputs": [],
   "source": [
    "duplicate = textDF[textDF['ABSTRACT_ID'].duplicated(keep = False)]"
   ]
  },
  {
   "cell_type": "code",
   "execution_count": 72,
   "metadata": {},
   "outputs": [
    {
     "output_type": "execute_result",
     "data": {
      "text/plain": [
       "         ABSTRACT_ID  \\\n",
       "331391   6             \n",
       "11397    6             \n",
       "2676992  49            \n",
       "1848382  49            \n",
       "2085819  57            \n",
       "\n",
       "                                                                                                                                                                                                                                                                                                                                                                                                                                                                                                                                                                                                                                                                                                                                                                                                                                                                                                                                                                                                                                                                                                                                                                                                                                                                                                                                                                                                                                                                                                                                                                  TEXT  \\\n",
       "331391   a doubleblind T0 with intraindividual comparisons was carried out to investigate the effects of mg of ralphahydroxyisopropylalphahtropanium bromidetropate sch mg sch mg OX mg oxazepam and placebo with p.o. in randomized CS on gastric juice volume amount of acid concentration and ph values in healthy volunteers the secretion parameters were measured during a h basal period and a h stimulation period the gastric juice was obtained in min portions via stomach tube stimulation was effected by mugkgh PG via drip infusion the friedman test was used for the comparative statistical evaluation and individual comparisons were carried out by means of the wilcoxon test pairdifferences rank the results show that sch and sch OX were equal in effect on basal and stimulated secretion volume as compared with PL it was not possible to establish an effect on secretion volume for oxazepam CT sch and sch oxazepam were found to be equipotent in reducing the amount of basal acid while oxazepam reduced this quantity only during the first min of basal secretion none of the three AS S9 was capable of inhibiting the stimulated acid although both sch preparations produced a clear trend towards lowered mean values during the basal secretion period all three test S9 had an inhibiting action on acid concentration but none of them had a significant effect during the stimulation period the ph value was savely increased only by sch and sch OX and this even only during the basal period the results are discussed   \n",
       "11397    a doubleblind T0 with intraindividual comparisons was carried out to investigate the effects of mg of ralphahydroxyisopropylalphahtropanium bromidetropate sch mg sch mg OX mg oxazepam and placebo with p.o. in randomized CS on gastric juice volume amount of acid concentration and ph values in healthy volunteers the secretion parameters were measured during a h basal period and a h stimulation period the gastric juice was obtained in min portions via stomach tube stimulation was effected by mugkgh PG via drip infusion the friedman test was used for the comparative statistical evaluation and individual comparisons were carried out by means of the wilcoxon test pairdifferences rank the results show that sch and sch OX were equal in effect on basal and stimulated secretion volume as compared with PL it was not possible to establish an effect on secretion volume for oxazepam CT sch and sch oxazepam were found to be equipotent in reducing the amount of basal acid while oxazepam reduced this quantity only during the first min of basal secretion none of the three AS S9 was capable of inhibiting the stimulated acid although both sch preparations produced a clear trend towards lowered mean values during the basal secretion period all three test S9 had an inhibiting action on acid concentration but none of them had a significant effect during the stimulation period the ph value was savely increased only by sch and sch OX and this even only during the basal period the results are discussed   \n",
       "2676992  two rb erythrocyte casein kinases gtpcasein kinase i and gtpcasein kinase ii have been purified and fold respectively studies employing sucrose density gradient centrifugation indicate that kinase i has a molecular weight of about s and kinase ii about s these enzymes can utilize either atp or gtp as the phosphoryl donor among various protein substrates examined these kinases catalyze the phosphorylation of CS greater than dephosphorylated phosvitin congruent to dephosphorylated CS greater than phosvitin histones protamine and bovine serum Al are poor phosphoryl acceptors kinetic data indicate that both enzymes are inhibited by high casein substrate concentrations which may be partially relieved by nacl both phosphotransferases require mg for activity and are optimally AS at ph the enzymes have apparent km values of m for gtp m for atp and mgml for CS the incorporation of the terminal phosphate of gtp into CS as catalyzed by these enzymes is inhibited to varying degrees by atp itp adp and gdp but not by utp ctp gmp cAMP and guanosine cyclic monophosphate in addition naf and diphosphoglyceric acid are also found to inhibit the activity of both kinases the effect of 2,3-DPG is interesting and suggests that this metabolite may regulate the activity of the CK in the red blood cells                                                                                                                                                                                                              \n",
       "1848382  two rb erythrocyte casein kinases gtpcasein kinase i and gtpcasein kinase ii have been purified and fold respectively studies employing sucrose density gradient centrifugation indicate that kinase i has a molecular weight of about s and kinase ii about s these enzymes can utilize either atp or gtp as the phosphoryl donor among various protein substrates examined these kinases catalyze the phosphorylation of CS greater than dephosphorylated phosvitin congruent to dephosphorylated CS greater than phosvitin histones protamine and bovine serum Al are poor phosphoryl acceptors kinetic data indicate that both enzymes are inhibited by high casein substrate concentrations which may be partially relieved by nacl both phosphotransferases require mg for activity and are optimally AS at ph the enzymes have apparent km values of m for gtp m for atp and mgml for CS the incorporation of the terminal phosphate of gtp into CS as catalyzed by these enzymes is inhibited to varying degrees by atp itp adp and gdp but not by utp ctp gmp cAMP and guanosine cyclic monophosphate in addition naf and diphosphoglyceric acid are also found to inhibit the activity of both kinases the effect of 2,3-DPG is interesting and suggests that this metabolite may regulate the activity of the CK in the red blood cells                                                                                                                                                                                                              \n",
       "2085819  the MICs of hybrid dimers of ALP phosphatase containing two chemically modified subunits have been investigated one hybrid species was prepared by dissociation and reconstitution of a mixture of two SCV produced by chemical modification of the native enzyme with SA and TNM respectively the succinylnitrotyrosyl hybrid was separated from the other members of the hybrid set by deaesephadex chromatography and then converted to a succinylaminotyrosyl hybrid by reduction of the modified IMT residues with sodium dithionite a comparison of the MICs of these two hybrids with the activities of the succinyl nitrotyrosyl and aminotyrosyl derivatives has shown that either the subunits of ALP phosphatase CF independently or if the subunits turnover alternately in a reciprocating mechanism then the intrinsic activity of each S1 must be strongly dependent on its partner S1                                                                                                                                                                                                                                                                                                                                                                                                                                                                                                                                                                                                                                                           \n",
       "\n",
       "         LOCATION               LABEL  \n",
       "331391   112       oxazepam            \n",
       "11397    234       oxazepam            \n",
       "2676992  204       casein kinases      \n",
       "1848382  190       diphosphoglycerate  \n",
       "2085819  42        tetranitromethane   "
      ],
      "text/html": "<div>\n<style scoped>\n    .dataframe tbody tr th:only-of-type {\n        vertical-align: middle;\n    }\n\n    .dataframe tbody tr th {\n        vertical-align: top;\n    }\n\n    .dataframe thead th {\n        text-align: right;\n    }\n</style>\n<table border=\"1\" class=\"dataframe\">\n  <thead>\n    <tr style=\"text-align: right;\">\n      <th></th>\n      <th>ABSTRACT_ID</th>\n      <th>TEXT</th>\n      <th>LOCATION</th>\n      <th>LABEL</th>\n    </tr>\n  </thead>\n  <tbody>\n    <tr>\n      <th>331391</th>\n      <td>6</td>\n      <td>a doubleblind T0 with intraindividual comparisons was carried out to investigate the effects of mg of ralphahydroxyisopropylalphahtropanium bromidetropate sch mg sch mg OX mg oxazepam and placebo with p.o. in randomized CS on gastric juice volume amount of acid concentration and ph values in healthy volunteers the secretion parameters were measured during a h basal period and a h stimulation period the gastric juice was obtained in min portions via stomach tube stimulation was effected by mugkgh PG via drip infusion the friedman test was used for the comparative statistical evaluation and individual comparisons were carried out by means of the wilcoxon test pairdifferences rank the results show that sch and sch OX were equal in effect on basal and stimulated secretion volume as compared with PL it was not possible to establish an effect on secretion volume for oxazepam CT sch and sch oxazepam were found to be equipotent in reducing the amount of basal acid while oxazepam reduced this quantity only during the first min of basal secretion none of the three AS S9 was capable of inhibiting the stimulated acid although both sch preparations produced a clear trend towards lowered mean values during the basal secretion period all three test S9 had an inhibiting action on acid concentration but none of them had a significant effect during the stimulation period the ph value was savely increased only by sch and sch OX and this even only during the basal period the results are discussed</td>\n      <td>112</td>\n      <td>oxazepam</td>\n    </tr>\n    <tr>\n      <th>11397</th>\n      <td>6</td>\n      <td>a doubleblind T0 with intraindividual comparisons was carried out to investigate the effects of mg of ralphahydroxyisopropylalphahtropanium bromidetropate sch mg sch mg OX mg oxazepam and placebo with p.o. in randomized CS on gastric juice volume amount of acid concentration and ph values in healthy volunteers the secretion parameters were measured during a h basal period and a h stimulation period the gastric juice was obtained in min portions via stomach tube stimulation was effected by mugkgh PG via drip infusion the friedman test was used for the comparative statistical evaluation and individual comparisons were carried out by means of the wilcoxon test pairdifferences rank the results show that sch and sch OX were equal in effect on basal and stimulated secretion volume as compared with PL it was not possible to establish an effect on secretion volume for oxazepam CT sch and sch oxazepam were found to be equipotent in reducing the amount of basal acid while oxazepam reduced this quantity only during the first min of basal secretion none of the three AS S9 was capable of inhibiting the stimulated acid although both sch preparations produced a clear trend towards lowered mean values during the basal secretion period all three test S9 had an inhibiting action on acid concentration but none of them had a significant effect during the stimulation period the ph value was savely increased only by sch and sch OX and this even only during the basal period the results are discussed</td>\n      <td>234</td>\n      <td>oxazepam</td>\n    </tr>\n    <tr>\n      <th>2676992</th>\n      <td>49</td>\n      <td>two rb erythrocyte casein kinases gtpcasein kinase i and gtpcasein kinase ii have been purified and fold respectively studies employing sucrose density gradient centrifugation indicate that kinase i has a molecular weight of about s and kinase ii about s these enzymes can utilize either atp or gtp as the phosphoryl donor among various protein substrates examined these kinases catalyze the phosphorylation of CS greater than dephosphorylated phosvitin congruent to dephosphorylated CS greater than phosvitin histones protamine and bovine serum Al are poor phosphoryl acceptors kinetic data indicate that both enzymes are inhibited by high casein substrate concentrations which may be partially relieved by nacl both phosphotransferases require mg for activity and are optimally AS at ph the enzymes have apparent km values of m for gtp m for atp and mgml for CS the incorporation of the terminal phosphate of gtp into CS as catalyzed by these enzymes is inhibited to varying degrees by atp itp adp and gdp but not by utp ctp gmp cAMP and guanosine cyclic monophosphate in addition naf and diphosphoglyceric acid are also found to inhibit the activity of both kinases the effect of 2,3-DPG is interesting and suggests that this metabolite may regulate the activity of the CK in the red blood cells</td>\n      <td>204</td>\n      <td>casein kinases</td>\n    </tr>\n    <tr>\n      <th>1848382</th>\n      <td>49</td>\n      <td>two rb erythrocyte casein kinases gtpcasein kinase i and gtpcasein kinase ii have been purified and fold respectively studies employing sucrose density gradient centrifugation indicate that kinase i has a molecular weight of about s and kinase ii about s these enzymes can utilize either atp or gtp as the phosphoryl donor among various protein substrates examined these kinases catalyze the phosphorylation of CS greater than dephosphorylated phosvitin congruent to dephosphorylated CS greater than phosvitin histones protamine and bovine serum Al are poor phosphoryl acceptors kinetic data indicate that both enzymes are inhibited by high casein substrate concentrations which may be partially relieved by nacl both phosphotransferases require mg for activity and are optimally AS at ph the enzymes have apparent km values of m for gtp m for atp and mgml for CS the incorporation of the terminal phosphate of gtp into CS as catalyzed by these enzymes is inhibited to varying degrees by atp itp adp and gdp but not by utp ctp gmp cAMP and guanosine cyclic monophosphate in addition naf and diphosphoglyceric acid are also found to inhibit the activity of both kinases the effect of 2,3-DPG is interesting and suggests that this metabolite may regulate the activity of the CK in the red blood cells</td>\n      <td>190</td>\n      <td>diphosphoglycerate</td>\n    </tr>\n    <tr>\n      <th>2085819</th>\n      <td>57</td>\n      <td>the MICs of hybrid dimers of ALP phosphatase containing two chemically modified subunits have been investigated one hybrid species was prepared by dissociation and reconstitution of a mixture of two SCV produced by chemical modification of the native enzyme with SA and TNM respectively the succinylnitrotyrosyl hybrid was separated from the other members of the hybrid set by deaesephadex chromatography and then converted to a succinylaminotyrosyl hybrid by reduction of the modified IMT residues with sodium dithionite a comparison of the MICs of these two hybrids with the activities of the succinyl nitrotyrosyl and aminotyrosyl derivatives has shown that either the subunits of ALP phosphatase CF independently or if the subunits turnover alternately in a reciprocating mechanism then the intrinsic activity of each S1 must be strongly dependent on its partner S1</td>\n      <td>42</td>\n      <td>tetranitromethane</td>\n    </tr>\n  </tbody>\n</table>\n</div>"
     },
     "metadata": {},
     "execution_count": 72
    }
   ],
   "source": [
    "duplicate.sort_values(by = ['ABSTRACT_ID']).head(5)"
   ]
  },
  {
   "source": [
    "### So, based on the above results for duplicates, it can be seen that a single Text might contain more than 1 Abbreviation at diffrent places. Thus, multiple row for multiple Abbreviations are present."
   ],
   "cell_type": "markdown",
   "metadata": {}
  }
 ]
}