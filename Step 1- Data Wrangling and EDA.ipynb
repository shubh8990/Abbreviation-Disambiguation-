{
 "metadata": {
  "language_info": {
   "codemirror_mode": {
    "name": "ipython",
    "version": 3
   },
   "file_extension": ".py",
   "mimetype": "text/x-python",
   "name": "python",
   "nbconvert_exporter": "python",
   "pygments_lexer": "ipython3",
   "version": "3.8.3-final"
  },
  "orig_nbformat": 2,
  "kernelspec": {
   "name": "python3",
   "display_name": "Python 3.8.3 64-bit (conda)",
   "metadata": {
    "interpreter": {
     "hash": "5711503aa775ae4aab8b7e3d1867329870f2ef034b0c2bb5c88ae00369442dcf"
    }
   }
  }
 },
 "nbformat": 4,
 "nbformat_minor": 2,
 "cells": [
  {
   "cell_type": "markdown",
   "metadata": {},
   "source": [
    "# Abbreviation Disambiguation in Medical Texts - Data Wrangling & EDA\n",
    "\n",
    "This Notebook is used to list down:\n",
    "\n",
    "1. How the Data for Test and Train sets was collected i.e, Data Sources.\n",
    "2. How the data has been organized for Training and Testing the model.\n",
    "3. Data Cleaning.\n",
    "4. Exploratory Data Analysis (EDA)."
   ]
  },
  {
   "cell_type": "markdown",
   "metadata": {},
   "source": [
    "## Step# 1: Downloading Data from Data Sources.\n",
    "\n",
    "            Data being used in this problem will be downloaded using Kaggle API from the below location:\n",
    "\n",
    "            https://www.kaggle.com/xhlulu/medal-emnlp"
   ]
  },
  {
   "cell_type": "code",
   "execution_count": null,
   "metadata": {},
   "outputs": [],
   "source": [
    "# Uncomment below lines to download the dataset directly from Kaggle\n",
    "## To Install Kaggle package in case it is not already present\n",
    "# !pip install kaggle\n",
    "## Download dataset\n",
    "# !kaggle datasets download -d xhlulu/medal-emnlp"
   ]
  },
  {
   "source": [
    "### Once the dataset has been downloaded lets check the directory contents"
   ],
   "cell_type": "markdown",
   "metadata": {}
  },
  {
   "cell_type": "code",
   "execution_count": 1,
   "metadata": {},
   "outputs": [],
   "source": [
    "#Importing the Required Python Packages\n",
    "import os\n",
    "import shutil\n",
    "import zipfile\n",
    "import pandas as pd\n",
    "import matplotlib.pyplot as plt"
   ]
  },
  {
   "cell_type": "markdown",
   "metadata": {},
   "source": [
    "Printing the Current Working Directory"
   ]
  },
  {
   "cell_type": "code",
   "execution_count": 2,
   "metadata": {
    "tags": []
   },
   "outputs": [
    {
     "output_type": "stream",
     "name": "stdout",
     "text": [
      "d:\\Learning\\Springboard\\GitHub\\Abbreviation-Disambiguation-\n"
     ]
    }
   ],
   "source": [
    "print(os.getcwd())"
   ]
  },
  {
   "cell_type": "markdown",
   "metadata": {},
   "source": [
    "## Step# 2: Organizing data into Logical folder structure from where the system will read the data and process it.\n"
   ]
  },
  {
   "cell_type": "markdown",
   "metadata": {},
   "source": [
    "    The Data for this problem will have the following Folder structure:\n",
    "\n",
    "    Work_Dir\n",
    "    |\n",
    "    |\n",
    "    |----> Data\n",
    "    |\n",
    "    |\n",
    "    |----> Train\n",
    "    |\n",
    "    |\n",
    "    |----> Test\n",
    "    |\n",
    "    |\n",
    "    |----> Validation\n",
    "    |\n",
    "    |\n",
    "    |----> Images\n",
    "    \n",
    "    Thus, creating the required Folder structure."
   ]
  },
  {
   "cell_type": "code",
   "execution_count": 3,
   "metadata": {},
   "outputs": [
    {
     "output_type": "stream",
     "name": "stdout",
     "text": [
      "d:\\Learning\\Springboard\\GitHub\\Abbreviation-Disambiguation-\n"
     ]
    }
   ],
   "source": [
    "#Reading the current path in a variable\n",
    "path = os.getcwd()\n",
    "print(path)"
   ]
  },
  {
   "cell_type": "code",
   "execution_count": 4,
   "metadata": {},
   "outputs": [],
   "source": [
    "#Creating a folder by name Train\n",
    "os.mkdir(os.path.join(path, 'Train'))"
   ]
  },
  {
   "cell_type": "code",
   "execution_count": 5,
   "metadata": {},
   "outputs": [],
   "source": [
    "#Creating a folder by name Test\n",
    "os.mkdir(os.path.join(path, 'Test'))"
   ]
  },
  {
   "cell_type": "code",
   "execution_count": 6,
   "metadata": {},
   "outputs": [],
   "source": [
    "#Creating a folder by name Data\n",
    "os.mkdir(os.path.join(path, 'Data'))"
   ]
  },
  {
   "cell_type": "code",
   "execution_count": 7,
   "metadata": {},
   "outputs": [],
   "source": [
    "#Creating a folder by name Validation\n",
    "os.mkdir(os.path.join(path, 'Validation'))"
   ]
  },
  {
   "cell_type": "code",
   "execution_count": 8,
   "metadata": {},
   "outputs": [],
   "source": [
    "#Creating a folder by name Images\n",
    "os.mkdir(os.path.join(path, 'Images'))"
   ]
  },
  {
   "source": [
    "Moving the NLP_Dataset.zip file into the Data folder and then unzipping the file"
   ],
   "cell_type": "markdown",
   "metadata": {}
  },
  {
   "cell_type": "code",
   "execution_count": 9,
   "metadata": {},
   "outputs": [
    {
     "output_type": "execute_result",
     "data": {
      "text/plain": [
       "'d:\\\\Learning\\\\Springboard\\\\GitHub\\\\Abbreviation-Disambiguation-\\\\Data\\\\NLP_Dataset.zip'"
      ]
     },
     "metadata": {},
     "execution_count": 9
    }
   ],
   "source": [
    "#Moving the file to Data folder\n",
    "source = os.path.join(path, 'NLP_Dataset.zip')\n",
    "destination = os.path.join(path, 'Data', 'NLP_Dataset.zip')\n",
    "shutil.move(source, destination)"
   ]
  },
  {
   "cell_type": "code",
   "execution_count": 10,
   "metadata": {},
   "outputs": [
    {
     "output_type": "stream",
     "name": "stdout",
     "text": [
      "['NLP_Dataset.zip']\n"
     ]
    }
   ],
   "source": [
    "#Check the contents of Data folder\n",
    "print(os.listdir(os.path.join(path, 'Data')))"
   ]
  },
  {
   "cell_type": "code",
   "execution_count": 11,
   "metadata": {},
   "outputs": [],
   "source": [
    "#Unzip the dataset file\n",
    "with zipfile.ZipFile(destination, 'r') as zip_ref:\n",
    "    zip_ref.extractall(os.path.join(path, 'Data'))"
   ]
  },
  {
   "cell_type": "code",
   "execution_count": 12,
   "metadata": {},
   "outputs": [
    {
     "output_type": "stream",
     "name": "stdout",
     "text": [
      "['full_data.csv', 'NLP_Dataset.zip', 'pretrain_subset']\n"
     ]
    }
   ],
   "source": [
    "#Check the contents of Data folder\n",
    "print(os.listdir(os.path.join(path, 'Data')))"
   ]
  },
  {
   "source": [
    "Data was successfully extracted and a new folder 'pretrain_subset' was also created, Let's check the contents of that folder."
   ],
   "cell_type": "markdown",
   "metadata": {}
  },
  {
   "cell_type": "code",
   "execution_count": 13,
   "metadata": {},
   "outputs": [
    {
     "output_type": "stream",
     "name": "stdout",
     "text": [
      "['test.csv', 'train.csv', 'valid.csv']\n"
     ]
    }
   ],
   "source": [
    "#Check the contents of pretrain_subset folder\n",
    "print(os.listdir(os.path.join(path, 'Data', 'pretrain_subset')))"
   ]
  },
  {
   "source": [
    "Pretrain_subset folder contains the dataset already divided into 3 different files- Train, test and valid. We will use the the data in this folder due to system memory restrictions."
   ],
   "cell_type": "markdown",
   "metadata": {}
  },
  {
   "cell_type": "code",
   "execution_count": 14,
   "metadata": {},
   "outputs": [
    {
     "output_type": "stream",
     "name": "stdout",
     "text": [
      "['NLP_Dataset.zip', 'pretrain_subset', 'test.csv', 'train.csv', 'valid.csv']\n"
     ]
    }
   ],
   "source": [
    "# Deleting full_data.csv and moving train, test and valid files to Data folder.\n",
    "source = os.path.join(path, 'Data', 'pretrain_subset')\n",
    "destination = os.path.join(path, 'Data')\n",
    "shutil.move(os.path.join(source, 'train.csv'), os.path.join(destination, 'train.csv'))\n",
    "shutil.move(os.path.join(source, 'test.csv'), os.path.join(destination, 'test.csv'))\n",
    "shutil.move(os.path.join(source, 'valid.csv'), os.path.join(destination, 'valid.csv'))\n",
    "os.remove(os.path.join(destination, 'full_data.csv'))\n",
    "\n",
    "#Check the contents of Data folder\n",
    "print(os.listdir(os.path.join(path, 'Data')))"
   ]
  },
  {
   "cell_type": "markdown",
   "metadata": {},
   "source": [
    "## Step# 3: Cleaning Data"
   ]
  },
  {
   "source": [
    "### Lets have a look at our data."
   ],
   "cell_type": "markdown",
   "metadata": {}
  },
  {
   "cell_type": "code",
   "execution_count": 15,
   "metadata": {},
   "outputs": [
    {
     "output_type": "stream",
     "name": "stdout",
     "text": [
      "d:\\Learning\\Springboard\\GitHub\\Abbreviation-Disambiguation-\\Data\\train.csv\n"
     ]
    }
   ],
   "source": [
    "#Creating a path variable directly to the dataset\n",
    "data_path = os.path.join(path, 'Data', 'train.csv')\n",
    "print(data_path)"
   ]
  },
  {
   "cell_type": "code",
   "execution_count": 16,
   "metadata": {},
   "outputs": [],
   "source": [
    "# Loading the data in a dataframe.\n",
    "textDF = pd.read_csv(data_path)"
   ]
  },
  {
   "cell_type": "code",
   "execution_count": 17,
   "metadata": {},
   "outputs": [
    {
     "output_type": "execute_result",
     "data": {
      "text/plain": [
       "(3000000, 4)"
      ]
     },
     "metadata": {},
     "execution_count": 17
    }
   ],
   "source": [
    "#Checking the shape of Dataframe\n",
    "textDF.shape"
   ]
  },
  {
   "source": [
    "### The Data contains 3 million rows but my System won't be able to work with such a huge dataset hence, will take the first 1 Million rows only for this project."
   ],
   "cell_type": "markdown",
   "metadata": {}
  },
  {
   "cell_type": "code",
   "execution_count": 20,
   "metadata": {},
   "outputs": [
    {
     "output_type": "execute_result",
     "data": {
      "text/plain": [
       "(1000000, 4)"
      ]
     },
     "metadata": {},
     "execution_count": 20
    }
   ],
   "source": [
    "textDF.drop(textDF.index[1000000:], inplace = True)\n",
    "textDF.shape"
   ]
  },
  {
   "cell_type": "code",
   "execution_count": 21,
   "metadata": {},
   "outputs": [
    {
     "output_type": "execute_result",
     "data": {
      "text/plain": [
       "   ABSTRACT_ID                                               TEXT  LOCATION  \\\n",
       "0     14145090  velvet antlers vas are commonly used in tradit...        63   \n",
       "1      1900667  the clinical features of our cases demonstrate...        85   \n",
       "2      8625554  ceftobiprole bpr is an investigational cephalo...        90   \n",
       "3      8157202  we have taken a basic biologic RPA to elucidat...        26   \n",
       "4      6784974  lipoperoxidationderived aldehydes for example ...       157   \n",
       "\n",
       "                                LABEL  \n",
       "0      transverse aortic constriction  \n",
       "1                   hodgkins lymphoma  \n",
       "2     methicillinsusceptible s aureus  \n",
       "3  parathyroid hormonerelated protein  \n",
       "4                    lipoperoxidation  "
      ],
      "text/html": "<div>\n<style scoped>\n    .dataframe tbody tr th:only-of-type {\n        vertical-align: middle;\n    }\n\n    .dataframe tbody tr th {\n        vertical-align: top;\n    }\n\n    .dataframe thead th {\n        text-align: right;\n    }\n</style>\n<table border=\"1\" class=\"dataframe\">\n  <thead>\n    <tr style=\"text-align: right;\">\n      <th></th>\n      <th>ABSTRACT_ID</th>\n      <th>TEXT</th>\n      <th>LOCATION</th>\n      <th>LABEL</th>\n    </tr>\n  </thead>\n  <tbody>\n    <tr>\n      <th>0</th>\n      <td>14145090</td>\n      <td>velvet antlers vas are commonly used in tradit...</td>\n      <td>63</td>\n      <td>transverse aortic constriction</td>\n    </tr>\n    <tr>\n      <th>1</th>\n      <td>1900667</td>\n      <td>the clinical features of our cases demonstrate...</td>\n      <td>85</td>\n      <td>hodgkins lymphoma</td>\n    </tr>\n    <tr>\n      <th>2</th>\n      <td>8625554</td>\n      <td>ceftobiprole bpr is an investigational cephalo...</td>\n      <td>90</td>\n      <td>methicillinsusceptible s aureus</td>\n    </tr>\n    <tr>\n      <th>3</th>\n      <td>8157202</td>\n      <td>we have taken a basic biologic RPA to elucidat...</td>\n      <td>26</td>\n      <td>parathyroid hormonerelated protein</td>\n    </tr>\n    <tr>\n      <th>4</th>\n      <td>6784974</td>\n      <td>lipoperoxidationderived aldehydes for example ...</td>\n      <td>157</td>\n      <td>lipoperoxidation</td>\n    </tr>\n  </tbody>\n</table>\n</div>"
     },
     "metadata": {},
     "execution_count": 21
    }
   ],
   "source": [
    "#Checking the first 5 rows of the dataframe\n",
    "textDF.head(5)"
   ]
  },
  {
   "cell_type": "code",
   "execution_count": 22,
   "metadata": {},
   "outputs": [
    {
     "output_type": "execute_result",
     "data": {
      "text/plain": [
       "        ABSTRACT_ID                                               TEXT  \\\n",
       "999995       658615  in vivo flow p nmr spectroscopy of a microscop...   \n",
       "999996      4297576  this study evaluated whether the number of gra...   \n",
       "999997       500044  gmcsf is a major regulator of myelopoiesis rhG...   \n",
       "999998     13583706  irritability is an aspect of the negative affe...   \n",
       "999999      1540457  hypercalcemia is an uncommon complication of c...   \n",
       "\n",
       "        LOCATION                            LABEL  \n",
       "999995        34              saturation transfer  \n",
       "999996        52          severe aplastic anaemia  \n",
       "999997         7          recombinant human gmcsf  \n",
       "999998       127               healthy comparison  \n",
       "999999        27  congenital mesoblastic nephroma  "
      ],
      "text/html": "<div>\n<style scoped>\n    .dataframe tbody tr th:only-of-type {\n        vertical-align: middle;\n    }\n\n    .dataframe tbody tr th {\n        vertical-align: top;\n    }\n\n    .dataframe thead th {\n        text-align: right;\n    }\n</style>\n<table border=\"1\" class=\"dataframe\">\n  <thead>\n    <tr style=\"text-align: right;\">\n      <th></th>\n      <th>ABSTRACT_ID</th>\n      <th>TEXT</th>\n      <th>LOCATION</th>\n      <th>LABEL</th>\n    </tr>\n  </thead>\n  <tbody>\n    <tr>\n      <th>999995</th>\n      <td>658615</td>\n      <td>in vivo flow p nmr spectroscopy of a microscop...</td>\n      <td>34</td>\n      <td>saturation transfer</td>\n    </tr>\n    <tr>\n      <th>999996</th>\n      <td>4297576</td>\n      <td>this study evaluated whether the number of gra...</td>\n      <td>52</td>\n      <td>severe aplastic anaemia</td>\n    </tr>\n    <tr>\n      <th>999997</th>\n      <td>500044</td>\n      <td>gmcsf is a major regulator of myelopoiesis rhG...</td>\n      <td>7</td>\n      <td>recombinant human gmcsf</td>\n    </tr>\n    <tr>\n      <th>999998</th>\n      <td>13583706</td>\n      <td>irritability is an aspect of the negative affe...</td>\n      <td>127</td>\n      <td>healthy comparison</td>\n    </tr>\n    <tr>\n      <th>999999</th>\n      <td>1540457</td>\n      <td>hypercalcemia is an uncommon complication of c...</td>\n      <td>27</td>\n      <td>congenital mesoblastic nephroma</td>\n    </tr>\n  </tbody>\n</table>\n</div>"
     },
     "metadata": {},
     "execution_count": 22
    }
   ],
   "source": [
    "#Checking last 5 rows of the dataframe\n",
    "textDF.tail(5)"
   ]
  },
  {
   "cell_type": "code",
   "execution_count": 23,
   "metadata": {},
   "outputs": [
    {
     "output_type": "execute_result",
     "data": {
      "text/plain": [
       "         ABSTRACT_ID                                               TEXT  \\\n",
       "count   1.000000e+06                                            1000000   \n",
       "unique           NaN                                             939852   \n",
       "top              NaN  purpose to investigate the effect of coordinat...   \n",
       "freq             NaN                                                  7   \n",
       "mean    7.027032e+06                                                NaN   \n",
       "std     4.594329e+06                                                NaN   \n",
       "min     6.000000e+00                                                NaN   \n",
       "25%     3.057271e+06                                                NaN   \n",
       "50%     6.381622e+06                                                NaN   \n",
       "75%     1.082703e+07                                                NaN   \n",
       "max     1.617054e+07                                                NaN   \n",
       "\n",
       "              LOCATION         LABEL  \n",
       "count   1000000.000000       1000000  \n",
       "unique             NaN         22490  \n",
       "top                NaN  tibial nerve  \n",
       "freq               NaN           118  \n",
       "mean         76.750360           NaN  \n",
       "std          67.603551           NaN  \n",
       "min           0.000000           NaN  \n",
       "25%          22.000000           NaN  \n",
       "50%          60.000000           NaN  \n",
       "75%         114.000000           NaN  \n",
       "max        1401.000000           NaN  "
      ],
      "text/html": "<div>\n<style scoped>\n    .dataframe tbody tr th:only-of-type {\n        vertical-align: middle;\n    }\n\n    .dataframe tbody tr th {\n        vertical-align: top;\n    }\n\n    .dataframe thead th {\n        text-align: right;\n    }\n</style>\n<table border=\"1\" class=\"dataframe\">\n  <thead>\n    <tr style=\"text-align: right;\">\n      <th></th>\n      <th>ABSTRACT_ID</th>\n      <th>TEXT</th>\n      <th>LOCATION</th>\n      <th>LABEL</th>\n    </tr>\n  </thead>\n  <tbody>\n    <tr>\n      <th>count</th>\n      <td>1.000000e+06</td>\n      <td>1000000</td>\n      <td>1000000.000000</td>\n      <td>1000000</td>\n    </tr>\n    <tr>\n      <th>unique</th>\n      <td>NaN</td>\n      <td>939852</td>\n      <td>NaN</td>\n      <td>22490</td>\n    </tr>\n    <tr>\n      <th>top</th>\n      <td>NaN</td>\n      <td>purpose to investigate the effect of coordinat...</td>\n      <td>NaN</td>\n      <td>tibial nerve</td>\n    </tr>\n    <tr>\n      <th>freq</th>\n      <td>NaN</td>\n      <td>7</td>\n      <td>NaN</td>\n      <td>118</td>\n    </tr>\n    <tr>\n      <th>mean</th>\n      <td>7.027032e+06</td>\n      <td>NaN</td>\n      <td>76.750360</td>\n      <td>NaN</td>\n    </tr>\n    <tr>\n      <th>std</th>\n      <td>4.594329e+06</td>\n      <td>NaN</td>\n      <td>67.603551</td>\n      <td>NaN</td>\n    </tr>\n    <tr>\n      <th>min</th>\n      <td>6.000000e+00</td>\n      <td>NaN</td>\n      <td>0.000000</td>\n      <td>NaN</td>\n    </tr>\n    <tr>\n      <th>25%</th>\n      <td>3.057271e+06</td>\n      <td>NaN</td>\n      <td>22.000000</td>\n      <td>NaN</td>\n    </tr>\n    <tr>\n      <th>50%</th>\n      <td>6.381622e+06</td>\n      <td>NaN</td>\n      <td>60.000000</td>\n      <td>NaN</td>\n    </tr>\n    <tr>\n      <th>75%</th>\n      <td>1.082703e+07</td>\n      <td>NaN</td>\n      <td>114.000000</td>\n      <td>NaN</td>\n    </tr>\n    <tr>\n      <th>max</th>\n      <td>1.617054e+07</td>\n      <td>NaN</td>\n      <td>1401.000000</td>\n      <td>NaN</td>\n    </tr>\n  </tbody>\n</table>\n</div>"
     },
     "metadata": {},
     "execution_count": 23
    }
   ],
   "source": [
    "#Checking the summary statistics of the dataframe\n",
    "textDF.describe(include = 'all')"
   ]
  },
  {
   "cell_type": "code",
   "execution_count": 24,
   "metadata": {},
   "outputs": [
    {
     "output_type": "execute_result",
     "data": {
      "text/plain": [
       "ABSTRACT_ID     int64\n",
       "TEXT           object\n",
       "LOCATION        int64\n",
       "LABEL          object\n",
       "dtype: object"
      ]
     },
     "metadata": {},
     "execution_count": 24
    }
   ],
   "source": [
    "#Checking the datatypes of dataframe columns\n",
    "textDF.dtypes"
   ]
  },
  {
   "cell_type": "code",
   "execution_count": 25,
   "metadata": {},
   "outputs": [
    {
     "output_type": "execute_result",
     "data": {
      "text/plain": [
       "939860"
      ]
     },
     "metadata": {},
     "execution_count": 25
    }
   ],
   "source": [
    "# Checking the unique Abstract_id to see if Abstract_id can be converted to Index\n",
    "textDF['ABSTRACT_ID'].nunique()"
   ]
  },
  {
   "source": [
    "Hence, the Abstract_ID's are not all unique. So, lets check the duplicates in the dataset."
   ],
   "cell_type": "markdown",
   "metadata": {}
  },
  {
   "cell_type": "code",
   "execution_count": 26,
   "metadata": {},
   "outputs": [
    {
     "output_type": "execute_result",
     "data": {
      "text/plain": [
       "Empty DataFrame\n",
       "Columns: [ABSTRACT_ID, TEXT, LOCATION, LABEL]\n",
       "Index: []"
      ],
      "text/html": "<div>\n<style scoped>\n    .dataframe tbody tr th:only-of-type {\n        vertical-align: middle;\n    }\n\n    .dataframe tbody tr th {\n        vertical-align: top;\n    }\n\n    .dataframe thead th {\n        text-align: right;\n    }\n</style>\n<table border=\"1\" class=\"dataframe\">\n  <thead>\n    <tr style=\"text-align: right;\">\n      <th></th>\n      <th>ABSTRACT_ID</th>\n      <th>TEXT</th>\n      <th>LOCATION</th>\n      <th>LABEL</th>\n    </tr>\n  </thead>\n  <tbody>\n  </tbody>\n</table>\n</div>"
     },
     "metadata": {},
     "execution_count": 26
    }
   ],
   "source": [
    "duplicate = textDF[textDF.duplicated()]\n",
    "duplicate.head(5)"
   ]
  },
  {
   "source": [
    "Hence, none of the rows are duplicates."
   ],
   "cell_type": "markdown",
   "metadata": {}
  },
  {
   "cell_type": "code",
   "execution_count": 27,
   "metadata": {},
   "outputs": [
    {
     "output_type": "execute_result",
     "data": {
      "text/plain": [
       "False"
      ]
     },
     "metadata": {},
     "execution_count": 27
    }
   ],
   "source": [
    "# Lets check for null values if any\n",
    "textDF.isnull().values.any()"
   ]
  },
  {
   "source": [
    "Thus, we don't have any Null values in the dataset."
   ],
   "cell_type": "markdown",
   "metadata": {}
  },
  {
   "cell_type": "markdown",
   "metadata": {},
   "source": [
    "### At this point the Data Wrangling has been completed and the resulting data is now ready for EDA"
   ]
  },
  {
   "source": [
    "## Step# 4: EDA"
   ],
   "cell_type": "markdown",
   "metadata": {}
  },
  {
   "cell_type": "code",
   "execution_count": 28,
   "metadata": {},
   "outputs": [
    {
     "output_type": "execute_result",
     "data": {
      "text/plain": [
       "   ABSTRACT_ID  \\\n",
       "0  14145090      \n",
       "\n",
       "                                                                                                                                                                                                                                                                                                                                                                                                                                                                                                                                                                                                                                                                                                                                                                                                                                                                                                                                                                                                                                                                                                                                                                                                                                                                                                                                                                                                           TEXT  \\\n",
       "0  velvet antlers vas are commonly used in traditional chinese medicine and invigorant and contain many PET components for health promotion the velvet antler peptide svap is one of active components in vas based on structural study the svap interacts with tgfÎ² receptors and disrupts the tgfÎ² pathway we hypothesized that svap prevents cardiac fibrosis from pressure overload by blocking tgfÎ² signaling SDRs underwent TAC tac or a sham operation T3 one month rats received either svap mgkgday or vehicle for an additional one month tac surgery induced significant cardiac dysfunction FB activation and fibrosis these effects were improved by treatment with svap in the heart tissue tac remarkably increased the expression of tgfÎ² and connective tissue growth factor ctgf ROS species C2 and the phosphorylation C2 of smad and ERK kinases erk svap inhibited the increases in reactive oxygen species C2 ctgf expression and the phosphorylation of smad and erk but not tgfÎ² expression in cultured cardiac fibroblasts angiotensin ii ang ii had similar effects compared to tac surgery such as increases in Î±smapositive CFs and collagen synthesis svap eliminated these effects by disrupting tgfÎ² IB to its receptors and blocking ang iitgfÎ² downstream signaling these results demonstrated that svap has antifibrotic effects by blocking the tgfÎ² pathway in CFs   \n",
       "\n",
       "   LOCATION                           LABEL  \n",
       "0  63        transverse aortic constriction  "
      ],
      "text/html": "<div>\n<style scoped>\n    .dataframe tbody tr th:only-of-type {\n        vertical-align: middle;\n    }\n\n    .dataframe tbody tr th {\n        vertical-align: top;\n    }\n\n    .dataframe thead th {\n        text-align: right;\n    }\n</style>\n<table border=\"1\" class=\"dataframe\">\n  <thead>\n    <tr style=\"text-align: right;\">\n      <th></th>\n      <th>ABSTRACT_ID</th>\n      <th>TEXT</th>\n      <th>LOCATION</th>\n      <th>LABEL</th>\n    </tr>\n  </thead>\n  <tbody>\n    <tr>\n      <th>0</th>\n      <td>14145090</td>\n      <td>velvet antlers vas are commonly used in traditional chinese medicine and invigorant and contain many PET components for health promotion the velvet antler peptide svap is one of active components in vas based on structural study the svap interacts with tgfÎ² receptors and disrupts the tgfÎ² pathway we hypothesized that svap prevents cardiac fibrosis from pressure overload by blocking tgfÎ² signaling SDRs underwent TAC tac or a sham operation T3 one month rats received either svap mgkgday or vehicle for an additional one month tac surgery induced significant cardiac dysfunction FB activation and fibrosis these effects were improved by treatment with svap in the heart tissue tac remarkably increased the expression of tgfÎ² and connective tissue growth factor ctgf ROS species C2 and the phosphorylation C2 of smad and ERK kinases erk svap inhibited the increases in reactive oxygen species C2 ctgf expression and the phosphorylation of smad and erk but not tgfÎ² expression in cultured cardiac fibroblasts angiotensin ii ang ii had similar effects compared to tac surgery such as increases in Î±smapositive CFs and collagen synthesis svap eliminated these effects by disrupting tgfÎ² IB to its receptors and blocking ang iitgfÎ² downstream signaling these results demonstrated that svap has antifibrotic effects by blocking the tgfÎ² pathway in CFs</td>\n      <td>63</td>\n      <td>transverse aortic constriction</td>\n    </tr>\n  </tbody>\n</table>\n</div>"
     },
     "metadata": {},
     "execution_count": 28
    }
   ],
   "source": [
    "# Lets look at one row of the dataset in detail\n",
    "pd.set_option('display.max_colwidth', -1)\n",
    "textDF.head(1)"
   ]
  },
  {
   "source": [
    "### As per dataset specifications, location column signifies the word count after which the Abbreviation occurs and its Label is provided in Lable column."
   ],
   "cell_type": "markdown",
   "metadata": {}
  },
  {
   "cell_type": "code",
   "execution_count": 29,
   "metadata": {},
   "outputs": [],
   "source": [
    "# Lets check the Abbreviations of first 10 rows of the dataset alongwith their labels\n",
    "split_text = [ t.split(' ') for t in textDF[:10]['TEXT']]\n",
    "label = [t for t in textDF[:10]['LABEL']]\n",
    "location = [t for t in textDF[:10]['LOCATION']]"
   ]
  },
  {
   "cell_type": "code",
   "execution_count": 30,
   "metadata": {},
   "outputs": [
    {
     "output_type": "stream",
     "name": "stdout",
     "text": [
      "transverse aortic constriction  --  TAC\nhodgkins lymphoma  --  HD\nmethicillinsusceptible s aureus  --  MSSA\nparathyroid hormonerelated protein  --  PTHrP\nlipoperoxidation  --  LPO\nhepatitis g virus  --  HGV\nradical neck dissection  --  RND\namplified spontaneous emission  --  ASE\nportal blood  --  HPB\nwestern medicine  --  WM\n"
     ]
    }
   ],
   "source": [
    "for i in range(0,10):\n",
    "    print(label[i], ' -- ', split_text[i][location[i]])"
   ]
  },
  {
   "source": [
    "From the above analysis, the relationship between Location, Label and Text columns are clearly visible. "
   ],
   "cell_type": "markdown",
   "metadata": {}
  },
  {
   "source": [
    "### Let us again check the number of unique ABSTRACT_ID in Dataset"
   ],
   "cell_type": "markdown",
   "metadata": {}
  },
  {
   "cell_type": "code",
   "execution_count": 31,
   "metadata": {},
   "outputs": [
    {
     "output_type": "execute_result",
     "data": {
      "text/plain": [
       "939860"
      ]
     },
     "metadata": {},
     "execution_count": 31
    }
   ],
   "source": [
    "# Checking the unique Abstract_id\n",
    "textDF['ABSTRACT_ID'].nunique()"
   ]
  },
  {
   "cell_type": "code",
   "execution_count": 32,
   "metadata": {},
   "outputs": [
    {
     "output_type": "execute_result",
     "data": {
      "text/plain": [
       "(1000000, 4)"
      ]
     },
     "metadata": {},
     "execution_count": 32
    }
   ],
   "source": [
    "# Checking the shape of the Dataset\n",
    "textDF.shape"
   ]
  },
  {
   "source": [
    "It can be seen here that there are some Abstract_ID's which are not unique. Lets find those abstracts and check what is the main differences"
   ],
   "cell_type": "markdown",
   "metadata": {}
  },
  {
   "cell_type": "code",
   "execution_count": 33,
   "metadata": {},
   "outputs": [],
   "source": [
    "duplicate = textDF[textDF['ABSTRACT_ID'].duplicated(keep = False)]"
   ]
  },
  {
   "cell_type": "code",
   "execution_count": 34,
   "metadata": {},
   "outputs": [
    {
     "output_type": "execute_result",
     "data": {
      "text/plain": [
       "        ABSTRACT_ID  \\\n",
       "11397   6             \n",
       "331391  6             \n",
       "627471  75            \n",
       "742153  75            \n",
       "583421  212           \n",
       "\n",
       "                                                                                                                                                                                                                                                                                                                                                                                                                                                                                                                                                                                                                                                                                                                                                                                                                                                                                                                                                                                                                                                                                                                                                                                                                                                                                                                                                                                                                                                                                                                                                                                                                                                                                                                                                                                                                                                                                            TEXT  \\\n",
       "11397   a doubleblind T0 with intraindividual comparisons was carried out to investigate the effects of mg of ralphahydroxyisopropylalphahtropanium bromidetropate sch mg sch mg OX mg oxazepam and placebo with p.o. in randomized CS on gastric juice volume amount of acid concentration and ph values in healthy volunteers the secretion parameters were measured during a h basal period and a h stimulation period the gastric juice was obtained in min portions via stomach tube stimulation was effected by mugkgh PG via drip infusion the friedman test was used for the comparative statistical evaluation and individual comparisons were carried out by means of the wilcoxon test pairdifferences rank the results show that sch and sch OX were equal in effect on basal and stimulated secretion volume as compared with PL it was not possible to establish an effect on secretion volume for oxazepam CT sch and sch oxazepam were found to be equipotent in reducing the amount of basal acid while oxazepam reduced this quantity only during the first min of basal secretion none of the three AS S9 was capable of inhibiting the stimulated acid although both sch preparations produced a clear trend towards lowered mean values during the basal secretion period all three test S9 had an inhibiting action on acid concentration but none of them had a significant effect during the stimulation period the ph value was savely increased only by sch and sch OX and this even only during the basal period the results are discussed                                                                                                                                                                                                                                                                                                                              \n",
       "331391  a doubleblind T0 with intraindividual comparisons was carried out to investigate the effects of mg of ralphahydroxyisopropylalphahtropanium bromidetropate sch mg sch mg OX mg oxazepam and placebo with p.o. in randomized CS on gastric juice volume amount of acid concentration and ph values in healthy volunteers the secretion parameters were measured during a h basal period and a h stimulation period the gastric juice was obtained in min portions via stomach tube stimulation was effected by mugkgh PG via drip infusion the friedman test was used for the comparative statistical evaluation and individual comparisons were carried out by means of the wilcoxon test pairdifferences rank the results show that sch and sch OX were equal in effect on basal and stimulated secretion volume as compared with PL it was not possible to establish an effect on secretion volume for oxazepam CT sch and sch oxazepam were found to be equipotent in reducing the amount of basal acid while oxazepam reduced this quantity only during the first min of basal secretion none of the three AS S9 was capable of inhibiting the stimulated acid although both sch preparations produced a clear trend towards lowered mean values during the basal secretion period all three test S9 had an inhibiting action on acid concentration but none of them had a significant effect during the stimulation period the ph value was savely increased only by sch and sch OX and this even only during the basal period the results are discussed                                                                                                                                                                                                                                                                                                                              \n",
       "627471  P2 fractions p derived from guineapig CBF cortex were incubated in the presence of mm kcl in a krebsglucose medium torpedo marmorata electric organs were stimulated electrically in vivo at pulsessec for min by electrodes placed on the electric lobe synaptic LDV were isolated from each source and the phospholipid compositions analysed and compared with LDV from unstimulated controls lysophosphatidylcholine was the only lysophosphoglyceride demonstrable in the SVs from either source and its low levels did not increase as a result of chemical or electircal stimulation in each case there was a close similarity of the phospholipid distributions in the vesicles taken from control and stimulated samples control experiments indicated extensive decreases in the acetylcholine content of the LDV from the stimulated electric organ and smaller decreases in the acetylcholine content of the SVs from stimulated crude synaptosomal fractions these fractions were found to respire linearly in the presence of mm glucose and the vesicle fractions were shown to have low levels of contaiminating membranes as judged by marker enzyme analyses P2 fractions from guineapig cerebral SC were incubated in a krebsglucose medium with labelled fatty acids and hglucose in the presence or absence of mm kcl subsynaptosomal fractionation was carried out and specific radioactivities of phosphatidylcholine phosphatidylethanolamine phosphatidylserine and phosphatidylinositol were determined in fractions d SVs e microsomes and h disrupted synaptosomes the release of neurotransmitter did not significantly enhance the labelling of phospholipids in any of the fractions studied as compared with phospholipids from unstimulated fractions this was found after two incubation times and using coleate carachidonate hpalmitate and hglucose   \n",
       "742153  P2 fractions p derived from guineapig CBF cortex were incubated in the presence of mm kcl in a krebsglucose medium torpedo marmorata electric organs were stimulated electrically in vivo at pulsessec for min by electrodes placed on the electric lobe synaptic LDV were isolated from each source and the phospholipid compositions analysed and compared with LDV from unstimulated controls lysophosphatidylcholine was the only lysophosphoglyceride demonstrable in the SVs from either source and its low levels did not increase as a result of chemical or electircal stimulation in each case there was a close similarity of the phospholipid distributions in the vesicles taken from control and stimulated samples control experiments indicated extensive decreases in the acetylcholine content of the LDV from the stimulated electric organ and smaller decreases in the acetylcholine content of the SVs from stimulated crude synaptosomal fractions these fractions were found to respire linearly in the presence of mm glucose and the vesicle fractions were shown to have low levels of contaiminating membranes as judged by marker enzyme analyses P2 fractions from guineapig cerebral SC were incubated in a krebsglucose medium with labelled fatty acids and hglucose in the presence or absence of mm kcl subsynaptosomal fractionation was carried out and specific radioactivities of phosphatidylcholine phosphatidylethanolamine phosphatidylserine and phosphatidylinositol were determined in fractions d SVs e microsomes and h disrupted synaptosomes the release of neurotransmitter did not significantly enhance the labelling of phospholipids in any of the fractions studied as compared with phospholipids from unstimulated fractions this was found after two incubation times and using coleate carachidonate hpalmitate and hglucose   \n",
       "583421  the beige mouse is an animal MM for the human chediakhigashi syndrome a disease characterized by giant lysosomes in most cell types in mice treatment with androgenic hormones causes a fold elevation in at least one kidney lysosomal enzyme betaglucuronidase beige mice treated with androgen had significantly higher kidney betaglucuronidase betagalactosidase and nacetylbetadglucosaminidase Hex C2 than normal mice other androgeninducible enzymes and enzyme markers for the cytosol mitochondria and peroxisomes were not increased in kidney of beige mice no significant lysosomal enzyme elevation was observed in five other organs of beige mice with or without androgen treatment nor in kidneys of beige females not treated with androgen histochemical staining for glucuronidase together with subcellular fractionation showed that the higher GUS content of beige mouse kidney is caused by a striking accumulation of giant glucuronidasecontaining lysosomes in tubule cells near the corticomedullary boundary in NM lysosomal enzymes are coordinately released into the lumen of the kidney tubules and appreciable amounts of lysosomal enzymes are present in the urine levels of urinary lysosomal enzymes are much lower in beige mice than in normal mice it appears that lysosomes may accumulate in beige mice because of defective exocytosis resulting either from decreased intracellular motility of lysosomes or from their improper F0 with the plasma membrane a similar defect could account for characteristics of the CHS                                                                                                                                                                                                                                                                                                                 \n",
       "\n",
       "        LOCATION               LABEL  \n",
       "11397   234       oxazepam            \n",
       "331391  112       oxazepam            \n",
       "627471  0         crude synaptosomal  \n",
       "742153  171       crude synaptosomal  \n",
       "583421  119       glucuronidase       "
      ],
      "text/html": "<div>\n<style scoped>\n    .dataframe tbody tr th:only-of-type {\n        vertical-align: middle;\n    }\n\n    .dataframe tbody tr th {\n        vertical-align: top;\n    }\n\n    .dataframe thead th {\n        text-align: right;\n    }\n</style>\n<table border=\"1\" class=\"dataframe\">\n  <thead>\n    <tr style=\"text-align: right;\">\n      <th></th>\n      <th>ABSTRACT_ID</th>\n      <th>TEXT</th>\n      <th>LOCATION</th>\n      <th>LABEL</th>\n    </tr>\n  </thead>\n  <tbody>\n    <tr>\n      <th>11397</th>\n      <td>6</td>\n      <td>a doubleblind T0 with intraindividual comparisons was carried out to investigate the effects of mg of ralphahydroxyisopropylalphahtropanium bromidetropate sch mg sch mg OX mg oxazepam and placebo with p.o. in randomized CS on gastric juice volume amount of acid concentration and ph values in healthy volunteers the secretion parameters were measured during a h basal period and a h stimulation period the gastric juice was obtained in min portions via stomach tube stimulation was effected by mugkgh PG via drip infusion the friedman test was used for the comparative statistical evaluation and individual comparisons were carried out by means of the wilcoxon test pairdifferences rank the results show that sch and sch OX were equal in effect on basal and stimulated secretion volume as compared with PL it was not possible to establish an effect on secretion volume for oxazepam CT sch and sch oxazepam were found to be equipotent in reducing the amount of basal acid while oxazepam reduced this quantity only during the first min of basal secretion none of the three AS S9 was capable of inhibiting the stimulated acid although both sch preparations produced a clear trend towards lowered mean values during the basal secretion period all three test S9 had an inhibiting action on acid concentration but none of them had a significant effect during the stimulation period the ph value was savely increased only by sch and sch OX and this even only during the basal period the results are discussed</td>\n      <td>234</td>\n      <td>oxazepam</td>\n    </tr>\n    <tr>\n      <th>331391</th>\n      <td>6</td>\n      <td>a doubleblind T0 with intraindividual comparisons was carried out to investigate the effects of mg of ralphahydroxyisopropylalphahtropanium bromidetropate sch mg sch mg OX mg oxazepam and placebo with p.o. in randomized CS on gastric juice volume amount of acid concentration and ph values in healthy volunteers the secretion parameters were measured during a h basal period and a h stimulation period the gastric juice was obtained in min portions via stomach tube stimulation was effected by mugkgh PG via drip infusion the friedman test was used for the comparative statistical evaluation and individual comparisons were carried out by means of the wilcoxon test pairdifferences rank the results show that sch and sch OX were equal in effect on basal and stimulated secretion volume as compared with PL it was not possible to establish an effect on secretion volume for oxazepam CT sch and sch oxazepam were found to be equipotent in reducing the amount of basal acid while oxazepam reduced this quantity only during the first min of basal secretion none of the three AS S9 was capable of inhibiting the stimulated acid although both sch preparations produced a clear trend towards lowered mean values during the basal secretion period all three test S9 had an inhibiting action on acid concentration but none of them had a significant effect during the stimulation period the ph value was savely increased only by sch and sch OX and this even only during the basal period the results are discussed</td>\n      <td>112</td>\n      <td>oxazepam</td>\n    </tr>\n    <tr>\n      <th>627471</th>\n      <td>75</td>\n      <td>P2 fractions p derived from guineapig CBF cortex were incubated in the presence of mm kcl in a krebsglucose medium torpedo marmorata electric organs were stimulated electrically in vivo at pulsessec for min by electrodes placed on the electric lobe synaptic LDV were isolated from each source and the phospholipid compositions analysed and compared with LDV from unstimulated controls lysophosphatidylcholine was the only lysophosphoglyceride demonstrable in the SVs from either source and its low levels did not increase as a result of chemical or electircal stimulation in each case there was a close similarity of the phospholipid distributions in the vesicles taken from control and stimulated samples control experiments indicated extensive decreases in the acetylcholine content of the LDV from the stimulated electric organ and smaller decreases in the acetylcholine content of the SVs from stimulated crude synaptosomal fractions these fractions were found to respire linearly in the presence of mm glucose and the vesicle fractions were shown to have low levels of contaiminating membranes as judged by marker enzyme analyses P2 fractions from guineapig cerebral SC were incubated in a krebsglucose medium with labelled fatty acids and hglucose in the presence or absence of mm kcl subsynaptosomal fractionation was carried out and specific radioactivities of phosphatidylcholine phosphatidylethanolamine phosphatidylserine and phosphatidylinositol were determined in fractions d SVs e microsomes and h disrupted synaptosomes the release of neurotransmitter did not significantly enhance the labelling of phospholipids in any of the fractions studied as compared with phospholipids from unstimulated fractions this was found after two incubation times and using coleate carachidonate hpalmitate and hglucose</td>\n      <td>0</td>\n      <td>crude synaptosomal</td>\n    </tr>\n    <tr>\n      <th>742153</th>\n      <td>75</td>\n      <td>P2 fractions p derived from guineapig CBF cortex were incubated in the presence of mm kcl in a krebsglucose medium torpedo marmorata electric organs were stimulated electrically in vivo at pulsessec for min by electrodes placed on the electric lobe synaptic LDV were isolated from each source and the phospholipid compositions analysed and compared with LDV from unstimulated controls lysophosphatidylcholine was the only lysophosphoglyceride demonstrable in the SVs from either source and its low levels did not increase as a result of chemical or electircal stimulation in each case there was a close similarity of the phospholipid distributions in the vesicles taken from control and stimulated samples control experiments indicated extensive decreases in the acetylcholine content of the LDV from the stimulated electric organ and smaller decreases in the acetylcholine content of the SVs from stimulated crude synaptosomal fractions these fractions were found to respire linearly in the presence of mm glucose and the vesicle fractions were shown to have low levels of contaiminating membranes as judged by marker enzyme analyses P2 fractions from guineapig cerebral SC were incubated in a krebsglucose medium with labelled fatty acids and hglucose in the presence or absence of mm kcl subsynaptosomal fractionation was carried out and specific radioactivities of phosphatidylcholine phosphatidylethanolamine phosphatidylserine and phosphatidylinositol were determined in fractions d SVs e microsomes and h disrupted synaptosomes the release of neurotransmitter did not significantly enhance the labelling of phospholipids in any of the fractions studied as compared with phospholipids from unstimulated fractions this was found after two incubation times and using coleate carachidonate hpalmitate and hglucose</td>\n      <td>171</td>\n      <td>crude synaptosomal</td>\n    </tr>\n    <tr>\n      <th>583421</th>\n      <td>212</td>\n      <td>the beige mouse is an animal MM for the human chediakhigashi syndrome a disease characterized by giant lysosomes in most cell types in mice treatment with androgenic hormones causes a fold elevation in at least one kidney lysosomal enzyme betaglucuronidase beige mice treated with androgen had significantly higher kidney betaglucuronidase betagalactosidase and nacetylbetadglucosaminidase Hex C2 than normal mice other androgeninducible enzymes and enzyme markers for the cytosol mitochondria and peroxisomes were not increased in kidney of beige mice no significant lysosomal enzyme elevation was observed in five other organs of beige mice with or without androgen treatment nor in kidneys of beige females not treated with androgen histochemical staining for glucuronidase together with subcellular fractionation showed that the higher GUS content of beige mouse kidney is caused by a striking accumulation of giant glucuronidasecontaining lysosomes in tubule cells near the corticomedullary boundary in NM lysosomal enzymes are coordinately released into the lumen of the kidney tubules and appreciable amounts of lysosomal enzymes are present in the urine levels of urinary lysosomal enzymes are much lower in beige mice than in normal mice it appears that lysosomes may accumulate in beige mice because of defective exocytosis resulting either from decreased intracellular motility of lysosomes or from their improper F0 with the plasma membrane a similar defect could account for characteristics of the CHS</td>\n      <td>119</td>\n      <td>glucuronidase</td>\n    </tr>\n  </tbody>\n</table>\n</div>"
     },
     "metadata": {},
     "execution_count": 34
    }
   ],
   "source": [
    "duplicate.sort_values(by = ['ABSTRACT_ID']).head(5)"
   ]
  },
  {
   "source": [
    "### So, based on the above results for duplicates, it can be seen that a single Text might contain more than 1 Abbreviation at diffrent places. Thus, multiple row for multiple Abbreviations are present."
   ],
   "cell_type": "markdown",
   "metadata": {}
  },
  {
   "source": [
    "### Let's save the above trainDF in a csv file inside Train folder for further use."
   ],
   "cell_type": "markdown",
   "metadata": {}
  },
  {
   "cell_type": "code",
   "execution_count": 36,
   "metadata": {},
   "outputs": [],
   "source": [
    "textDF.to_csv('Train/train.csv', index = False)"
   ]
  },
  {
   "source": [
    "### Lets load the valid.csv and test.csv as well"
   ],
   "cell_type": "markdown",
   "metadata": {}
  },
  {
   "cell_type": "code",
   "execution_count": 37,
   "metadata": {},
   "outputs": [],
   "source": [
    "# Loading valid.csv\n",
    "valid = pd.read_csv(os.path.join(path, 'Data', 'valid.csv'))\n",
    "#Loading test.csv\n",
    "test = pd.read_csv(os.path.join(path, 'Data', 'test.csv'))"
   ]
  },
  {
   "cell_type": "code",
   "execution_count": 38,
   "metadata": {},
   "outputs": [
    {
     "output_type": "execute_result",
     "data": {
      "text/plain": [
       "(1000000, 4)"
      ]
     },
     "metadata": {},
     "execution_count": 38
    }
   ],
   "source": [
    "# Check the shape of valid dataset\n",
    "valid.shape"
   ]
  },
  {
   "source": [
    "### The Data contains 1 million rows so lets reduce this data to 20% of train data i.e, 20k records."
   ],
   "cell_type": "markdown",
   "metadata": {}
  },
  {
   "cell_type": "code",
   "execution_count": 39,
   "metadata": {},
   "outputs": [
    {
     "output_type": "execute_result",
     "data": {
      "text/plain": [
       "(200000, 4)"
      ]
     },
     "metadata": {},
     "execution_count": 39
    }
   ],
   "source": [
    "valid.drop(valid.index[200000:], inplace = True)\n",
    "valid.shape"
   ]
  },
  {
   "cell_type": "code",
   "execution_count": 40,
   "metadata": {},
   "outputs": [],
   "source": [
    "#Save this updated Valid.csv to Validation folder\n",
    "valid.to_csv('Validation/valid.csv', index = False)"
   ]
  },
  {
   "cell_type": "code",
   "execution_count": 41,
   "metadata": {},
   "outputs": [
    {
     "output_type": "execute_result",
     "data": {
      "text/plain": [
       "(1000000, 4)"
      ]
     },
     "metadata": {},
     "execution_count": 41
    }
   ],
   "source": [
    "# Check the shape of test dataset\n",
    "test.shape"
   ]
  },
  {
   "source": [
    "### The Data contains 1 million rows so lets reduce this data to 20% of train data i.e, 20k records."
   ],
   "cell_type": "markdown",
   "metadata": {}
  },
  {
   "cell_type": "code",
   "execution_count": 42,
   "metadata": {},
   "outputs": [
    {
     "output_type": "execute_result",
     "data": {
      "text/plain": [
       "(200000, 4)"
      ]
     },
     "metadata": {},
     "execution_count": 42
    }
   ],
   "source": [
    "test.drop(test.index[200000:], inplace = True)\n",
    "test.shape"
   ]
  },
  {
   "cell_type": "code",
   "execution_count": 43,
   "metadata": {},
   "outputs": [],
   "source": [
    "#Save this updated test.csv to Test folder\n",
    "test.to_csv('Test/test.csv', index = False)"
   ]
  }
 ]
}