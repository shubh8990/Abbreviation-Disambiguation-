{
 "cells": [
  {
   "cell_type": "markdown",
   "metadata": {},
   "source": [
    "# Abbreviation Disambiguation in Medical Texts - Data Modeling\r\n",
    "\r\n",
    "This Notebook is in continuation of the notebook- 'Step 2- Data Preprocessing' and lists down:\r\n",
    "\r\n",
    "1. Modeling Preprocessed data using: GridSearchCV on Logistic Regression.\r\n",
    "2. Testing the model using Test set."
   ]
  },
  {
   "cell_type": "markdown",
   "metadata": {},
   "source": [
    "## Step# 1: Loading Dataset"
   ]
  },
  {
   "cell_type": "code",
   "execution_count": 73,
   "metadata": {},
   "outputs": [],
   "source": [
    "#Importing the Required Python Packages\r\n",
    "import shutil\r\n",
    "import string\r\n",
    "import numpy as np\r\n",
    "import pandas as pd\r\n",
    "import pickle\r\n",
    "from tqdm import tqdm\r\n",
    "import ast\r\n",
    "from sklearn import utils\r\n",
    "from gensim.models import Doc2Vec\r\n",
    "from gensim.models.doc2vec import TaggedDocument\r\n",
    "from sklearn.model_selection import GridSearchCV\r\n",
    "from sklearn.linear_model import LogisticRegression\r\n",
    "from sklearn.metrics import f1_score, accuracy_score, classification_report\r\n",
    "import matplotlib.pyplot as plt\r\n",
    "pd.set_option('display.max_colwidth', -1)"
   ]
  },
  {
   "cell_type": "code",
   "execution_count": 2,
   "metadata": {},
   "outputs": [
    {
     "data": {
      "text/html": "<div>\n<style scoped>\n    .dataframe tbody tr th:only-of-type {\n        vertical-align: middle;\n    }\n\n    .dataframe tbody tr th {\n        vertical-align: top;\n    }\n\n    .dataframe thead th {\n        text-align: right;\n    }\n</style>\n<table border=\"1\" class=\"dataframe\">\n  <thead>\n    <tr style=\"text-align: right;\">\n      <th></th>\n      <th>LABEL</th>\n      <th>ABV</th>\n      <th>TOKEN</th>\n    </tr>\n  </thead>\n  <tbody>\n    <tr>\n      <th>0</th>\n      <td>anticoagulation</td>\n      <td>AC</td>\n      <td>['yearold', 'girl', 'presented', 'unilateral', 'c6', 'nerve', 'palsy', 'papilledema', 't3', 'severe', 'ha', 'magnetic', 'resonance', 'imaging', 'showed', 'thrombosis', 'superior', 'sagittal', 'sinus', 'pt', 'right', 'transverse', 'sinus', 'attributed', 'oral', 'contraceptive', 'use', 't3', 'coagulation', 'workup', 'negative', 'svr', 'anticoagulation', 'caused', 'hemorrhagic', 'papillopathy', 'eyes', 'raising', 'question', 'ac', 'discontinued', 'diagnostic', 'management', 'issues', 'cbf', 'venous', 'sinus', 'thrombosis', 'secondary', 'intracranial', 'hypertension', 'discussed']</td>\n    </tr>\n    <tr>\n      <th>1</th>\n      <td>anticoagulation</td>\n      <td>AC</td>\n      <td>['mvr', 'procedure', 'choice', 'treat', 'mitral', 'valve', 'dysfunction', 'advantages', 'mvr', 'mitral', 'vr', 'include', 'improved', 'lts', 'better', 'preservation', 'left', 'vvi', 'cf', 'greater', 'freedom', 'endocarditis', 'thromboembolism', 'anticoagulantrelated', 'hemorrhage', 'feasibility', 'durability', 'mvr', 'depend', 'etiology', 'mitral', 'valve', 'dysfunction', 'degenerative', 'icm', 'mitral', 'valve', 'diseases', 'valve', 'repair', 'possible', 'cases', 'freedom', 'reoperation', 'high', 'contrast', 'rheumatic', 'valves', 'amenable', 'repair', 'durability', 'limited', 'isolated', 'valve', 'operations', 'performed', 'minimally', 'invasive', 'fashion', 'partial', 'upper', 'sternotomy', 'patients', 'atrial', 'fibrillation', 'mvd', 'maze', 'procedure', 'pulmonary', 'vein', 'isolation', 'performed', 'eliminating', 'atrial', 'fibrillation', 'need', 'lt', 'ac']</td>\n    </tr>\n    <tr>\n      <th>2</th>\n      <td>typical development</td>\n      <td>TD</td>\n      <td>['explored', 'classification', 'accuracy', 'english', 'spanish', 'versions', 'experimental', 'semantic', 'language', 'measure', 'functional', 'monolingualbilingual', 'children', 'language', 'impairment', 'total', 'children', 'participated', 'including', 'balanced', 'bilinguals', 'language', 'impairment', 'td', 'monolingual', 'spanish', 'language', 'impairment', 'typical', 'od', 'monolingual', 'english', 'language', 'impairment', 'typical', 'od', 'children', 'years', 'cut', 'points', 'derived', 'functionally', 'monolingual', 'children', 'applied', 'bilinguals', 'assess', 'predictive', 'accuracy', 'english', 'spanish', 'semantics', 'correct', 'classification', 'english', 'monolinguals', 'spanish', 'monolinguals', 'discriminant', 'analysis', 'yielded', 'correct', 'classification', 'balanced', 'bilingual', 'children', 'english', 'spanish', 'respectively', 'semanticsbased', 'measure', 'fair', 'good', 'classification', 'accuracy', 'functional', 'monolinguals', 'spanishenglish', 'bilingual', 'children', 'language', 'tested']</td>\n    </tr>\n  </tbody>\n</table>\n</div>",
      "text/plain": "                 LABEL ABV  \\\n0  anticoagulation      AC   \n1  anticoagulation      AC   \n2  typical development  TD   \n\n                                                                                                                                                                                                                                                                                                                                                                                                                                                                                                                                                                                                                                                                                                                                                                                                                                                                                                                                                                                                                                                                       TOKEN  \n0  ['yearold', 'girl', 'presented', 'unilateral', 'c6', 'nerve', 'palsy', 'papilledema', 't3', 'severe', 'ha', 'magnetic', 'resonance', 'imaging', 'showed', 'thrombosis', 'superior', 'sagittal', 'sinus', 'pt', 'right', 'transverse', 'sinus', 'attributed', 'oral', 'contraceptive', 'use', 't3', 'coagulation', 'workup', 'negative', 'svr', 'anticoagulation', 'caused', 'hemorrhagic', 'papillopathy', 'eyes', 'raising', 'question', 'ac', 'discontinued', 'diagnostic', 'management', 'issues', 'cbf', 'venous', 'sinus', 'thrombosis', 'secondary', 'intracranial', 'hypertension', 'discussed']                                                                                                                                                                                                                                                                                                                                                                                                                                                                    \n1  ['mvr', 'procedure', 'choice', 'treat', 'mitral', 'valve', 'dysfunction', 'advantages', 'mvr', 'mitral', 'vr', 'include', 'improved', 'lts', 'better', 'preservation', 'left', 'vvi', 'cf', 'greater', 'freedom', 'endocarditis', 'thromboembolism', 'anticoagulantrelated', 'hemorrhage', 'feasibility', 'durability', 'mvr', 'depend', 'etiology', 'mitral', 'valve', 'dysfunction', 'degenerative', 'icm', 'mitral', 'valve', 'diseases', 'valve', 'repair', 'possible', 'cases', 'freedom', 'reoperation', 'high', 'contrast', 'rheumatic', 'valves', 'amenable', 'repair', 'durability', 'limited', 'isolated', 'valve', 'operations', 'performed', 'minimally', 'invasive', 'fashion', 'partial', 'upper', 'sternotomy', 'patients', 'atrial', 'fibrillation', 'mvd', 'maze', 'procedure', 'pulmonary', 'vein', 'isolation', 'performed', 'eliminating', 'atrial', 'fibrillation', 'need', 'lt', 'ac']                                                                                                                                                               \n2  ['explored', 'classification', 'accuracy', 'english', 'spanish', 'versions', 'experimental', 'semantic', 'language', 'measure', 'functional', 'monolingualbilingual', 'children', 'language', 'impairment', 'total', 'children', 'participated', 'including', 'balanced', 'bilinguals', 'language', 'impairment', 'td', 'monolingual', 'spanish', 'language', 'impairment', 'typical', 'od', 'monolingual', 'english', 'language', 'impairment', 'typical', 'od', 'children', 'years', 'cut', 'points', 'derived', 'functionally', 'monolingual', 'children', 'applied', 'bilinguals', 'assess', 'predictive', 'accuracy', 'english', 'spanish', 'semantics', 'correct', 'classification', 'english', 'monolinguals', 'spanish', 'monolinguals', 'discriminant', 'analysis', 'yielded', 'correct', 'classification', 'balanced', 'bilingual', 'children', 'english', 'spanish', 'respectively', 'semanticsbased', 'measure', 'fair', 'good', 'classification', 'accuracy', 'functional', 'monolinguals', 'spanishenglish', 'bilingual', 'children', 'language', 'tested']  "
     },
     "execution_count": 2,
     "metadata": {},
     "output_type": "execute_result"
    }
   ],
   "source": [
    "# Lets load the train dataset.\n",
    "train = pd.read_csv('Train/train_final.csv')\n",
    "train.head(3)"
   ]
  },
  {
   "cell_type": "code",
   "execution_count": 3,
   "metadata": {},
   "outputs": [],
   "source": [
    "# Lets load validation and test datasets as well\n",
    "valid = pd.read_csv('Validation/valid_final.csv')\n",
    "test = pd.read_csv('Test/test_final.csv')"
   ]
  },
  {
   "cell_type": "code",
   "execution_count": 4,
   "metadata": {},
   "outputs": [
    {
     "data": {
      "text/html": "<div>\n<style scoped>\n    .dataframe tbody tr th:only-of-type {\n        vertical-align: middle;\n    }\n\n    .dataframe tbody tr th {\n        vertical-align: top;\n    }\n\n    .dataframe thead th {\n        text-align: right;\n    }\n</style>\n<table border=\"1\" class=\"dataframe\">\n  <thead>\n    <tr style=\"text-align: right;\">\n      <th></th>\n      <th>LABEL</th>\n      <th>ABV</th>\n      <th>TOKEN</th>\n    </tr>\n  </thead>\n  <tbody>\n    <tr>\n      <th>0</th>\n      <td>benzophenone</td>\n      <td>BP</td>\n      <td>['bp', 'fema', 'cas', 'po', 'diet', 'rats', 'target', 'dls', 'mgkg', 'body', 'weightday', 'days', 'mgkgday', 'days', 'body', 'weights', 'food', 'consumption', 'measured', 'weekly', 'haematology', 'clinical', 'chemistry', 'urinalysis', 'values', 'obtained', 'wk', 'end', 'study', 'gross', 'microscopic', 'pathological', 'examinations', 'conducted', 'organ', 'weights', 'recorded', 'treatmentrelated', 'changes', 'occurred', 'ea', 'count', 'haemoglobin', 'haematocrit', 'bilirubin', 'total', 'protein', 'albumin', 'mid', 'highdose', 'c2', 'changes', 'occur', 'groups', 'sexes', 'indications', 'increased', 'absolute', 'relative', 'cl', 'kidney', 'weights', 'mid', 'highdose', 'groups', 'statistically', 'consistent', 'absolute', 'kidney', 'weights', 'histopathology', 'cl', 'mid', 'highdose', 'cg', 'showed', 'hepatocellular', 'enlargement', 'associated', 'clumping', 'cytoplasmic', 'basophilic', 'material', 'central', 'vein', 'nel', 'demonstrated', 'mgkgday', 'days', 'administration', 'equivalent', 'ni', 'mgday', 'kg', 'human', 'basis', 'calculated', 'possible', 'average', 'daily', 'intake', 'mgday', 'safety', 'factor', 'greater', 'demonstrated', 'safety', 'factor', 'based', 'realistic', 'capita', 'consumption', 'microgramday', 'approximately', 'million']</td>\n    </tr>\n    <tr>\n      <th>1</th>\n      <td>adult</td>\n      <td>AD</td>\n      <td>['investigated', 'expression', 'xist', 'gene', 'mouse', 'female', 'ad', 'kidney', 'embryos', 'embryonic', 'stem', 'es', 'cells', 'undergoing', 'vitro', 'differentiation', 'ebs', 'quantitative', 'rtpcr', 'single', 'nucleotide', 'primer', 'extension', 'snupe', 'ca', 'found', 'xist', 'rna', 'ad', 'kidney', 'mouse', 'strains', 'approximately', 'transcripts', 'cell', 'modest', 'differences', 'strains', 'carrying', 'different', 'xce', 'alleles', 'female', 'embryos', 'days', 'pc', 'number', 'xist', 'transcripts', 'cell', 'isogenic', 'ad', 'tissue', 'quantitative', 'oligonucleotide', 'hybridization', 'assays', 't3', 'rtpcr', 'investigated', 'xist', 'expression', 'es', 'lines', 'heterozygous', 'pgk', 'xist', 'loci', 'found', 'xx', 'es', 'lines', 'xist', 'rna', 'levels', 'increased', 'embryoid', 'body', 'formation', 'levels', 'seen', 'found', 'adult', 'female', 'kidney', 'addition', 'found', 'allelic', 'ratio', 'xist', 'transcripts', 'reciprocal', 'xx', 'es', 'cell', 'lines', 'differentiating', 'vitro', 'mz', 'isogenic', 'day', 'female', 'embryos', 'results', 'suggest', 'dp', 'preferential', 'paternal', 'imprinting', 'days', 'vitro', 'differentiation', 'es', 'cells', 'influence', 'xce', 'locus', 'randomness', 'xinactivation', 'embryos', 'operate', 'es', 'cell', 'lines', 'overall', 'conclusion', 'low', 'c2', 'xist', 'rna', 'female', 'kidney', 'embryos', 'differentiating', 'xx', 'es', 'cells', 'compatible', 'models', 'require', 'xist', 'rna', 'cover', 'entire', 'inactive', 'x', 'chromosome']</td>\n    </tr>\n    <tr>\n      <th>2</th>\n      <td>primary visual cortex</td>\n      <td>V1</td>\n      <td>['recently', 'reported', 'paradoxical', 'facilitatory', 'effect', 'hz', 'rtms', 'rtms', 'v1', 'migraine', 'possibly', 'failure', 'inhibitory', 'circuits', 'unable', 'upregulated', 'vlf', 'rtms', 'investigate', 'inhibitory', 'circuit', 'dysfunction', 'extends', 'striate', 'sc', 'ma', 'studied', 'effects', 'hz', 'rtms', 'ra', 'extrastriate', 'cortex', 'perception', 'illusory', 'contours', 'patients', 'lowfrequency', 'rtms', 'enhanced', 'activity', 'extrastriate', 'cortex', 'migraineurs', 'speeding', 'reaction', 'times', 'illusory', 'contour', 'perception', 'finding', 'supports', 'view', 'failure', 'inhibitory', 'circuits', 'involving', 'extrastriate', 'sc', 'ma']</td>\n    </tr>\n  </tbody>\n</table>\n</div>",
      "text/plain": "                   LABEL ABV  \\\n0  benzophenone           BP   \n1  adult                  AD   \n2  primary visual cortex  V1   \n\n                                                                                                                                                                                                                                                                                                                                                                                                                                                                                                                                                                                                                                                                                                                                                                                                                                                                                                                                                                                                                                                                                                                                                                                                                                                                                                                                                                                                                                                                                                                                                              TOKEN  \n0  ['bp', 'fema', 'cas', 'po', 'diet', 'rats', 'target', 'dls', 'mgkg', 'body', 'weightday', 'days', 'mgkgday', 'days', 'body', 'weights', 'food', 'consumption', 'measured', 'weekly', 'haematology', 'clinical', 'chemistry', 'urinalysis', 'values', 'obtained', 'wk', 'end', 'study', 'gross', 'microscopic', 'pathological', 'examinations', 'conducted', 'organ', 'weights', 'recorded', 'treatmentrelated', 'changes', 'occurred', 'ea', 'count', 'haemoglobin', 'haematocrit', 'bilirubin', 'total', 'protein', 'albumin', 'mid', 'highdose', 'c2', 'changes', 'occur', 'groups', 'sexes', 'indications', 'increased', 'absolute', 'relative', 'cl', 'kidney', 'weights', 'mid', 'highdose', 'groups', 'statistically', 'consistent', 'absolute', 'kidney', 'weights', 'histopathology', 'cl', 'mid', 'highdose', 'cg', 'showed', 'hepatocellular', 'enlargement', 'associated', 'clumping', 'cytoplasmic', 'basophilic', 'material', 'central', 'vein', 'nel', 'demonstrated', 'mgkgday', 'days', 'administration', 'equivalent', 'ni', 'mgday', 'kg', 'human', 'basis', 'calculated', 'possible', 'average', 'daily', 'intake', 'mgday', 'safety', 'factor', 'greater', 'demonstrated', 'safety', 'factor', 'based', 'realistic', 'capita', 'consumption', 'microgramday', 'approximately', 'million']                                                                                                                                                                                                                                                     \n1  ['investigated', 'expression', 'xist', 'gene', 'mouse', 'female', 'ad', 'kidney', 'embryos', 'embryonic', 'stem', 'es', 'cells', 'undergoing', 'vitro', 'differentiation', 'ebs', 'quantitative', 'rtpcr', 'single', 'nucleotide', 'primer', 'extension', 'snupe', 'ca', 'found', 'xist', 'rna', 'ad', 'kidney', 'mouse', 'strains', 'approximately', 'transcripts', 'cell', 'modest', 'differences', 'strains', 'carrying', 'different', 'xce', 'alleles', 'female', 'embryos', 'days', 'pc', 'number', 'xist', 'transcripts', 'cell', 'isogenic', 'ad', 'tissue', 'quantitative', 'oligonucleotide', 'hybridization', 'assays', 't3', 'rtpcr', 'investigated', 'xist', 'expression', 'es', 'lines', 'heterozygous', 'pgk', 'xist', 'loci', 'found', 'xx', 'es', 'lines', 'xist', 'rna', 'levels', 'increased', 'embryoid', 'body', 'formation', 'levels', 'seen', 'found', 'adult', 'female', 'kidney', 'addition', 'found', 'allelic', 'ratio', 'xist', 'transcripts', 'reciprocal', 'xx', 'es', 'cell', 'lines', 'differentiating', 'vitro', 'mz', 'isogenic', 'day', 'female', 'embryos', 'results', 'suggest', 'dp', 'preferential', 'paternal', 'imprinting', 'days', 'vitro', 'differentiation', 'es', 'cells', 'influence', 'xce', 'locus', 'randomness', 'xinactivation', 'embryos', 'operate', 'es', 'cell', 'lines', 'overall', 'conclusion', 'low', 'c2', 'xist', 'rna', 'female', 'kidney', 'embryos', 'differentiating', 'xx', 'es', 'cells', 'compatible', 'models', 'require', 'xist', 'rna', 'cover', 'entire', 'inactive', 'x', 'chromosome']  \n2  ['recently', 'reported', 'paradoxical', 'facilitatory', 'effect', 'hz', 'rtms', 'rtms', 'v1', 'migraine', 'possibly', 'failure', 'inhibitory', 'circuits', 'unable', 'upregulated', 'vlf', 'rtms', 'investigate', 'inhibitory', 'circuit', 'dysfunction', 'extends', 'striate', 'sc', 'ma', 'studied', 'effects', 'hz', 'rtms', 'ra', 'extrastriate', 'cortex', 'perception', 'illusory', 'contours', 'patients', 'lowfrequency', 'rtms', 'enhanced', 'activity', 'extrastriate', 'cortex', 'migraineurs', 'speeding', 'reaction', 'times', 'illusory', 'contour', 'perception', 'finding', 'supports', 'view', 'failure', 'inhibitory', 'circuits', 'involving', 'extrastriate', 'sc', 'ma']                                                                                                                                                                                                                                                                                                                                                                                                                                                                                                                                                                                                                                                                                                                                                                                                                                                                     "
     },
     "execution_count": 4,
     "metadata": {},
     "output_type": "execute_result"
    }
   ],
   "source": [
    "valid.head(3)"
   ]
  },
  {
   "cell_type": "code",
   "execution_count": 5,
   "metadata": {},
   "outputs": [
    {
     "data": {
      "text/html": "<div>\n<style scoped>\n    .dataframe tbody tr th:only-of-type {\n        vertical-align: middle;\n    }\n\n    .dataframe tbody tr th {\n        vertical-align: top;\n    }\n\n    .dataframe thead th {\n        text-align: right;\n    }\n</style>\n<table border=\"1\" class=\"dataframe\">\n  <thead>\n    <tr style=\"text-align: right;\">\n      <th></th>\n      <th>LABEL</th>\n      <th>ABV</th>\n      <th>TOKEN</th>\n    </tr>\n  </thead>\n  <tbody>\n    <tr>\n      <th>0</th>\n      <td>micronucleus</td>\n      <td>MN</td>\n      <td>['work', 'tested', 'hypothesis', 'content', 'spontaneous', 'micronuclei', 'lymphocytes', 'apparently', 'healthy', 'normal', 'human', 'subject', 'exhibited', 'unusually', 'high', 'mn', 'frequency', 'nonrandom', 'dna', 'probes', 'fluorescent', 'insitu', 'hybridization', 'fish', 'beginning', 'probe', 'generated', 'subjects', 'micronuclei', 'micronuclei', 'obtained', 'peripheral', 'bl', 'microdissection', 'subjected', 'rapd', 'rapdpcr', 'unique', 'pcr', 'product', 'isolate', 'cosmid', 'clone', 'human', 'genomic', 'library', 'clone', 'hybridized', 'chromosome', 'subsequently', 'commercial', 'probes', 'included', 'fish', 'analyses', 'micronuclei', 'subject', 'age', 'sexmatched', 'controls', 'significant', 'differences', 'found', 'subject', 'controls', 'percentages', 'micronuclei', 'hybridizing', 'centromere', 'probe', 'x', 'chromosome', 'painting', 'probe', 'chromosome', 'subject', 'highly', 'significant', 'increase', 'p', 'chromosome', 'micronuclei', 'level', 'expected', 'present', 'chance', 'characterization', 'micronuclei', 'promising', 'tool', 'studies', 'mechanisms', 'inherited', 'induced', 'cin', 'strength', 'strategy', 'employed', 't0', 'characterizing', 'chromosomes', 'present', 'micronuclei', 'work', 't3', 'observation', 'chromosomal', 'instability', 'foundation', 't0', 'mechanism', 'underlying', 'observation']</td>\n    </tr>\n    <tr>\n      <th>1</th>\n      <td>bipolar</td>\n      <td>BP</td>\n      <td>['onethird', 'lithiumtreated', 'bp', 'patients', 'excellent', 'lithium', 'nr', 'lithium', 'monotherapy', 'totally', 'prevents', 'episodes', 'bp', 'disorder', 'years', 'patients', 'clinically', 'characterized', 'episodic', 'clinical', 'course', 'cr', 'remission', 'bipolar', 'family', 'history', 'low', 'psychiatric', 'comorbidity', 'maniadepression', 'episode', 'sequences', 'moderate', 'number', 'episodes', 'low', 'number', 'hospitalizations', 'prelithium', 'period', 'recently', 'found', 'temperamental', 'features', 'hypomania', 'hyperthymic', 'temperament', 'lack', 'cognitive', 'disorganization', 'predict', 'best', 'results', 'lithium', 'prophylaxis', 'lithium', 'exerts', 'neuroprotective', 'effect', 'increased', 'expression', 'brainderived', 'neurotrophic', 'factor', 'bdnf', 'inhibition', 'glycogen', 'synthase', 'kinase', 'gsk', 'play', 'important', 'role', 'response', 'lithium', 'connected', 'tt', 'bdnf', 'gene', 'ss', 'bdnf', 'levels', 'better', 'response', 'lithium', 'connected', 'met', 'allele', 'bdnf', 'valmet', 'polymorphism', 'hyperthymic', 'temperament', 'excellent', 'lithium', 'nr', 'normal', 'cognitive', 'functions', 'serum', 'bdnf', 'levels', 't3', 'lt', 'duration', 'illness', 'preservation', 'cognitive', 'functions', 'longterm', 'lithiumtreated', 'patients', 'connected', 'stimulation', 'bdnf', 'system', 'resulting', 'prevention', 'affective', 'episodes', 'exerting', 'deleterious', 'cognitive', 'effects', 'possibly', 'lithiums', 'antiviral', 'effects', 'number', 'candidate', 'genes', 'related', 'neurotransmitters', 'intracellular', 'signaling', 'neuroprotection', 'circadian', 'rhythms', 'pathogenic', 'mechanisms', 'bipolar', 'disorder', 'found', 'associated', 'lithium', 'prophylactic', 'response', 'consortium', 'lithium', 'genetics', 'conligen', 'recently', 'performed', 'genomewide', 'association', 't0', 'lithium', 'response', 'bp', 'disorder']</td>\n    </tr>\n    <tr>\n      <th>2</th>\n      <td>genetic programming</td>\n      <td>GP</td>\n      <td>['performance', 'energy', 'conversion', 'system', 'depends', 'exergy', 'analysis', 'entropy', 'generation', 'minimisation', 'new', 'simple', 'fourparameter', 'equation', 'presented', 'paper', 'predict', 'standard', 'state', 'absolute', 'entropy', 'real', 'gases', 'sstd', 'mm', 'development', 'validation', 'accomplished', 'linear', 'gp', 'lgp', 'method', 'comprehensive', 'dataset', 'widely', 'materials', 'proposed', 'model', 'compared', 'results', 'obtained', 'threelayer', 'feed', 'forward', 'neural', 'network', 'mm', 'ffnn', 'mm', 'rootmeansquare', 'error', 'rmse', 'coefficient', 'determination', 'r', 'data', 'obtained', 'lgp', 'mm', 'jmol', 'k', 'respectively', 'statistical', 'assessments', 'evaluate', 'predictive', 'power', 'mm', 'addition', 't0', 'provides', 'appropriate', 'understanding', 'important', 'molecular', 'variables', 'exergy', 'analysis', 'compared', 'lgp', 'based', 'mm', 'application', 'ffnn', 'improved', 'r', 'developed', 'mm', 'useful', 'design', 'materials', 'achieve', 'desired', 'entropy', 'value']</td>\n    </tr>\n  </tbody>\n</table>\n</div>",
      "text/plain": "                 LABEL ABV  \\\n0  micronucleus         MN   \n1  bipolar              BP   \n2  genetic programming  GP   \n\n                                                                                                                                                                                                                                                                                                                                                                                                                                                                                                                                                                                                                                                                                                                                                                                                                                                                                                                                                                                                                                                                                                                                                                                                                                                                                                                                                                                                                                                                                                                                                                                                                                                                                                                                                                                                                                                                                                                                                             TOKEN  \n0  ['work', 'tested', 'hypothesis', 'content', 'spontaneous', 'micronuclei', 'lymphocytes', 'apparently', 'healthy', 'normal', 'human', 'subject', 'exhibited', 'unusually', 'high', 'mn', 'frequency', 'nonrandom', 'dna', 'probes', 'fluorescent', 'insitu', 'hybridization', 'fish', 'beginning', 'probe', 'generated', 'subjects', 'micronuclei', 'micronuclei', 'obtained', 'peripheral', 'bl', 'microdissection', 'subjected', 'rapd', 'rapdpcr', 'unique', 'pcr', 'product', 'isolate', 'cosmid', 'clone', 'human', 'genomic', 'library', 'clone', 'hybridized', 'chromosome', 'subsequently', 'commercial', 'probes', 'included', 'fish', 'analyses', 'micronuclei', 'subject', 'age', 'sexmatched', 'controls', 'significant', 'differences', 'found', 'subject', 'controls', 'percentages', 'micronuclei', 'hybridizing', 'centromere', 'probe', 'x', 'chromosome', 'painting', 'probe', 'chromosome', 'subject', 'highly', 'significant', 'increase', 'p', 'chromosome', 'micronuclei', 'level', 'expected', 'present', 'chance', 'characterization', 'micronuclei', 'promising', 'tool', 'studies', 'mechanisms', 'inherited', 'induced', 'cin', 'strength', 'strategy', 'employed', 't0', 'characterizing', 'chromosomes', 'present', 'micronuclei', 'work', 't3', 'observation', 'chromosomal', 'instability', 'foundation', 't0', 'mechanism', 'underlying', 'observation']                                                                                                                                                                                                                                                                                                                                                                                                                                                                                                                                                                          \n1  ['onethird', 'lithiumtreated', 'bp', 'patients', 'excellent', 'lithium', 'nr', 'lithium', 'monotherapy', 'totally', 'prevents', 'episodes', 'bp', 'disorder', 'years', 'patients', 'clinically', 'characterized', 'episodic', 'clinical', 'course', 'cr', 'remission', 'bipolar', 'family', 'history', 'low', 'psychiatric', 'comorbidity', 'maniadepression', 'episode', 'sequences', 'moderate', 'number', 'episodes', 'low', 'number', 'hospitalizations', 'prelithium', 'period', 'recently', 'found', 'temperamental', 'features', 'hypomania', 'hyperthymic', 'temperament', 'lack', 'cognitive', 'disorganization', 'predict', 'best', 'results', 'lithium', 'prophylaxis', 'lithium', 'exerts', 'neuroprotective', 'effect', 'increased', 'expression', 'brainderived', 'neurotrophic', 'factor', 'bdnf', 'inhibition', 'glycogen', 'synthase', 'kinase', 'gsk', 'play', 'important', 'role', 'response', 'lithium', 'connected', 'tt', 'bdnf', 'gene', 'ss', 'bdnf', 'levels', 'better', 'response', 'lithium', 'connected', 'met', 'allele', 'bdnf', 'valmet', 'polymorphism', 'hyperthymic', 'temperament', 'excellent', 'lithium', 'nr', 'normal', 'cognitive', 'functions', 'serum', 'bdnf', 'levels', 't3', 'lt', 'duration', 'illness', 'preservation', 'cognitive', 'functions', 'longterm', 'lithiumtreated', 'patients', 'connected', 'stimulation', 'bdnf', 'system', 'resulting', 'prevention', 'affective', 'episodes', 'exerting', 'deleterious', 'cognitive', 'effects', 'possibly', 'lithiums', 'antiviral', 'effects', 'number', 'candidate', 'genes', 'related', 'neurotransmitters', 'intracellular', 'signaling', 'neuroprotection', 'circadian', 'rhythms', 'pathogenic', 'mechanisms', 'bipolar', 'disorder', 'found', 'associated', 'lithium', 'prophylactic', 'response', 'consortium', 'lithium', 'genetics', 'conligen', 'recently', 'performed', 'genomewide', 'association', 't0', 'lithium', 'response', 'bp', 'disorder']  \n2  ['performance', 'energy', 'conversion', 'system', 'depends', 'exergy', 'analysis', 'entropy', 'generation', 'minimisation', 'new', 'simple', 'fourparameter', 'equation', 'presented', 'paper', 'predict', 'standard', 'state', 'absolute', 'entropy', 'real', 'gases', 'sstd', 'mm', 'development', 'validation', 'accomplished', 'linear', 'gp', 'lgp', 'method', 'comprehensive', 'dataset', 'widely', 'materials', 'proposed', 'model', 'compared', 'results', 'obtained', 'threelayer', 'feed', 'forward', 'neural', 'network', 'mm', 'ffnn', 'mm', 'rootmeansquare', 'error', 'rmse', 'coefficient', 'determination', 'r', 'data', 'obtained', 'lgp', 'mm', 'jmol', 'k', 'respectively', 'statistical', 'assessments', 'evaluate', 'predictive', 'power', 'mm', 'addition', 't0', 'provides', 'appropriate', 'understanding', 'important', 'molecular', 'variables', 'exergy', 'analysis', 'compared', 'lgp', 'based', 'mm', 'application', 'ffnn', 'improved', 'r', 'developed', 'mm', 'useful', 'design', 'materials', 'achieve', 'desired', 'entropy', 'value']                                                                                                                                                                                                                                                                                                                                                                                                                                                                                                                                                                                                                                                                                                                                                                                                                                                                                         "
     },
     "execution_count": 5,
     "metadata": {},
     "output_type": "execute_result"
    }
   ],
   "source": [
    "test.head(3)"
   ]
  },
  {
   "cell_type": "markdown",
   "metadata": {},
   "source": [
    "### Lets keep only relevant records in Valid and test set and total records in each shall only be 4k"
   ]
  },
  {
   "cell_type": "code",
   "execution_count": 6,
   "metadata": {},
   "outputs": [],
   "source": [
    "    abbrev = list(train['ABV'].unique())\r\n",
    "    valid = valid[valid['ABV'].isin(abbrev)]\r\n",
    "    test = test[test['ABV'].isin(abbrev)]\r\n",
    "    labels = list(train['LABEL'].unique())\r\n",
    "    valid = valid[valid['LABEL'].isin(labels)]\r\n",
    "    test = test[test['LABEL'].isin(labels)]\r\n"
   ]
  },
  {
   "cell_type": "markdown",
   "metadata": {},
   "source": [
    "## Lets drop 'ABV' column"
   ]
  },
  {
   "cell_type": "code",
   "execution_count": 7,
   "metadata": {},
   "outputs": [],
   "source": [
    "train.drop(columns='ABV', inplace = True)\r\n",
    "valid.drop(columns='ABV', inplace = True)\r\n",
    "test.drop(columns='ABV', inplace = True)"
   ]
  },
  {
   "cell_type": "code",
   "execution_count": 8,
   "metadata": {},
   "outputs": [],
   "source": [
    "# Convert TOKEN column from string to list\r\n",
    "train['TOKEN'] = train['TOKEN'].apply(lambda x: ast.literal_eval(x))\r\n",
    "valid['TOKEN'] = valid['TOKEN'].apply(lambda x: ast.literal_eval(x))\r\n",
    "test['TOKEN'] = test['TOKEN'].apply(lambda x: ast.literal_eval(x))"
   ]
  },
  {
   "cell_type": "markdown",
   "metadata": {},
   "source": [
    "### Lets tag every Token List with its Label"
   ]
  },
  {
   "cell_type": "code",
   "execution_count": 9,
   "metadata": {},
   "outputs": [],
   "source": [
    "train_tagged = train.apply(lambda x: TaggedDocument(words = x['TOKEN'], tags = [x['LABEL']]), axis=1)\r\n",
    "valid_tagged = valid.apply(lambda x: TaggedDocument(words = x['TOKEN'], tags = [x['LABEL']]), axis=1)\r\n",
    "test_tagged = test.apply(lambda x: TaggedDocument(words = x['TOKEN'], tags = [x['LABEL']]), axis=1)"
   ]
  },
  {
   "cell_type": "code",
   "execution_count": 10,
   "metadata": {},
   "outputs": [
    {
     "data": {
      "text/plain": "array([TaggedDocument(words=['yearold', 'girl', 'presented', 'unilateral', 'c6', 'nerve', 'palsy', 'papilledema', 't3', 'severe', 'ha', 'magnetic', 'resonance', 'imaging', 'showed', 'thrombosis', 'superior', 'sagittal', 'sinus', 'pt', 'right', 'transverse', 'sinus', 'attributed', 'oral', 'contraceptive', 'use', 't3', 'coagulation', 'workup', 'negative', 'svr', 'anticoagulation', 'caused', 'hemorrhagic', 'papillopathy', 'eyes', 'raising', 'question', 'ac', 'discontinued', 'diagnostic', 'management', 'issues', 'cbf', 'venous', 'sinus', 'thrombosis', 'secondary', 'intracranial', 'hypertension', 'discussed'], tags=['anticoagulation']),\n       TaggedDocument(words=['mvr', 'procedure', 'choice', 'treat', 'mitral', 'valve', 'dysfunction', 'advantages', 'mvr', 'mitral', 'vr', 'include', 'improved', 'lts', 'better', 'preservation', 'left', 'vvi', 'cf', 'greater', 'freedom', 'endocarditis', 'thromboembolism', 'anticoagulantrelated', 'hemorrhage', 'feasibility', 'durability', 'mvr', 'depend', 'etiology', 'mitral', 'valve', 'dysfunction', 'degenerative', 'icm', 'mitral', 'valve', 'diseases', 'valve', 'repair', 'possible', 'cases', 'freedom', 'reoperation', 'high', 'contrast', 'rheumatic', 'valves', 'amenable', 'repair', 'durability', 'limited', 'isolated', 'valve', 'operations', 'performed', 'minimally', 'invasive', 'fashion', 'partial', 'upper', 'sternotomy', 'patients', 'atrial', 'fibrillation', 'mvd', 'maze', 'procedure', 'pulmonary', 'vein', 'isolation', 'performed', 'eliminating', 'atrial', 'fibrillation', 'need', 'lt', 'ac'], tags=['anticoagulation']),\n       TaggedDocument(words=['explored', 'classification', 'accuracy', 'english', 'spanish', 'versions', 'experimental', 'semantic', 'language', 'measure', 'functional', 'monolingualbilingual', 'children', 'language', 'impairment', 'total', 'children', 'participated', 'including', 'balanced', 'bilinguals', 'language', 'impairment', 'td', 'monolingual', 'spanish', 'language', 'impairment', 'typical', 'od', 'monolingual', 'english', 'language', 'impairment', 'typical', 'od', 'children', 'years', 'cut', 'points', 'derived', 'functionally', 'monolingual', 'children', 'applied', 'bilinguals', 'assess', 'predictive', 'accuracy', 'english', 'spanish', 'semantics', 'correct', 'classification', 'english', 'monolinguals', 'spanish', 'monolinguals', 'discriminant', 'analysis', 'yielded', 'correct', 'classification', 'balanced', 'bilingual', 'children', 'english', 'spanish', 'respectively', 'semanticsbased', 'measure', 'fair', 'good', 'classification', 'accuracy', 'functional', 'monolinguals', 'spanishenglish', 'bilingual', 'children', 'language', 'tested'], tags=['typical development']),\n       TaggedDocument(words=['tau', 'microtubuleassociated', 'protein', 'present', 'axons', 'elevated', 'tau', 'protein', 'c2', 'csf', 'fluid', 'ss', 'associated', 'cns', 'system', 'diseases', 'indicate', 'neuronal', 'injury'], tags=['tau protein']),\n       TaggedDocument(words=['cowden', 'syndrome', 'known', 'multiple', 'hamartoma', 'syndrome', 'rare', 'autosomal', 'dominant', 'disorder', 'characterized', 'multiple', 'hamartomas', 'high', 'risk', 'od', 'malignancy', 'oral', 'findings', 'papillomatous', 'lesions', 'fibromas', 'common', 'features', 'periodontal', 'phenotype', 'reported', 'previously', 'report', 'presents', 'case', 'gingival', 'overgrowth', 'associated', 'cowden', 'syndrome', 'successful', 'surgical', 'management', 'month', 'followup', 'results', 'additionally', 'discuss', 'implications', 'clinicians', 'yearold', 'woman', 'referred', 'department', 'periodontics', 'piracicaba', 'dental', 'school', 'presenting', 'generalized', 'detailed', 'dental', 'medical', 'ph', 'clinical', 'examination', 'confirmed', 'systemic', 'diagnosis', 'cowden', 'syndrome', 'histology', 'radiographs', 'clinical', 'data', 'document', 'entire', 'clinical', 'rpa', 'followup', 'clinically', 'minor', 'signs', 'recurrence', 'gingival', 'overgrowth', 'month', 'period', 't3', 'gingivectomy', 'papular', 'lesions', 'reappeared', 'keratinized', 'gingiva', 'immediately', 't3', 'healing', 'signs', 'bl', 'related', 'systemic', 'condition', 'observed', 'radiographically', 'histologically', 'dense', 'connective', 'tissue', 'moderate', 'chronic', 'inflammatory', 'infiltrate', 'epithelial', 'acanthosis', 'characteristic', 'gh', 'demonstrated', 'occur', 'oral', 'phenotype', 'related', 'cowden', 'syndrome', 'successfully', 'treated', 'means', 'external', 'bevel', 'gingivectomy', 'followed', 'regular', 'maintenance', 'therapy', 'contributing', 'patients', 'wellbeing', 'functionally', 'esthetically'], tags=['gingival hyperplasia'])],\n      dtype=object)"
     },
     "execution_count": 10,
     "metadata": {},
     "output_type": "execute_result"
    }
   ],
   "source": [
    "train_tagged.values[:5]"
   ]
  },
  {
   "cell_type": "markdown",
   "metadata": {},
   "source": [
    "## Step# 2: Apply Doc2vec vectorizer on the Dataset"
   ]
  },
  {
   "cell_type": "code",
   "execution_count": 33,
   "metadata": {},
   "outputs": [],
   "source": [
    "vectorize = Doc2Vec(dm=0, vector_size=100, min_count=2, window = 2)\r\n",
    "vectorize.build_vocab(train_tagged.values)"
   ]
  },
  {
   "cell_type": "code",
   "execution_count": 34,
   "metadata": {},
   "outputs": [],
   "source": [
    "vectorize.train(train_tagged.values, total_examples=len(train_tagged.values), epochs=30)"
   ]
  },
  {
   "cell_type": "markdown",
   "metadata": {},
   "source": [
    "### Building the Final Vector Feature Classifier"
   ]
  },
  {
   "cell_type": "code",
   "execution_count": 35,
   "metadata": {},
   "outputs": [],
   "source": [
    "def vec_for_learning(model, tagged_docs):\r\n",
    "    sents = tagged_docs.values\r\n",
    "    targets, regressors = zip(*[(doc.tags[0], model.infer_vector(doc.words, steps=30)) for doc in sents])\r\n",
    "    return targets, regressors"
   ]
  },
  {
   "cell_type": "code",
   "execution_count": 36,
   "metadata": {},
   "outputs": [],
   "source": [
    "y_train, X_train = vec_for_learning(vectorize, train_tagged)"
   ]
  },
  {
   "cell_type": "markdown",
   "metadata": {},
   "source": [
    "### Lets perform a Grid Search to get the best possible combination of Hyperparameters for Logistic Regression Model"
   ]
  },
  {
   "cell_type": "code",
   "execution_count": 41,
   "metadata": {},
   "outputs": [],
   "source": [
    "param_grid = {'C':[0.001, 0.01, 0.1, 1, 10, 100]}\r\n",
    "grid_model = GridSearchCV(LogisticRegression(n_jobs=-1), param_grid)"
   ]
  },
  {
   "cell_type": "code",
   "execution_count": 42,
   "metadata": {},
   "outputs": [
    {
     "data": {
      "text/plain": "GridSearchCV(estimator=LogisticRegression(n_jobs=-1),\n             param_grid={'C': [0.001, 0.01, 0.1, 1, 10, 100]})"
     },
     "execution_count": 42,
     "metadata": {},
     "output_type": "execute_result"
    }
   ],
   "source": [
    "grid_model.fit(X_train, y_train)"
   ]
  },
  {
   "cell_type": "code",
   "execution_count": 43,
   "metadata": {},
   "outputs": [
    {
     "data": {
      "text/plain": "{'C': 1}"
     },
     "execution_count": 43,
     "metadata": {},
     "output_type": "execute_result"
    }
   ],
   "source": [
    "### Best parameters for the Grid Search\r\n",
    "grid_model.best_params_"
   ]
  },
  {
   "cell_type": "code",
   "execution_count": 44,
   "metadata": {},
   "outputs": [
    {
     "data": {
      "text/plain": "0.9805815760310533"
     },
     "execution_count": 44,
     "metadata": {},
     "output_type": "execute_result"
    }
   ],
   "source": [
    "### Accuracy Score\r\n",
    "grid_model.best_score_"
   ]
  },
  {
   "cell_type": "markdown",
   "metadata": {},
   "source": [
    "### Apply the best parameters to Logistic Regression and train the model."
   ]
  },
  {
   "cell_type": "code",
   "execution_count": 45,
   "metadata": {},
   "outputs": [
    {
     "data": {
      "text/plain": "LogisticRegression(C=1, n_jobs=-1)"
     },
     "execution_count": 45,
     "metadata": {},
     "output_type": "execute_result"
    }
   ],
   "source": [
    "logreg = LogisticRegression(n_jobs=-1, C=1)\r\n",
    "logreg.fit(X_train, y_train)"
   ]
  },
  {
   "cell_type": "code",
   "execution_count": 46,
   "metadata": {},
   "outputs": [],
   "source": [
    "### Apply the above Model on Validation Set\r\n",
    "y_valid, X_valid = vec_for_learning(vectorize, valid_tagged)\r\n",
    "y_pred_valid = logreg.predict(X_valid)"
   ]
  },
  {
   "cell_type": "code",
   "execution_count": 47,
   "metadata": {},
   "outputs": [
    {
     "name": "stdout",
     "output_type": "stream",
     "text": [
      "Validation Accuracy: 0.6913\n",
      "Validation F1-Score: 0.6848102160464058\n"
     ]
    }
   ],
   "source": [
    "print('Validation Accuracy:', accuracy_score(y_valid, y_pred_valid))\r\n",
    "print('Validation F1-Score:', f1_score(y_valid, y_pred_valid, average='weighted'))"
   ]
  },
  {
   "cell_type": "markdown",
   "metadata": {},
   "source": [
    "## As per the above analysis of validation set, it can be seen that the Logistic Classification model gives\r\n",
    "1. F1- Score of: 0.68\r\n",
    "2. Accuracy of: 69%\r\n",
    "\r\n",
    "Hence, lets apply this model to our Test set and check its performance metrics."
   ]
  },
  {
   "cell_type": "code",
   "execution_count": 48,
   "metadata": {},
   "outputs": [],
   "source": [
    "### Apply the above Model on Test Set\r\n",
    "y_test, X_test = vec_for_learning(vectorize, test_tagged)\r\n",
    "y_pred_test = logreg.predict(X_test)"
   ]
  },
  {
   "cell_type": "markdown",
   "metadata": {},
   "source": [
    "### Lets calculate some Performance Metrics on the Test predictions."
   ]
  },
  {
   "cell_type": "code",
   "execution_count": 68,
   "metadata": {},
   "outputs": [
    {
     "name": "stdout",
     "output_type": "stream",
     "text": [
      "Test Accuracy: 0.6962\n",
      "Test F1-Score: 0.6906125218543699\n"
     ]
    }
   ],
   "source": [
    "accuracy = accuracy_score(y_test, y_pred_test)\r\n",
    "f1_scr = f1_score(y_test, y_pred_test, average='weighted')\r\n",
    "print('Test Accuracy:', accuracy)\r\n",
    "print('Test F1-Score:', f1_scr)"
   ]
  },
  {
   "cell_type": "code",
   "execution_count": 74,
   "metadata": {},
   "outputs": [
    {
     "name": "stdout",
     "output_type": "stream",
     "text": [
      "                                                   precision    recall  f1-score   support\n",
      "\n",
      "                                habitual abortion       0.83      1.00      0.91        15\n",
      "                                 hemolytic anemia       0.79      0.91      0.85        45\n",
      "                                   thermodilution       0.76      0.60      0.67        48\n",
      "                               activated charcoal       0.84      0.88      0.86        48\n",
      "                                  edmonstonzagreb       0.42      0.30      0.35        54\n",
      "                       metabolism of benzoapyrene       0.95      1.00      0.98        21\n",
      "                                  buffer capacity       0.79      0.93      0.85        41\n",
      "                                       decay rate       1.00      0.78      0.88         9\n",
      "                          hypersensitive reaction       0.96      0.86      0.91        29\n",
      "                      live attenuated coldadapted       0.87      0.85      0.86        53\n",
      "                                  aqueous extract       0.69      0.76      0.72        55\n",
      "                             androgen deprivation       0.72      0.67      0.69        54\n",
      "                                coronary arteries       0.33      0.17      0.22         6\n",
      "                                      tau protein       0.65      0.59      0.62        22\n",
      "                                  dosing interval       0.86      0.88      0.87        42\n",
      "                             tryptophan depletion       0.69      0.77      0.73        44\n",
      "                             glycolytic potential       0.83      0.76      0.80        51\n",
      "                                   pressure decay       0.57      0.57      0.57        47\n",
      "                      alzheimers disease patients       0.14      0.08      0.10        52\n",
      "                                    amniocentesis       0.80      1.00      0.89         8\n",
      "                 minor histocompatibility antigen       0.85      0.89      0.87        53\n",
      "                             attenuationcorrected       1.00      0.75      0.86         4\n",
      "                            primary visual cortex       0.50      0.49      0.50        53\n",
      "                               bowenoid papulosis       0.34      0.37      0.36        43\n",
      "                                      meal number       0.85      0.83      0.84        54\n",
      "                   mice selectively bred for high       1.00      0.33      0.50         3\n",
      "                               axillary clearance       0.85      0.81      0.83        36\n",
      "                                      bells palsy       0.58      0.79      0.67        48\n",
      "                              aortic constriction       1.00      0.62      0.77         8\n",
      "                              articular cartilage       0.77      0.85      0.81        48\n",
      "                                water deprivation       0.75      0.38      0.50         8\n",
      "                                     nearinfrared       0.90      0.82      0.86        11\n",
      "                               freerunning period       0.36      0.27      0.31        52\n",
      "                                 cold agglutinins       0.88      0.90      0.89        50\n",
      "                         generalized polarization       0.50      0.48      0.49        52\n",
      "                                 heat acclimation       0.74      0.50      0.60        28\n",
      "                          hypothalamic amenorrhea       0.76      0.88      0.82        48\n",
      "                                      elimination       0.65      0.76      0.70        49\n",
      "                                atopic dermatitis       1.00      0.79      0.88        14\n",
      "                               atypical carcinoid       0.79      0.92      0.85        52\n",
      "                                       heart area       0.67      0.52      0.58        60\n",
      "                          assimilation efficiency       0.89      0.67      0.76        12\n",
      "                           artificial circulation       0.71      0.82      0.76        44\n",
      "                                  arachnoid cysts       0.69      0.62      0.65        55\n",
      "                            information retrieval       0.49      0.49      0.49        39\n",
      "                             ionizing irradiation       0.00      0.00      0.00         3\n",
      "                                    adultdirected       0.49      0.47      0.48        55\n",
      "                                           trpasp       0.61      0.61      0.61        49\n",
      "                                          acetone       0.67      0.38      0.48        16\n",
      "                                         biphenyl       0.87      0.79      0.82        42\n",
      "                             hydroxyapatitecoated       0.70      0.70      0.70        53\n",
      "                   against platelet glycoproteins       0.76      0.80      0.78        55\n",
      "                          genetic hemochromatosis       1.00      1.00      1.00        10\n",
      "                                      triple dose       0.78      0.77      0.77        56\n",
      "                              arrhythmogenic dose       0.78      0.75      0.76        56\n",
      "                    anterodorsal thalamic nucleus       0.79      0.96      0.87        52\n",
      "                                    hbenzoapyrene       0.81      0.84      0.83        51\n",
      "                              acute cholecystitis       1.00      0.50      0.67         4\n",
      "                           activation coefficient       0.70      0.75      0.72        51\n",
      "                                     anterodorsal       0.71      0.64      0.67        42\n",
      "                                binding potential       0.50      0.47      0.49        19\n",
      "                 doxorubicin and cyclophosphamide       0.79      0.92      0.85        12\n",
      "                                 general practice       1.00      0.82      0.90        17\n",
      "                                    anticoagulant       0.69      0.69      0.69        49\n",
      "                                    atopic eczema       0.65      0.78      0.71        46\n",
      "                              anterior commissure       0.84      0.84      0.84        49\n",
      "                           hepatocellular adenoma       0.80      0.91      0.85        54\n",
      "                                methyl nicotinate       0.27      0.33      0.30         9\n",
      "                                histamine release       0.73      0.91      0.81        33\n",
      "                                fluorescent light       0.71      0.84      0.77        32\n",
      "                               travelers diarrhea       0.49      0.52      0.50        56\n",
      "                                 carotid arteries       0.47      0.62      0.53        50\n",
      "                                    allylestrenol       0.82      0.84      0.83        43\n",
      "                           regression coefficient       0.60      0.70      0.64        53\n",
      "                                acoustic emission       1.00      0.75      0.86         4\n",
      "                                 anterior chamber       0.79      0.58      0.67        19\n",
      "                                  total deviation       0.81      0.88      0.85        50\n",
      "                               bullous pemphigoid       0.90      0.80      0.85        56\n",
      "                          avian encephalomyelitis       0.69      0.82      0.75        60\n",
      "                                     micronucleus       0.97      1.00      0.99        33\n",
      "                                  asbestos cement       0.80      0.87      0.83        54\n",
      "                                      anchor cell       0.86      0.92      0.89        59\n",
      "                            autonomic dysreflexia       0.88      0.96      0.92        54\n",
      "                                         headache       0.57      0.44      0.50        18\n",
      "                                     glenohumeral       0.56      0.56      0.56        45\n",
      "                                         vascular       0.62      0.77      0.68        65\n",
      "                                 hepatic arterial       0.73      0.79      0.76        14\n",
      "                               general population       0.83      0.63      0.72        54\n",
      "                    influenza virus hemagglutinin       0.49      0.66      0.56        44\n",
      "                                  glucose polymer       0.67      0.60      0.64        48\n",
      "                                      fetal liver       0.76      0.90      0.82        31\n",
      "                                  backpropagation       0.42      0.27      0.33        52\n",
      "                                  brachial plexus       0.84      0.88      0.86        48\n",
      "calcitonin generelated peptide cgrpimmunoreactive       0.85      0.90      0.88        51\n",
      "                                 absence epilepsy       0.89      0.94      0.91        17\n",
      "                                 hemagglutination       0.73      0.87      0.79        52\n",
      "                              central compartment       1.00      0.50      0.67         2\n",
      "                               autosomal dominant       0.44      0.40      0.42        10\n",
      "                                      vasopressor       0.71      0.59      0.65        54\n",
      "                              aesthetic component       0.62      0.57      0.59        14\n",
      "                                  acid ceramidase       0.83      0.90      0.87        50\n",
      "                               firefly luciferase       1.00      0.40      0.57         5\n",
      "              lines of chickens selected for high       0.79      0.82      0.80        45\n",
      "                                          bipolar       0.60      0.44      0.51        57\n",
      "                       hemagglutinin glycoprotein       0.60      0.57      0.58        53\n",
      "                                  aberrant crypts       0.84      0.70      0.76        53\n",
      "                              stiffness parameter       0.59      0.78      0.67        51\n",
      "                         genetic haemochromatosis       0.88      0.58      0.70        12\n",
      "                              typical development       0.83      0.77      0.80        26\n",
      "                                haemagglutinating       0.35      0.57      0.43        47\n",
      "                          tibial dyschondroplasia       0.71      0.74      0.73        47\n",
      "                          thanatophoric dysplasia       0.45      0.58      0.51        48\n",
      "                              hippocampal atrophy       0.76      0.65      0.70        54\n",
      "                               min of reperfusion       0.57      0.46      0.51        50\n",
      "                   dementia of the alzheimer type       0.61      0.75      0.67        52\n",
      "                                     grampositive       0.69      0.71      0.70        56\n",
      "                                 activated carbon       0.75      0.67      0.71        36\n",
      "                                 circadian period       0.75      0.86      0.80         7\n",
      "                                  contrast agents       0.33      0.30      0.32        56\n",
      "                                aortic dissection       0.26      0.16      0.20        44\n",
      "                                      bodily pain       0.84      0.95      0.89        55\n",
      "                                    heptad repeat       1.00      0.67      0.80         3\n",
      "                           hemagglutination assay       0.93      0.97      0.95        29\n",
      "                                  sensory neurons       0.65      0.67      0.66        54\n",
      "                                      hearing aid       1.00      0.67      0.80         3\n",
      "                                   catecholamines       0.71      0.53      0.60        55\n",
      "                              autoimmune diseases       0.39      0.39      0.39        51\n",
      "                                  brevipedicellus       0.61      0.49      0.54        45\n",
      "                          affinity chromatography       0.78      0.83      0.80        52\n",
      "                                    thoracic duct       0.89      0.76      0.82        42\n",
      "                            anoxic depolarization       0.67      0.48      0.56        29\n",
      "                                   air conduction       0.93      0.86      0.89        29\n",
      "                                       fulllength       0.67      0.50      0.57        56\n",
      "                              primary visual area       1.00      1.00      1.00         4\n",
      "                                    hairless gene       0.41      0.30      0.34        50\n",
      "                                  globus pallidus       0.40      0.38      0.39        52\n",
      "                        hemagglutination activity       0.57      0.72      0.64        57\n",
      "             new zealand genetically hypertensive       0.85      0.73      0.79        15\n",
      "                                     mental nerve       0.78      0.64      0.70        11\n",
      "                                     frontal lobe       0.75      0.69      0.72        13\n",
      "                                     western diet       0.61      0.73      0.67        26\n",
      "                                   striate cortex       0.94      0.89      0.91        18\n",
      "                            british pharmacopoeia       0.84      0.89      0.87        55\n",
      "                                  gland of harder       0.73      0.90      0.81        51\n",
      "                                   genital herpes       0.86      0.92      0.89        48\n",
      "                             myelin basic protein       1.00      1.00      1.00         1\n",
      "                                intermediate risk       0.79      0.88      0.84        52\n",
      "                           apparent digestibility       0.73      0.77      0.75        53\n",
      "                          hypersensitive response       1.00      0.63      0.78        30\n",
      "                                   acute diarrhea       1.00      0.67      0.80        18\n",
      "                                         efficacy       0.77      0.76      0.77        54\n",
      "                                     cold adapted       0.78      0.86      0.82        44\n",
      "                                   head activator       0.90      0.90      0.90        39\n",
      "                                 antiglycoprotein       0.90      0.79      0.84        58\n",
      "                                      fluorescent       0.63      0.64      0.63        58\n",
      "                                   fructoselysine       0.85      0.81      0.83        57\n",
      "                              genetic programming       0.89      0.98      0.93        55\n",
      "                                  inferior rectus       0.71      0.60      0.65        20\n",
      "                            autonomic dysfunction       0.59      0.57      0.58        46\n",
      "                                        flutamide       0.39      0.45      0.42        51\n",
      "                                        rutosides       1.00      0.67      0.80         3\n",
      "                                   tissue doppler       0.20      0.50      0.29         2\n",
      "                                acromioclavicular       1.00      0.70      0.82        10\n",
      "                                 mauthner neurons       0.74      0.69      0.71        51\n",
      "                                 atherogenic diet       0.56      0.71      0.63        42\n",
      "                             culture supernatants       0.83      0.89      0.86        54\n",
      "                                 skeletofusimotor       0.39      0.34      0.36        53\n",
      "                                  buffering power       0.00      0.00      0.00         1\n",
      "                                 hemagglutinating       0.95      0.95      0.95        57\n",
      "                                   absolute error       0.71      0.63      0.67        19\n",
      "                                  stiffness index       0.55      0.50      0.53        52\n",
      "                                    period length       0.34      0.37      0.35        49\n",
      "                                      facial lobe       0.18      0.14      0.16        21\n",
      "                                 winter dysentery       0.33      0.32      0.33        22\n",
      "                                incomplete repair       1.00      0.25      0.40         4\n",
      "                               acute exacerbation       0.67      0.48      0.56        21\n",
      "                           bereitschaftspotential       0.67      0.77      0.71        47\n",
      "                         gestational hypertension       0.75      0.75      0.75        20\n",
      "                              bacterial pneumonia       0.48      0.52      0.50        54\n",
      "                                   allyl chloride       0.42      0.49      0.45        53\n",
      "                                        beet pulp       0.73      0.81      0.77        53\n",
      "                               bovine pericardium       0.75      0.80      0.77        45\n",
      "                              axillary dissection       0.75      0.81      0.78        54\n",
      "                         homologous recombination       0.80      0.85      0.83        53\n",
      "                         constitutively activated       0.78      0.81      0.79        47\n",
      "                            sperm hyperactivation       0.64      0.59      0.61        51\n",
      "                                heparinreleasable       0.65      0.64      0.64        55\n",
      "                                internal rotation       0.42      0.28      0.33        36\n",
      "                      time constant of relaxation       0.51      0.43      0.47        49\n",
      "                           wallerian degeneration       0.77      0.91      0.83        11\n",
      "                                hybrid resistance       1.00      0.50      0.67         2\n",
      "                                      benzapyrene       0.93      0.93      0.93        42\n",
      "                                  aortic diameter       0.78      0.88      0.83        49\n",
      "                                 aerobic exercise       0.57      0.67      0.62        24\n",
      "                             gingival hyperplasia       0.75      0.68      0.71        56\n",
      "                                hepatic resection       1.00      0.50      0.67         4\n",
      "                                       time delay       0.70      0.83      0.76        23\n",
      "                                 health authority       0.90      0.92      0.91        48\n",
      "                             typically developing       0.94      0.96      0.95        46\n",
      "                                            adult       0.62      0.62      0.62         8\n",
      "                                   afterdischarge       0.92      0.94      0.93        50\n",
      "                                   apatite cement       0.00      0.00      0.00         2\n",
      "                        hyperstriatum accessorium       0.60      0.72      0.65        47\n",
      "                                       acebutolol       0.73      0.86      0.79        37\n",
      "                            platelet glycoprotein       0.72      0.75      0.74        56\n",
      "                                     benzophenone       0.78      0.76      0.77        46\n",
      "                           time constant of decay       0.46      0.46      0.46        54\n",
      "                           alzheimertype dementia       0.42      0.41      0.41        59\n",
      "                                 hyperandrogenism       0.54      0.73      0.62        45\n",
      "                               alcohol dependence       0.00      0.00      0.00         1\n",
      "                   time constant of lv relaxation       1.00      1.00      1.00         1\n",
      "                                 aldrin epoxidase       1.00      0.67      0.80         6\n",
      "                                       height age       1.00      0.71      0.83         7\n",
      "                              temporal difference       0.81      0.87      0.84        45\n",
      "                                    human albumin       0.90      0.94      0.92        50\n",
      "                              carbonic anhydrases       0.84      0.81      0.83        32\n",
      "                                  basilar papilla       0.50      0.36      0.42        14\n",
      "           time constant of isovolumic relaxation       0.90      0.90      0.90        10\n",
      "                          alveolar echinococcosis       1.00      0.67      0.80         6\n",
      "           systolic and diastolic blood pressures       0.78      0.81      0.80        43\n",
      "                                      glycophorin       0.77      0.69      0.73        59\n",
      "                                 acridinium ester       0.89      0.80      0.84        20\n",
      "                                  tangier disease       0.82      0.76      0.79        54\n",
      "                                  anticoagulation       0.54      0.60      0.57        53\n",
      "                                     growth plate       1.00      1.00      1.00         5\n",
      "                                     farmers lung       0.59      0.43      0.49        47\n",
      "                                    blastic phase       0.74      0.92      0.82        49\n",
      "                                   sentinel nodes       0.71      0.63      0.67        19\n",
      "                             ischaemiareperfusion       0.12      0.11      0.12         9\n",
      "                                   inactive renin       0.57      0.53      0.55        53\n",
      "                                      transdermal       0.56      0.34      0.42        53\n",
      "                                       tdependent       1.00      0.33      0.50         3\n",
      "                                 human fibroblast       0.78      0.78      0.78        59\n",
      "                                spectral exponent       0.87      0.91      0.89        53\n",
      "                              affective disorders       1.00      1.00      1.00         3\n",
      "                                implantation rate       0.00      0.00      0.00         2\n",
      "                                       geniohyoid       0.75      0.60      0.67         5\n",
      "                                  friend leukemia       0.82      0.82      0.82        55\n",
      "                                         gossypol       0.60      0.60      0.60        10\n",
      "                                   adherent cells       0.65      0.71      0.68        56\n",
      "                                   anion exchange       0.46      0.40      0.43        47\n",
      "                                      alternating       0.85      0.90      0.88        39\n",
      "                       true protein digestibility       0.81      0.84      0.83        45\n",
      "                             activity coefficient       0.73      0.77      0.75        43\n",
      "                               amygdaloid complex       0.63      0.59      0.61        46\n",
      "                                 melanocytic nevi       0.67      0.38      0.48        16\n",
      "                                      guttapercha       0.89      0.89      0.89        27\n",
      "                     acrodermatitis enteropathica       0.71      0.85      0.77        48\n",
      "                                  total biopterin       0.83      0.82      0.82        49\n",
      "                                arm circumference       0.25      0.22      0.24         9\n",
      "                                     median nerve       0.83      0.88      0.85        50\n",
      "                                 hormone receptor       0.83      1.00      0.91        20\n",
      "                               epileptogenic zone       0.53      0.67      0.59        12\n",
      "                                      bench press       0.50      0.20      0.29         5\n",
      "                         filtration leukapheresis       0.00      0.00      0.00         3\n",
      "                                      goodpasture       0.00      0.00      0.00         3\n",
      "                                 foreign language       0.64      0.43      0.51        42\n",
      "                        influenza a hemagglutinin       0.80      0.90      0.85        40\n",
      "                              glycoside hydrolase       1.00      0.67      0.80         6\n",
      "                               tardive dyskinesia       1.00      0.80      0.89         5\n",
      "                               ionizing radiation       0.47      0.30      0.37        53\n",
      "                              thiamine deficiency       0.69      0.75      0.72        12\n",
      "                                       total dose       0.78      0.91      0.84        56\n",
      "                            hemagglutinin protein       0.83      0.92      0.88        38\n",
      "                                            heart       0.83      0.42      0.56        12\n",
      "                                   hepatic artery       0.00      0.00      0.00         1\n",
      "                               true digestibility       0.71      0.57      0.63        21\n",
      "                               tourettes disorder       0.50      0.25      0.33         4\n",
      "                                     benzoapyrene       0.74      0.76      0.75        34\n",
      "                          allergic conjunctivitis       0.45      0.51      0.48        49\n",
      "                           attenuation correction       0.44      0.49      0.46        51\n",
      "                              arterial compliance       0.34      0.35      0.34        57\n",
      "                                hydropic abortion       0.59      0.63      0.61        51\n",
      "                                haemagglutination       0.84      0.90      0.87        48\n",
      "                                     blood plasma       0.89      0.72      0.80        46\n",
      "                              atypical depression       0.76      0.81      0.78        58\n",
      "                               thiamine deficient       1.00      1.00      1.00         4\n",
      "\n",
      "                                         accuracy                           0.70     10000\n",
      "                                        macro avg       0.70      0.67      0.67     10000\n",
      "                                     weighted avg       0.69      0.70      0.69     10000\n",
      "\n"
     ]
    }
   ],
   "source": [
    "y_unique = list(set(y_test))\r\n",
    "cr = classification_report(y_test, y_pred_test, target_names=y_unique)\r\n",
    "print(cr)"
   ]
  },
  {
   "cell_type": "markdown",
   "metadata": {},
   "source": [
    "### Thus, from the above Report it can be seen:\r\n",
    "1. Average Precision: 0.69\r\n",
    "2. Average Recall: 0.70"
   ]
  },
  {
   "cell_type": "markdown",
   "metadata": {},
   "source": [
    "# Next Steps"
   ]
  },
  {
   "cell_type": "markdown",
   "metadata": {},
   "source": [
    "## We can see that a basic Logistic Classification implementation gives 70% Accurate results hence, for next steps we can:\r\n",
    "1. Try tuning the Doc2Vec vectorizer's Hyperparameters.\r\n",
    "2. Try some other Classification Algorithms like SVN, Random Forrest and compare results.\r\n",
    "3. Present model has been trained to disambiguate 20 'Medical Abbreviations' but this same model can be generalized to be used in other fields as well. Some including Scientific Researches and Internet Slags."
   ]
  }
 ],
 "metadata": {
  "kernelspec": {
   "display_name": "Python 3",
   "language": "python",
   "name": "python3"
  },
  "language_info": {
   "codemirror_mode": {
    "name": "ipython",
    "version": 3
   },
   "file_extension": ".py",
   "mimetype": "text/x-python",
   "name": "python",
   "nbconvert_exporter": "python",
   "pygments_lexer": "ipython3",
   "version": "3.8.3"
  },
  "orig_nbformat": 2
 },
 "nbformat": 4,
 "nbformat_minor": 2
}