{
 "cells": [
  {
   "cell_type": "markdown",
   "metadata": {},
   "source": [
    "# Abbreviation Disambiguation in Medical Texts - Data Modeling\r\n",
    "\r\n",
    "This Notebook is in continuation of the notebook- 'Step 2- Data Preprocessing' and lists down:\r\n",
    "\r\n",
    "1. Modeling Preprocessed data using: GridSearchCV on Logistic Regression, SVM and XG Boost.\r\n",
    "2. Testing the models using Test set.\r\n",
    "3. Comparing the models and identifying the Next Steps"
   ]
  },
  {
   "cell_type": "markdown",
   "metadata": {},
   "source": [
    "## Step# 1: Loading Dataset"
   ]
  },
  {
   "cell_type": "code",
   "execution_count": 2,
   "metadata": {},
   "outputs": [],
   "source": [
    "#Importing the Required Python Packages\r\n",
    "import shutil\r\n",
    "import string\r\n",
    "import numpy as np\r\n",
    "import pandas as pd\r\n",
    "import pickle\r\n",
    "from tqdm import tqdm\r\n",
    "import ast\r\n",
    "from sklearn import utils\r\n",
    "from gensim.models import Doc2Vec\r\n",
    "from gensim.models.doc2vec import TaggedDocument\r\n",
    "from sklearn.model_selection import GridSearchCV\r\n",
    "from sklearn.linear_model import LogisticRegression\r\n",
    "from sklearn.svm import SVC\r\n",
    "from sklearn.metrics import f1_score, accuracy_score, classification_report\r\n",
    "import matplotlib.pyplot as plt\r\n",
    "import xgboost as xgb\r\n",
    "from xgboost.sklearn import XGBClassifier\r\n",
    "pd.set_option('display.max_colwidth', None)"
   ]
  },
  {
   "cell_type": "code",
   "execution_count": 3,
   "metadata": {},
   "outputs": [
    {
     "data": {
      "text/html": "<div>\n<style scoped>\n    .dataframe tbody tr th:only-of-type {\n        vertical-align: middle;\n    }\n\n    .dataframe tbody tr th {\n        vertical-align: top;\n    }\n\n    .dataframe thead th {\n        text-align: right;\n    }\n</style>\n<table border=\"1\" class=\"dataframe\">\n  <thead>\n    <tr style=\"text-align: right;\">\n      <th></th>\n      <th>LABEL</th>\n      <th>ABV</th>\n      <th>TOKEN</th>\n    </tr>\n  </thead>\n  <tbody>\n    <tr>\n      <th>0</th>\n      <td>anticoagulation</td>\n      <td>AC</td>\n      <td>['yearold', 'girl', 'presented', 'unilateral', 'c6', 'nerve', 'palsy', 'papilledema', 't3', 'severe', 'ha', 'magnetic', 'resonance', 'imaging', 'showed', 'thrombosis', 'superior', 'sagittal', 'sinus', 'pt', 'right', 'transverse', 'sinus', 'attributed', 'oral', 'contraceptive', 'use', 't3', 'coagulation', 'workup', 'negative', 'svr', 'anticoagulation', 'caused', 'hemorrhagic', 'papillopathy', 'eyes', 'raising', 'question', 'ac', 'discontinued', 'diagnostic', 'management', 'issues', 'cbf', 'venous', 'sinus', 'thrombosis', 'secondary', 'intracranial', 'hypertension', 'discussed']</td>\n    </tr>\n    <tr>\n      <th>1</th>\n      <td>anticoagulation</td>\n      <td>AC</td>\n      <td>['mvr', 'procedure', 'choice', 'treat', 'mitral', 'valve', 'dysfunction', 'advantages', 'mvr', 'mitral', 'vr', 'include', 'improved', 'lts', 'better', 'preservation', 'left', 'vvi', 'cf', 'greater', 'freedom', 'endocarditis', 'thromboembolism', 'anticoagulantrelated', 'hemorrhage', 'feasibility', 'durability', 'mvr', 'depend', 'etiology', 'mitral', 'valve', 'dysfunction', 'degenerative', 'icm', 'mitral', 'valve', 'diseases', 'valve', 'repair', 'possible', 'cases', 'freedom', 'reoperation', 'high', 'contrast', 'rheumatic', 'valves', 'amenable', 'repair', 'durability', 'limited', 'isolated', 'valve', 'operations', 'performed', 'minimally', 'invasive', 'fashion', 'partial', 'upper', 'sternotomy', 'patients', 'atrial', 'fibrillation', 'mvd', 'maze', 'procedure', 'pulmonary', 'vein', 'isolation', 'performed', 'eliminating', 'atrial', 'fibrillation', 'need', 'lt', 'ac']</td>\n    </tr>\n    <tr>\n      <th>2</th>\n      <td>typical development</td>\n      <td>TD</td>\n      <td>['explored', 'classification', 'accuracy', 'english', 'spanish', 'versions', 'experimental', 'semantic', 'language', 'measure', 'functional', 'monolingualbilingual', 'children', 'language', 'impairment', 'total', 'children', 'participated', 'including', 'balanced', 'bilinguals', 'language', 'impairment', 'td', 'monolingual', 'spanish', 'language', 'impairment', 'typical', 'od', 'monolingual', 'english', 'language', 'impairment', 'typical', 'od', 'children', 'years', 'cut', 'points', 'derived', 'functionally', 'monolingual', 'children', 'applied', 'bilinguals', 'assess', 'predictive', 'accuracy', 'english', 'spanish', 'semantics', 'correct', 'classification', 'english', 'monolinguals', 'spanish', 'monolinguals', 'discriminant', 'analysis', 'yielded', 'correct', 'classification', 'balanced', 'bilingual', 'children', 'english', 'spanish', 'respectively', 'semanticsbased', 'measure', 'fair', 'good', 'classification', 'accuracy', 'functional', 'monolinguals', 'spanishenglish', 'bilingual', 'children', 'language', 'tested']</td>\n    </tr>\n  </tbody>\n</table>\n</div>",
      "text/plain": "                 LABEL ABV  \\\n0      anticoagulation  AC   \n1      anticoagulation  AC   \n2  typical development  TD   \n\n                                                                                                                                                                                                                                                                                                                                                                                                                                                                                                                                                                                                                                                                                                                                                                                                                                                                                                                                                                                                                                                                       TOKEN  \n0                                                                                                                                                                                                                                                                                                                                                                                                                                                                    ['yearold', 'girl', 'presented', 'unilateral', 'c6', 'nerve', 'palsy', 'papilledema', 't3', 'severe', 'ha', 'magnetic', 'resonance', 'imaging', 'showed', 'thrombosis', 'superior', 'sagittal', 'sinus', 'pt', 'right', 'transverse', 'sinus', 'attributed', 'oral', 'contraceptive', 'use', 't3', 'coagulation', 'workup', 'negative', 'svr', 'anticoagulation', 'caused', 'hemorrhagic', 'papillopathy', 'eyes', 'raising', 'question', 'ac', 'discontinued', 'diagnostic', 'management', 'issues', 'cbf', 'venous', 'sinus', 'thrombosis', 'secondary', 'intracranial', 'hypertension', 'discussed']  \n1                                                                                                                                                               ['mvr', 'procedure', 'choice', 'treat', 'mitral', 'valve', 'dysfunction', 'advantages', 'mvr', 'mitral', 'vr', 'include', 'improved', 'lts', 'better', 'preservation', 'left', 'vvi', 'cf', 'greater', 'freedom', 'endocarditis', 'thromboembolism', 'anticoagulantrelated', 'hemorrhage', 'feasibility', 'durability', 'mvr', 'depend', 'etiology', 'mitral', 'valve', 'dysfunction', 'degenerative', 'icm', 'mitral', 'valve', 'diseases', 'valve', 'repair', 'possible', 'cases', 'freedom', 'reoperation', 'high', 'contrast', 'rheumatic', 'valves', 'amenable', 'repair', 'durability', 'limited', 'isolated', 'valve', 'operations', 'performed', 'minimally', 'invasive', 'fashion', 'partial', 'upper', 'sternotomy', 'patients', 'atrial', 'fibrillation', 'mvd', 'maze', 'procedure', 'pulmonary', 'vein', 'isolation', 'performed', 'eliminating', 'atrial', 'fibrillation', 'need', 'lt', 'ac']  \n2  ['explored', 'classification', 'accuracy', 'english', 'spanish', 'versions', 'experimental', 'semantic', 'language', 'measure', 'functional', 'monolingualbilingual', 'children', 'language', 'impairment', 'total', 'children', 'participated', 'including', 'balanced', 'bilinguals', 'language', 'impairment', 'td', 'monolingual', 'spanish', 'language', 'impairment', 'typical', 'od', 'monolingual', 'english', 'language', 'impairment', 'typical', 'od', 'children', 'years', 'cut', 'points', 'derived', 'functionally', 'monolingual', 'children', 'applied', 'bilinguals', 'assess', 'predictive', 'accuracy', 'english', 'spanish', 'semantics', 'correct', 'classification', 'english', 'monolinguals', 'spanish', 'monolinguals', 'discriminant', 'analysis', 'yielded', 'correct', 'classification', 'balanced', 'bilingual', 'children', 'english', 'spanish', 'respectively', 'semanticsbased', 'measure', 'fair', 'good', 'classification', 'accuracy', 'functional', 'monolinguals', 'spanishenglish', 'bilingual', 'children', 'language', 'tested']  "
     },
     "execution_count": 3,
     "metadata": {},
     "output_type": "execute_result"
    }
   ],
   "source": [
    "# Lets load the train dataset.\n",
    "train = pd.read_csv('Train/train_final.csv')\n",
    "train.head(3)"
   ]
  },
  {
   "cell_type": "code",
   "execution_count": 4,
   "metadata": {},
   "outputs": [],
   "source": [
    "# Lets load validation and test datasets as well\n",
    "valid = pd.read_csv('Validation/valid_final.csv')\n",
    "test = pd.read_csv('Test/test_final.csv')"
   ]
  },
  {
   "cell_type": "code",
   "execution_count": 5,
   "metadata": {},
   "outputs": [
    {
     "data": {
      "text/html": "<div>\n<style scoped>\n    .dataframe tbody tr th:only-of-type {\n        vertical-align: middle;\n    }\n\n    .dataframe tbody tr th {\n        vertical-align: top;\n    }\n\n    .dataframe thead th {\n        text-align: right;\n    }\n</style>\n<table border=\"1\" class=\"dataframe\">\n  <thead>\n    <tr style=\"text-align: right;\">\n      <th></th>\n      <th>LABEL</th>\n      <th>ABV</th>\n      <th>TOKEN</th>\n    </tr>\n  </thead>\n  <tbody>\n    <tr>\n      <th>0</th>\n      <td>benzophenone</td>\n      <td>BP</td>\n      <td>['bp', 'fema', 'cas', 'po', 'diet', 'rats', 'target', 'dls', 'mgkg', 'body', 'weightday', 'days', 'mgkgday', 'days', 'body', 'weights', 'food', 'consumption', 'measured', 'weekly', 'haematology', 'clinical', 'chemistry', 'urinalysis', 'values', 'obtained', 'wk', 'end', 'study', 'gross', 'microscopic', 'pathological', 'examinations', 'conducted', 'organ', 'weights', 'recorded', 'treatmentrelated', 'changes', 'occurred', 'ea', 'count', 'haemoglobin', 'haematocrit', 'bilirubin', 'total', 'protein', 'albumin', 'mid', 'highdose', 'c2', 'changes', 'occur', 'groups', 'sexes', 'indications', 'increased', 'absolute', 'relative', 'cl', 'kidney', 'weights', 'mid', 'highdose', 'groups', 'statistically', 'consistent', 'absolute', 'kidney', 'weights', 'histopathology', 'cl', 'mid', 'highdose', 'cg', 'showed', 'hepatocellular', 'enlargement', 'associated', 'clumping', 'cytoplasmic', 'basophilic', 'material', 'central', 'vein', 'nel', 'demonstrated', 'mgkgday', 'days', 'administration', 'equivalent', 'ni', 'mgday', 'kg', 'human', 'basis', 'calculated', 'possible', 'average', 'daily', 'intake', 'mgday', 'safety', 'factor', 'greater', 'demonstrated', 'safety', 'factor', 'based', 'realistic', 'capita', 'consumption', 'microgramday', 'approximately', 'million']</td>\n    </tr>\n    <tr>\n      <th>1</th>\n      <td>adult</td>\n      <td>AD</td>\n      <td>['investigated', 'expression', 'xist', 'gene', 'mouse', 'female', 'ad', 'kidney', 'embryos', 'embryonic', 'stem', 'es', 'cells', 'undergoing', 'vitro', 'differentiation', 'ebs', 'quantitative', 'rtpcr', 'single', 'nucleotide', 'primer', 'extension', 'snupe', 'ca', 'found', 'xist', 'rna', 'ad', 'kidney', 'mouse', 'strains', 'approximately', 'transcripts', 'cell', 'modest', 'differences', 'strains', 'carrying', 'different', 'xce', 'alleles', 'female', 'embryos', 'days', 'pc', 'number', 'xist', 'transcripts', 'cell', 'isogenic', 'ad', 'tissue', 'quantitative', 'oligonucleotide', 'hybridization', 'assays', 't3', 'rtpcr', 'investigated', 'xist', 'expression', 'es', 'lines', 'heterozygous', 'pgk', 'xist', 'loci', 'found', 'xx', 'es', 'lines', 'xist', 'rna', 'levels', 'increased', 'embryoid', 'body', 'formation', 'levels', 'seen', 'found', 'adult', 'female', 'kidney', 'addition', 'found', 'allelic', 'ratio', 'xist', 'transcripts', 'reciprocal', 'xx', 'es', 'cell', 'lines', 'differentiating', 'vitro', 'mz', 'isogenic', 'day', 'female', 'embryos', 'results', 'suggest', 'dp', 'preferential', 'paternal', 'imprinting', 'days', 'vitro', 'differentiation', 'es', 'cells', 'influence', 'xce', 'locus', 'randomness', 'xinactivation', 'embryos', 'operate', 'es', 'cell', 'lines', 'overall', 'conclusion', 'low', 'c2', 'xist', 'rna', 'female', 'kidney', 'embryos', 'differentiating', 'xx', 'es', 'cells', 'compatible', 'models', 'require', 'xist', 'rna', 'cover', 'entire', 'inactive', 'x', 'chromosome']</td>\n    </tr>\n    <tr>\n      <th>2</th>\n      <td>primary visual cortex</td>\n      <td>V1</td>\n      <td>['recently', 'reported', 'paradoxical', 'facilitatory', 'effect', 'hz', 'rtms', 'rtms', 'v1', 'migraine', 'possibly', 'failure', 'inhibitory', 'circuits', 'unable', 'upregulated', 'vlf', 'rtms', 'investigate', 'inhibitory', 'circuit', 'dysfunction', 'extends', 'striate', 'sc', 'ma', 'studied', 'effects', 'hz', 'rtms', 'ra', 'extrastriate', 'cortex', 'perception', 'illusory', 'contours', 'patients', 'lowfrequency', 'rtms', 'enhanced', 'activity', 'extrastriate', 'cortex', 'migraineurs', 'speeding', 'reaction', 'times', 'illusory', 'contour', 'perception', 'finding', 'supports', 'view', 'failure', 'inhibitory', 'circuits', 'involving', 'extrastriate', 'sc', 'ma']</td>\n    </tr>\n  </tbody>\n</table>\n</div>",
      "text/plain": "                   LABEL ABV  \\\n0           benzophenone  BP   \n1                  adult  AD   \n2  primary visual cortex  V1   \n\n                                                                                                                                                                                                                                                                                                                                                                                                                                                                                                                                                                                                                                                                                                                                                                                                                                                                                                                                                                                                                                                                                                                                                                                                                                                                                                                                                                                                                                                                                                                                                              TOKEN  \n0                                                                                                                                                                                                                                                     ['bp', 'fema', 'cas', 'po', 'diet', 'rats', 'target', 'dls', 'mgkg', 'body', 'weightday', 'days', 'mgkgday', 'days', 'body', 'weights', 'food', 'consumption', 'measured', 'weekly', 'haematology', 'clinical', 'chemistry', 'urinalysis', 'values', 'obtained', 'wk', 'end', 'study', 'gross', 'microscopic', 'pathological', 'examinations', 'conducted', 'organ', 'weights', 'recorded', 'treatmentrelated', 'changes', 'occurred', 'ea', 'count', 'haemoglobin', 'haematocrit', 'bilirubin', 'total', 'protein', 'albumin', 'mid', 'highdose', 'c2', 'changes', 'occur', 'groups', 'sexes', 'indications', 'increased', 'absolute', 'relative', 'cl', 'kidney', 'weights', 'mid', 'highdose', 'groups', 'statistically', 'consistent', 'absolute', 'kidney', 'weights', 'histopathology', 'cl', 'mid', 'highdose', 'cg', 'showed', 'hepatocellular', 'enlargement', 'associated', 'clumping', 'cytoplasmic', 'basophilic', 'material', 'central', 'vein', 'nel', 'demonstrated', 'mgkgday', 'days', 'administration', 'equivalent', 'ni', 'mgday', 'kg', 'human', 'basis', 'calculated', 'possible', 'average', 'daily', 'intake', 'mgday', 'safety', 'factor', 'greater', 'demonstrated', 'safety', 'factor', 'based', 'realistic', 'capita', 'consumption', 'microgramday', 'approximately', 'million']  \n1  ['investigated', 'expression', 'xist', 'gene', 'mouse', 'female', 'ad', 'kidney', 'embryos', 'embryonic', 'stem', 'es', 'cells', 'undergoing', 'vitro', 'differentiation', 'ebs', 'quantitative', 'rtpcr', 'single', 'nucleotide', 'primer', 'extension', 'snupe', 'ca', 'found', 'xist', 'rna', 'ad', 'kidney', 'mouse', 'strains', 'approximately', 'transcripts', 'cell', 'modest', 'differences', 'strains', 'carrying', 'different', 'xce', 'alleles', 'female', 'embryos', 'days', 'pc', 'number', 'xist', 'transcripts', 'cell', 'isogenic', 'ad', 'tissue', 'quantitative', 'oligonucleotide', 'hybridization', 'assays', 't3', 'rtpcr', 'investigated', 'xist', 'expression', 'es', 'lines', 'heterozygous', 'pgk', 'xist', 'loci', 'found', 'xx', 'es', 'lines', 'xist', 'rna', 'levels', 'increased', 'embryoid', 'body', 'formation', 'levels', 'seen', 'found', 'adult', 'female', 'kidney', 'addition', 'found', 'allelic', 'ratio', 'xist', 'transcripts', 'reciprocal', 'xx', 'es', 'cell', 'lines', 'differentiating', 'vitro', 'mz', 'isogenic', 'day', 'female', 'embryos', 'results', 'suggest', 'dp', 'preferential', 'paternal', 'imprinting', 'days', 'vitro', 'differentiation', 'es', 'cells', 'influence', 'xce', 'locus', 'randomness', 'xinactivation', 'embryos', 'operate', 'es', 'cell', 'lines', 'overall', 'conclusion', 'low', 'c2', 'xist', 'rna', 'female', 'kidney', 'embryos', 'differentiating', 'xx', 'es', 'cells', 'compatible', 'models', 'require', 'xist', 'rna', 'cover', 'entire', 'inactive', 'x', 'chromosome']  \n2                                                                                                                                                                                                                                                                                                                                                                                                                                                                                                                                                                                                                                                                                                                                                                                                                                                                     ['recently', 'reported', 'paradoxical', 'facilitatory', 'effect', 'hz', 'rtms', 'rtms', 'v1', 'migraine', 'possibly', 'failure', 'inhibitory', 'circuits', 'unable', 'upregulated', 'vlf', 'rtms', 'investigate', 'inhibitory', 'circuit', 'dysfunction', 'extends', 'striate', 'sc', 'ma', 'studied', 'effects', 'hz', 'rtms', 'ra', 'extrastriate', 'cortex', 'perception', 'illusory', 'contours', 'patients', 'lowfrequency', 'rtms', 'enhanced', 'activity', 'extrastriate', 'cortex', 'migraineurs', 'speeding', 'reaction', 'times', 'illusory', 'contour', 'perception', 'finding', 'supports', 'view', 'failure', 'inhibitory', 'circuits', 'involving', 'extrastriate', 'sc', 'ma']  "
     },
     "execution_count": 5,
     "metadata": {},
     "output_type": "execute_result"
    }
   ],
   "source": [
    "valid.head(3)"
   ]
  },
  {
   "cell_type": "code",
   "execution_count": 6,
   "metadata": {},
   "outputs": [
    {
     "data": {
      "text/html": "<div>\n<style scoped>\n    .dataframe tbody tr th:only-of-type {\n        vertical-align: middle;\n    }\n\n    .dataframe tbody tr th {\n        vertical-align: top;\n    }\n\n    .dataframe thead th {\n        text-align: right;\n    }\n</style>\n<table border=\"1\" class=\"dataframe\">\n  <thead>\n    <tr style=\"text-align: right;\">\n      <th></th>\n      <th>LABEL</th>\n      <th>ABV</th>\n      <th>TOKEN</th>\n    </tr>\n  </thead>\n  <tbody>\n    <tr>\n      <th>0</th>\n      <td>micronucleus</td>\n      <td>MN</td>\n      <td>['work', 'tested', 'hypothesis', 'content', 'spontaneous', 'micronuclei', 'lymphocytes', 'apparently', 'healthy', 'normal', 'human', 'subject', 'exhibited', 'unusually', 'high', 'mn', 'frequency', 'nonrandom', 'dna', 'probes', 'fluorescent', 'insitu', 'hybridization', 'fish', 'beginning', 'probe', 'generated', 'subjects', 'micronuclei', 'micronuclei', 'obtained', 'peripheral', 'bl', 'microdissection', 'subjected', 'rapd', 'rapdpcr', 'unique', 'pcr', 'product', 'isolate', 'cosmid', 'clone', 'human', 'genomic', 'library', 'clone', 'hybridized', 'chromosome', 'subsequently', 'commercial', 'probes', 'included', 'fish', 'analyses', 'micronuclei', 'subject', 'age', 'sexmatched', 'controls', 'significant', 'differences', 'found', 'subject', 'controls', 'percentages', 'micronuclei', 'hybridizing', 'centromere', 'probe', 'x', 'chromosome', 'painting', 'probe', 'chromosome', 'subject', 'highly', 'significant', 'increase', 'p', 'chromosome', 'micronuclei', 'level', 'expected', 'present', 'chance', 'characterization', 'micronuclei', 'promising', 'tool', 'studies', 'mechanisms', 'inherited', 'induced', 'cin', 'strength', 'strategy', 'employed', 't0', 'characterizing', 'chromosomes', 'present', 'micronuclei', 'work', 't3', 'observation', 'chromosomal', 'instability', 'foundation', 't0', 'mechanism', 'underlying', 'observation']</td>\n    </tr>\n    <tr>\n      <th>1</th>\n      <td>bipolar</td>\n      <td>BP</td>\n      <td>['onethird', 'lithiumtreated', 'bp', 'patients', 'excellent', 'lithium', 'nr', 'lithium', 'monotherapy', 'totally', 'prevents', 'episodes', 'bp', 'disorder', 'years', 'patients', 'clinically', 'characterized', 'episodic', 'clinical', 'course', 'cr', 'remission', 'bipolar', 'family', 'history', 'low', 'psychiatric', 'comorbidity', 'maniadepression', 'episode', 'sequences', 'moderate', 'number', 'episodes', 'low', 'number', 'hospitalizations', 'prelithium', 'period', 'recently', 'found', 'temperamental', 'features', 'hypomania', 'hyperthymic', 'temperament', 'lack', 'cognitive', 'disorganization', 'predict', 'best', 'results', 'lithium', 'prophylaxis', 'lithium', 'exerts', 'neuroprotective', 'effect', 'increased', 'expression', 'brainderived', 'neurotrophic', 'factor', 'bdnf', 'inhibition', 'glycogen', 'synthase', 'kinase', 'gsk', 'play', 'important', 'role', 'response', 'lithium', 'connected', 'tt', 'bdnf', 'gene', 'ss', 'bdnf', 'levels', 'better', 'response', 'lithium', 'connected', 'met', 'allele', 'bdnf', 'valmet', 'polymorphism', 'hyperthymic', 'temperament', 'excellent', 'lithium', 'nr', 'normal', 'cognitive', 'functions', 'serum', 'bdnf', 'levels', 't3', 'lt', 'duration', 'illness', 'preservation', 'cognitive', 'functions', 'longterm', 'lithiumtreated', 'patients', 'connected', 'stimulation', 'bdnf', 'system', 'resulting', 'prevention', 'affective', 'episodes', 'exerting', 'deleterious', 'cognitive', 'effects', 'possibly', 'lithiums', 'antiviral', 'effects', 'number', 'candidate', 'genes', 'related', 'neurotransmitters', 'intracellular', 'signaling', 'neuroprotection', 'circadian', 'rhythms', 'pathogenic', 'mechanisms', 'bipolar', 'disorder', 'found', 'associated', 'lithium', 'prophylactic', 'response', 'consortium', 'lithium', 'genetics', 'conligen', 'recently', 'performed', 'genomewide', 'association', 't0', 'lithium', 'response', 'bp', 'disorder']</td>\n    </tr>\n    <tr>\n      <th>2</th>\n      <td>genetic programming</td>\n      <td>GP</td>\n      <td>['performance', 'energy', 'conversion', 'system', 'depends', 'exergy', 'analysis', 'entropy', 'generation', 'minimisation', 'new', 'simple', 'fourparameter', 'equation', 'presented', 'paper', 'predict', 'standard', 'state', 'absolute', 'entropy', 'real', 'gases', 'sstd', 'mm', 'development', 'validation', 'accomplished', 'linear', 'gp', 'lgp', 'method', 'comprehensive', 'dataset', 'widely', 'materials', 'proposed', 'model', 'compared', 'results', 'obtained', 'threelayer', 'feed', 'forward', 'neural', 'network', 'mm', 'ffnn', 'mm', 'rootmeansquare', 'error', 'rmse', 'coefficient', 'determination', 'r', 'data', 'obtained', 'lgp', 'mm', 'jmol', 'k', 'respectively', 'statistical', 'assessments', 'evaluate', 'predictive', 'power', 'mm', 'addition', 't0', 'provides', 'appropriate', 'understanding', 'important', 'molecular', 'variables', 'exergy', 'analysis', 'compared', 'lgp', 'based', 'mm', 'application', 'ffnn', 'improved', 'r', 'developed', 'mm', 'useful', 'design', 'materials', 'achieve', 'desired', 'entropy', 'value']</td>\n    </tr>\n  </tbody>\n</table>\n</div>",
      "text/plain": "                 LABEL ABV  \\\n0         micronucleus  MN   \n1              bipolar  BP   \n2  genetic programming  GP   \n\n                                                                                                                                                                                                                                                                                                                                                                                                                                                                                                                                                                                                                                                                                                                                                                                                                                                                                                                                                                                                                                                                                                                                                                                                                                                                                                                                                                                                                                                                                                                                                                                                                                                                                                                                                                                                                                                                                                                                                             TOKEN  \n0                                                                                                                                                                                                                                                                                                                                                                                                                                                                                                                                                                          ['work', 'tested', 'hypothesis', 'content', 'spontaneous', 'micronuclei', 'lymphocytes', 'apparently', 'healthy', 'normal', 'human', 'subject', 'exhibited', 'unusually', 'high', 'mn', 'frequency', 'nonrandom', 'dna', 'probes', 'fluorescent', 'insitu', 'hybridization', 'fish', 'beginning', 'probe', 'generated', 'subjects', 'micronuclei', 'micronuclei', 'obtained', 'peripheral', 'bl', 'microdissection', 'subjected', 'rapd', 'rapdpcr', 'unique', 'pcr', 'product', 'isolate', 'cosmid', 'clone', 'human', 'genomic', 'library', 'clone', 'hybridized', 'chromosome', 'subsequently', 'commercial', 'probes', 'included', 'fish', 'analyses', 'micronuclei', 'subject', 'age', 'sexmatched', 'controls', 'significant', 'differences', 'found', 'subject', 'controls', 'percentages', 'micronuclei', 'hybridizing', 'centromere', 'probe', 'x', 'chromosome', 'painting', 'probe', 'chromosome', 'subject', 'highly', 'significant', 'increase', 'p', 'chromosome', 'micronuclei', 'level', 'expected', 'present', 'chance', 'characterization', 'micronuclei', 'promising', 'tool', 'studies', 'mechanisms', 'inherited', 'induced', 'cin', 'strength', 'strategy', 'employed', 't0', 'characterizing', 'chromosomes', 'present', 'micronuclei', 'work', 't3', 'observation', 'chromosomal', 'instability', 'foundation', 't0', 'mechanism', 'underlying', 'observation']  \n1  ['onethird', 'lithiumtreated', 'bp', 'patients', 'excellent', 'lithium', 'nr', 'lithium', 'monotherapy', 'totally', 'prevents', 'episodes', 'bp', 'disorder', 'years', 'patients', 'clinically', 'characterized', 'episodic', 'clinical', 'course', 'cr', 'remission', 'bipolar', 'family', 'history', 'low', 'psychiatric', 'comorbidity', 'maniadepression', 'episode', 'sequences', 'moderate', 'number', 'episodes', 'low', 'number', 'hospitalizations', 'prelithium', 'period', 'recently', 'found', 'temperamental', 'features', 'hypomania', 'hyperthymic', 'temperament', 'lack', 'cognitive', 'disorganization', 'predict', 'best', 'results', 'lithium', 'prophylaxis', 'lithium', 'exerts', 'neuroprotective', 'effect', 'increased', 'expression', 'brainderived', 'neurotrophic', 'factor', 'bdnf', 'inhibition', 'glycogen', 'synthase', 'kinase', 'gsk', 'play', 'important', 'role', 'response', 'lithium', 'connected', 'tt', 'bdnf', 'gene', 'ss', 'bdnf', 'levels', 'better', 'response', 'lithium', 'connected', 'met', 'allele', 'bdnf', 'valmet', 'polymorphism', 'hyperthymic', 'temperament', 'excellent', 'lithium', 'nr', 'normal', 'cognitive', 'functions', 'serum', 'bdnf', 'levels', 't3', 'lt', 'duration', 'illness', 'preservation', 'cognitive', 'functions', 'longterm', 'lithiumtreated', 'patients', 'connected', 'stimulation', 'bdnf', 'system', 'resulting', 'prevention', 'affective', 'episodes', 'exerting', 'deleterious', 'cognitive', 'effects', 'possibly', 'lithiums', 'antiviral', 'effects', 'number', 'candidate', 'genes', 'related', 'neurotransmitters', 'intracellular', 'signaling', 'neuroprotection', 'circadian', 'rhythms', 'pathogenic', 'mechanisms', 'bipolar', 'disorder', 'found', 'associated', 'lithium', 'prophylactic', 'response', 'consortium', 'lithium', 'genetics', 'conligen', 'recently', 'performed', 'genomewide', 'association', 't0', 'lithium', 'response', 'bp', 'disorder']  \n2                                                                                                                                                                                                                                                                                                                                                                                                                                                                                                                                                                                                                                                                                                                                                                                                                                                                                         ['performance', 'energy', 'conversion', 'system', 'depends', 'exergy', 'analysis', 'entropy', 'generation', 'minimisation', 'new', 'simple', 'fourparameter', 'equation', 'presented', 'paper', 'predict', 'standard', 'state', 'absolute', 'entropy', 'real', 'gases', 'sstd', 'mm', 'development', 'validation', 'accomplished', 'linear', 'gp', 'lgp', 'method', 'comprehensive', 'dataset', 'widely', 'materials', 'proposed', 'model', 'compared', 'results', 'obtained', 'threelayer', 'feed', 'forward', 'neural', 'network', 'mm', 'ffnn', 'mm', 'rootmeansquare', 'error', 'rmse', 'coefficient', 'determination', 'r', 'data', 'obtained', 'lgp', 'mm', 'jmol', 'k', 'respectively', 'statistical', 'assessments', 'evaluate', 'predictive', 'power', 'mm', 'addition', 't0', 'provides', 'appropriate', 'understanding', 'important', 'molecular', 'variables', 'exergy', 'analysis', 'compared', 'lgp', 'based', 'mm', 'application', 'ffnn', 'improved', 'r', 'developed', 'mm', 'useful', 'design', 'materials', 'achieve', 'desired', 'entropy', 'value']  "
     },
     "execution_count": 6,
     "metadata": {},
     "output_type": "execute_result"
    }
   ],
   "source": [
    "test.head(3)"
   ]
  },
  {
   "cell_type": "markdown",
   "metadata": {},
   "source": [
    "### Lets keep only relevant records in Valid and test set."
   ]
  },
  {
   "cell_type": "code",
   "execution_count": 7,
   "metadata": {},
   "outputs": [],
   "source": [
    "    abbrev = list(train['ABV'].unique())\n",
    "    valid = valid[valid['ABV'].isin(abbrev)]\n",
    "    test = test[test['ABV'].isin(abbrev)]\n",
    "    labels = list(train['LABEL'].unique())\n",
    "    valid = valid[valid['LABEL'].isin(labels)]\n",
    "    test = test[test['LABEL'].isin(labels)]\n"
   ]
  },
  {
   "cell_type": "markdown",
   "metadata": {},
   "source": [
    "### Lets drop 'ABV' column"
   ]
  },
  {
   "cell_type": "code",
   "execution_count": 8,
   "metadata": {},
   "outputs": [],
   "source": [
    "train.drop(columns='ABV', inplace = True)\n",
    "valid.drop(columns='ABV', inplace = True)\n",
    "test.drop(columns='ABV', inplace = True)"
   ]
  },
  {
   "cell_type": "code",
   "execution_count": 9,
   "metadata": {},
   "outputs": [],
   "source": [
    "# Convert TOKEN column from string to list\n",
    "train['TOKEN'] = train['TOKEN'].apply(lambda x: ast.literal_eval(x))\n",
    "valid['TOKEN'] = valid['TOKEN'].apply(lambda x: ast.literal_eval(x))\n",
    "test['TOKEN'] = test['TOKEN'].apply(lambda x: ast.literal_eval(x))"
   ]
  },
  {
   "cell_type": "markdown",
   "metadata": {},
   "source": [
    "### Lets tag every Token List with its Label"
   ]
  },
  {
   "cell_type": "code",
   "execution_count": 10,
   "metadata": {},
   "outputs": [],
   "source": [
    "train_tagged = train.apply(lambda x: TaggedDocument(words = x['TOKEN'], tags = [x['LABEL']]), axis=1)\n",
    "valid_tagged = valid.apply(lambda x: TaggedDocument(words = x['TOKEN'], tags = [x['LABEL']]), axis=1)\n",
    "test_tagged = test.apply(lambda x: TaggedDocument(words = x['TOKEN'], tags = [x['LABEL']]), axis=1)"
   ]
  },
  {
   "cell_type": "code",
   "execution_count": 11,
   "metadata": {},
   "outputs": [
    {
     "data": {
      "text/plain": "array([TaggedDocument(words=['yearold', 'girl', 'presented', 'unilateral', 'c6', 'nerve', 'palsy', 'papilledema', 't3', 'severe', 'ha', 'magnetic', 'resonance', 'imaging', 'showed', 'thrombosis', 'superior', 'sagittal', 'sinus', 'pt', 'right', 'transverse', 'sinus', 'attributed', 'oral', 'contraceptive', 'use', 't3', 'coagulation', 'workup', 'negative', 'svr', 'anticoagulation', 'caused', 'hemorrhagic', 'papillopathy', 'eyes', 'raising', 'question', 'ac', 'discontinued', 'diagnostic', 'management', 'issues', 'cbf', 'venous', 'sinus', 'thrombosis', 'secondary', 'intracranial', 'hypertension', 'discussed'], tags=['anticoagulation']),\n       TaggedDocument(words=['mvr', 'procedure', 'choice', 'treat', 'mitral', 'valve', 'dysfunction', 'advantages', 'mvr', 'mitral', 'vr', 'include', 'improved', 'lts', 'better', 'preservation', 'left', 'vvi', 'cf', 'greater', 'freedom', 'endocarditis', 'thromboembolism', 'anticoagulantrelated', 'hemorrhage', 'feasibility', 'durability', 'mvr', 'depend', 'etiology', 'mitral', 'valve', 'dysfunction', 'degenerative', 'icm', 'mitral', 'valve', 'diseases', 'valve', 'repair', 'possible', 'cases', 'freedom', 'reoperation', 'high', 'contrast', 'rheumatic', 'valves', 'amenable', 'repair', 'durability', 'limited', 'isolated', 'valve', 'operations', 'performed', 'minimally', 'invasive', 'fashion', 'partial', 'upper', 'sternotomy', 'patients', 'atrial', 'fibrillation', 'mvd', 'maze', 'procedure', 'pulmonary', 'vein', 'isolation', 'performed', 'eliminating', 'atrial', 'fibrillation', 'need', 'lt', 'ac'], tags=['anticoagulation']),\n       TaggedDocument(words=['explored', 'classification', 'accuracy', 'english', 'spanish', 'versions', 'experimental', 'semantic', 'language', 'measure', 'functional', 'monolingualbilingual', 'children', 'language', 'impairment', 'total', 'children', 'participated', 'including', 'balanced', 'bilinguals', 'language', 'impairment', 'td', 'monolingual', 'spanish', 'language', 'impairment', 'typical', 'od', 'monolingual', 'english', 'language', 'impairment', 'typical', 'od', 'children', 'years', 'cut', 'points', 'derived', 'functionally', 'monolingual', 'children', 'applied', 'bilinguals', 'assess', 'predictive', 'accuracy', 'english', 'spanish', 'semantics', 'correct', 'classification', 'english', 'monolinguals', 'spanish', 'monolinguals', 'discriminant', 'analysis', 'yielded', 'correct', 'classification', 'balanced', 'bilingual', 'children', 'english', 'spanish', 'respectively', 'semanticsbased', 'measure', 'fair', 'good', 'classification', 'accuracy', 'functional', 'monolinguals', 'spanishenglish', 'bilingual', 'children', 'language', 'tested'], tags=['typical development']),\n       TaggedDocument(words=['tau', 'microtubuleassociated', 'protein', 'present', 'axons', 'elevated', 'tau', 'protein', 'c2', 'csf', 'fluid', 'ss', 'associated', 'cns', 'system', 'diseases', 'indicate', 'neuronal', 'injury'], tags=['tau protein']),\n       TaggedDocument(words=['cowden', 'syndrome', 'known', 'multiple', 'hamartoma', 'syndrome', 'rare', 'autosomal', 'dominant', 'disorder', 'characterized', 'multiple', 'hamartomas', 'high', 'risk', 'od', 'malignancy', 'oral', 'findings', 'papillomatous', 'lesions', 'fibromas', 'common', 'features', 'periodontal', 'phenotype', 'reported', 'previously', 'report', 'presents', 'case', 'gingival', 'overgrowth', 'associated', 'cowden', 'syndrome', 'successful', 'surgical', 'management', 'month', 'followup', 'results', 'additionally', 'discuss', 'implications', 'clinicians', 'yearold', 'woman', 'referred', 'department', 'periodontics', 'piracicaba', 'dental', 'school', 'presenting', 'generalized', 'detailed', 'dental', 'medical', 'ph', 'clinical', 'examination', 'confirmed', 'systemic', 'diagnosis', 'cowden', 'syndrome', 'histology', 'radiographs', 'clinical', 'data', 'document', 'entire', 'clinical', 'rpa', 'followup', 'clinically', 'minor', 'signs', 'recurrence', 'gingival', 'overgrowth', 'month', 'period', 't3', 'gingivectomy', 'papular', 'lesions', 'reappeared', 'keratinized', 'gingiva', 'immediately', 't3', 'healing', 'signs', 'bl', 'related', 'systemic', 'condition', 'observed', 'radiographically', 'histologically', 'dense', 'connective', 'tissue', 'moderate', 'chronic', 'inflammatory', 'infiltrate', 'epithelial', 'acanthosis', 'characteristic', 'gh', 'demonstrated', 'occur', 'oral', 'phenotype', 'related', 'cowden', 'syndrome', 'successfully', 'treated', 'means', 'external', 'bevel', 'gingivectomy', 'followed', 'regular', 'maintenance', 'therapy', 'contributing', 'patients', 'wellbeing', 'functionally', 'esthetically'], tags=['gingival hyperplasia'])],\n      dtype=object)"
     },
     "execution_count": 11,
     "metadata": {},
     "output_type": "execute_result"
    }
   ],
   "source": [
    "train_tagged.values[:5]"
   ]
  },
  {
   "cell_type": "markdown",
   "metadata": {},
   "source": [
    "## Step# 2: Apply Doc2vec vectorizer on the Dataset"
   ]
  },
  {
   "cell_type": "code",
   "execution_count": 12,
   "metadata": {},
   "outputs": [],
   "source": [
    "vectorize = Doc2Vec(dm=0, vector_size=100, min_count=2, window = 2)\n",
    "vectorize.build_vocab(train_tagged.values)"
   ]
  },
  {
   "cell_type": "code",
   "execution_count": 13,
   "metadata": {},
   "outputs": [],
   "source": [
    "vectorize.train(train_tagged.values, total_examples=len(train_tagged.values), epochs=30)"
   ]
  },
  {
   "cell_type": "markdown",
   "metadata": {},
   "source": [
    "### Building the Final Vector Feature Classifier"
   ]
  },
  {
   "cell_type": "code",
   "execution_count": 14,
   "metadata": {},
   "outputs": [],
   "source": [
    "def vec_for_learning(model, tagged_docs):\n",
    "    sents = tagged_docs.values\n",
    "    targets, regressors = zip(*[(doc.tags[0], model.infer_vector(doc.words, steps=30)) for doc in sents])\n",
    "    return targets, regressors"
   ]
  },
  {
   "cell_type": "code",
   "execution_count": 15,
   "metadata": {},
   "outputs": [],
   "source": [
    "y_train, X_train = vec_for_learning(vectorize, train_tagged)"
   ]
  },
  {
   "cell_type": "markdown",
   "metadata": {},
   "source": [
    "## Model# 1: Logistic Classifier"
   ]
  },
  {
   "cell_type": "markdown",
   "metadata": {},
   "source": [
    "### Lets perform a Grid Search to get the best possible combination of Hyperparameters for Logistic Regression Model"
   ]
  },
  {
   "cell_type": "code",
   "execution_count": 41,
   "metadata": {},
   "outputs": [],
   "source": [
    "param_grid = {'C':[0.001, 0.01, 0.1, 1, 10, 100]}\n",
    "grid_model = GridSearchCV(LogisticRegression(n_jobs=-1), param_grid)"
   ]
  },
  {
   "cell_type": "code",
   "execution_count": 42,
   "metadata": {},
   "outputs": [
    {
     "data": {
      "text/plain": [
       "GridSearchCV(estimator=LogisticRegression(n_jobs=-1),\n",
       "             param_grid={'C': [0.001, 0.01, 0.1, 1, 10, 100]})"
      ]
     },
     "execution_count": 42,
     "metadata": {},
     "output_type": "execute_result"
    }
   ],
   "source": [
    "grid_model.fit(X_train, y_train)"
   ]
  },
  {
   "cell_type": "code",
   "execution_count": 43,
   "metadata": {},
   "outputs": [
    {
     "data": {
      "text/plain": [
       "{'C': 1}"
      ]
     },
     "execution_count": 43,
     "metadata": {},
     "output_type": "execute_result"
    }
   ],
   "source": [
    "### Best parameters for the Grid Search\n",
    "grid_model.best_params_"
   ]
  },
  {
   "cell_type": "code",
   "execution_count": 44,
   "metadata": {},
   "outputs": [
    {
     "data": {
      "text/plain": [
       "0.9805815760310533"
      ]
     },
     "execution_count": 44,
     "metadata": {},
     "output_type": "execute_result"
    }
   ],
   "source": [
    "### Accuracy Score\n",
    "grid_model.best_score_"
   ]
  },
  {
   "cell_type": "markdown",
   "metadata": {},
   "source": [
    "### Apply the best parameters to Logistic Regression and train the model."
   ]
  },
  {
   "cell_type": "code",
   "execution_count": 45,
   "metadata": {},
   "outputs": [
    {
     "data": {
      "text/plain": [
       "LogisticRegression(C=1, n_jobs=-1)"
      ]
     },
     "execution_count": 45,
     "metadata": {},
     "output_type": "execute_result"
    }
   ],
   "source": [
    "logreg = LogisticRegression(n_jobs=-1, C=1)\n",
    "logreg.fit(X_train, y_train)"
   ]
  },
  {
   "cell_type": "code",
   "execution_count": 46,
   "metadata": {},
   "outputs": [],
   "source": [
    "### Apply the above Model on Validation Set\n",
    "y_valid, X_valid = vec_for_learning(vectorize, valid_tagged)\n",
    "y_pred_valid = logreg.predict(X_valid)"
   ]
  },
  {
   "cell_type": "code",
   "execution_count": 47,
   "metadata": {},
   "outputs": [
    {
     "name": "stdout",
     "output_type": "stream",
     "text": [
      "Validation Accuracy: 0.6913\n",
      "Validation F1-Score: 0.6848102160464058\n"
     ]
    }
   ],
   "source": [
    "print('Validation Accuracy:', accuracy_score(y_valid, y_pred_valid))\n",
    "print('Validation F1-Score:', f1_score(y_valid, y_pred_valid, average='weighted'))"
   ]
  },
  {
   "cell_type": "markdown",
   "metadata": {},
   "source": [
    "### As per the above analysis of validation set, it can be seen that the Logistic Classification model gives\n",
    "1. F1- Score of: 0.68\n",
    "2. Accuracy of: 69%\n",
    "\n",
    "Hence, lets apply this model to our Test set and check its performance metrics."
   ]
  },
  {
   "cell_type": "code",
   "execution_count": 48,
   "metadata": {},
   "outputs": [],
   "source": [
    "### Apply the above Model on Test Set\n",
    "y_test, X_test = vec_for_learning(vectorize, test_tagged)\n",
    "y_pred_test = logreg.predict(X_test)"
   ]
  },
  {
   "cell_type": "markdown",
   "metadata": {},
   "source": [
    "### Lets calculate some Performance Metrics on the Test predictions."
   ]
  },
  {
   "cell_type": "code",
   "execution_count": 68,
   "metadata": {},
   "outputs": [
    {
     "name": "stdout",
     "output_type": "stream",
     "text": [
      "Test Accuracy: 0.6962\n",
      "Test F1-Score: 0.6906125218543699\n"
     ]
    }
   ],
   "source": [
    "accuracy = accuracy_score(y_test, y_pred_test)\n",
    "f1_scr = f1_score(y_test, y_pred_test, average='weighted')\n",
    "print('Test Accuracy:', accuracy)\n",
    "print('Test F1-Score:', f1_scr)"
   ]
  },
  {
   "cell_type": "code",
   "execution_count": 74,
   "metadata": {},
   "outputs": [
    {
     "name": "stdout",
     "output_type": "stream",
     "text": [
      "                                                   precision    recall  f1-score   support\n",
      "\n",
      "                                habitual abortion       0.83      1.00      0.91        15\n",
      "                                 hemolytic anemia       0.79      0.91      0.85        45\n",
      "                                   thermodilution       0.76      0.60      0.67        48\n",
      "                               activated charcoal       0.84      0.88      0.86        48\n",
      "                                  edmonstonzagreb       0.42      0.30      0.35        54\n",
      "                       metabolism of benzoapyrene       0.95      1.00      0.98        21\n",
      "                                  buffer capacity       0.79      0.93      0.85        41\n",
      "                                       decay rate       1.00      0.78      0.88         9\n",
      "                          hypersensitive reaction       0.96      0.86      0.91        29\n",
      "                      live attenuated coldadapted       0.87      0.85      0.86        53\n",
      "                                  aqueous extract       0.69      0.76      0.72        55\n",
      "                             androgen deprivation       0.72      0.67      0.69        54\n",
      "                                coronary arteries       0.33      0.17      0.22         6\n",
      "                                      tau protein       0.65      0.59      0.62        22\n",
      "                                  dosing interval       0.86      0.88      0.87        42\n",
      "                             tryptophan depletion       0.69      0.77      0.73        44\n",
      "                             glycolytic potential       0.83      0.76      0.80        51\n",
      "                                   pressure decay       0.57      0.57      0.57        47\n",
      "                      alzheimers disease patients       0.14      0.08      0.10        52\n",
      "                                    amniocentesis       0.80      1.00      0.89         8\n",
      "                 minor histocompatibility antigen       0.85      0.89      0.87        53\n",
      "                             attenuationcorrected       1.00      0.75      0.86         4\n",
      "                            primary visual cortex       0.50      0.49      0.50        53\n",
      "                               bowenoid papulosis       0.34      0.37      0.36        43\n",
      "                                      meal number       0.85      0.83      0.84        54\n",
      "                   mice selectively bred for high       1.00      0.33      0.50         3\n",
      "                               axillary clearance       0.85      0.81      0.83        36\n",
      "                                      bells palsy       0.58      0.79      0.67        48\n",
      "                              aortic constriction       1.00      0.62      0.77         8\n",
      "                              articular cartilage       0.77      0.85      0.81        48\n",
      "                                water deprivation       0.75      0.38      0.50         8\n",
      "                                     nearinfrared       0.90      0.82      0.86        11\n",
      "                               freerunning period       0.36      0.27      0.31        52\n",
      "                                 cold agglutinins       0.88      0.90      0.89        50\n",
      "                         generalized polarization       0.50      0.48      0.49        52\n",
      "                                 heat acclimation       0.74      0.50      0.60        28\n",
      "                          hypothalamic amenorrhea       0.76      0.88      0.82        48\n",
      "                                      elimination       0.65      0.76      0.70        49\n",
      "                                atopic dermatitis       1.00      0.79      0.88        14\n",
      "                               atypical carcinoid       0.79      0.92      0.85        52\n",
      "                                       heart area       0.67      0.52      0.58        60\n",
      "                          assimilation efficiency       0.89      0.67      0.76        12\n",
      "                           artificial circulation       0.71      0.82      0.76        44\n",
      "                                  arachnoid cysts       0.69      0.62      0.65        55\n",
      "                            information retrieval       0.49      0.49      0.49        39\n",
      "                             ionizing irradiation       0.00      0.00      0.00         3\n",
      "                                    adultdirected       0.49      0.47      0.48        55\n",
      "                                           trpasp       0.61      0.61      0.61        49\n",
      "                                          acetone       0.67      0.38      0.48        16\n",
      "                                         biphenyl       0.87      0.79      0.82        42\n",
      "                             hydroxyapatitecoated       0.70      0.70      0.70        53\n",
      "                   against platelet glycoproteins       0.76      0.80      0.78        55\n",
      "                          genetic hemochromatosis       1.00      1.00      1.00        10\n",
      "                                      triple dose       0.78      0.77      0.77        56\n",
      "                              arrhythmogenic dose       0.78      0.75      0.76        56\n",
      "                    anterodorsal thalamic nucleus       0.79      0.96      0.87        52\n",
      "                                    hbenzoapyrene       0.81      0.84      0.83        51\n",
      "                              acute cholecystitis       1.00      0.50      0.67         4\n",
      "                           activation coefficient       0.70      0.75      0.72        51\n",
      "                                     anterodorsal       0.71      0.64      0.67        42\n",
      "                                binding potential       0.50      0.47      0.49        19\n",
      "                 doxorubicin and cyclophosphamide       0.79      0.92      0.85        12\n",
      "                                 general practice       1.00      0.82      0.90        17\n",
      "                                    anticoagulant       0.69      0.69      0.69        49\n",
      "                                    atopic eczema       0.65      0.78      0.71        46\n",
      "                              anterior commissure       0.84      0.84      0.84        49\n",
      "                           hepatocellular adenoma       0.80      0.91      0.85        54\n",
      "                                methyl nicotinate       0.27      0.33      0.30         9\n",
      "                                histamine release       0.73      0.91      0.81        33\n",
      "                                fluorescent light       0.71      0.84      0.77        32\n",
      "                               travelers diarrhea       0.49      0.52      0.50        56\n",
      "                                 carotid arteries       0.47      0.62      0.53        50\n",
      "                                    allylestrenol       0.82      0.84      0.83        43\n",
      "                           regression coefficient       0.60      0.70      0.64        53\n",
      "                                acoustic emission       1.00      0.75      0.86         4\n",
      "                                 anterior chamber       0.79      0.58      0.67        19\n",
      "                                  total deviation       0.81      0.88      0.85        50\n",
      "                               bullous pemphigoid       0.90      0.80      0.85        56\n",
      "                          avian encephalomyelitis       0.69      0.82      0.75        60\n",
      "                                     micronucleus       0.97      1.00      0.99        33\n",
      "                                  asbestos cement       0.80      0.87      0.83        54\n",
      "                                      anchor cell       0.86      0.92      0.89        59\n",
      "                            autonomic dysreflexia       0.88      0.96      0.92        54\n",
      "                                         headache       0.57      0.44      0.50        18\n",
      "                                     glenohumeral       0.56      0.56      0.56        45\n",
      "                                         vascular       0.62      0.77      0.68        65\n",
      "                                 hepatic arterial       0.73      0.79      0.76        14\n",
      "                               general population       0.83      0.63      0.72        54\n",
      "                    influenza virus hemagglutinin       0.49      0.66      0.56        44\n",
      "                                  glucose polymer       0.67      0.60      0.64        48\n",
      "                                      fetal liver       0.76      0.90      0.82        31\n",
      "                                  backpropagation       0.42      0.27      0.33        52\n",
      "                                  brachial plexus       0.84      0.88      0.86        48\n",
      "calcitonin generelated peptide cgrpimmunoreactive       0.85      0.90      0.88        51\n",
      "                                 absence epilepsy       0.89      0.94      0.91        17\n",
      "                                 hemagglutination       0.73      0.87      0.79        52\n",
      "                              central compartment       1.00      0.50      0.67         2\n",
      "                               autosomal dominant       0.44      0.40      0.42        10\n",
      "                                      vasopressor       0.71      0.59      0.65        54\n",
      "                              aesthetic component       0.62      0.57      0.59        14\n",
      "                                  acid ceramidase       0.83      0.90      0.87        50\n",
      "                               firefly luciferase       1.00      0.40      0.57         5\n",
      "              lines of chickens selected for high       0.79      0.82      0.80        45\n",
      "                                          bipolar       0.60      0.44      0.51        57\n",
      "                       hemagglutinin glycoprotein       0.60      0.57      0.58        53\n",
      "                                  aberrant crypts       0.84      0.70      0.76        53\n",
      "                              stiffness parameter       0.59      0.78      0.67        51\n",
      "                         genetic haemochromatosis       0.88      0.58      0.70        12\n",
      "                              typical development       0.83      0.77      0.80        26\n",
      "                                haemagglutinating       0.35      0.57      0.43        47\n",
      "                          tibial dyschondroplasia       0.71      0.74      0.73        47\n",
      "                          thanatophoric dysplasia       0.45      0.58      0.51        48\n",
      "                              hippocampal atrophy       0.76      0.65      0.70        54\n",
      "                               min of reperfusion       0.57      0.46      0.51        50\n",
      "                   dementia of the alzheimer type       0.61      0.75      0.67        52\n",
      "                                     grampositive       0.69      0.71      0.70        56\n",
      "                                 activated carbon       0.75      0.67      0.71        36\n",
      "                                 circadian period       0.75      0.86      0.80         7\n",
      "                                  contrast agents       0.33      0.30      0.32        56\n",
      "                                aortic dissection       0.26      0.16      0.20        44\n",
      "                                      bodily pain       0.84      0.95      0.89        55\n",
      "                                    heptad repeat       1.00      0.67      0.80         3\n",
      "                           hemagglutination assay       0.93      0.97      0.95        29\n",
      "                                  sensory neurons       0.65      0.67      0.66        54\n",
      "                                      hearing aid       1.00      0.67      0.80         3\n",
      "                                   catecholamines       0.71      0.53      0.60        55\n",
      "                              autoimmune diseases       0.39      0.39      0.39        51\n",
      "                                  brevipedicellus       0.61      0.49      0.54        45\n",
      "                          affinity chromatography       0.78      0.83      0.80        52\n",
      "                                    thoracic duct       0.89      0.76      0.82        42\n",
      "                            anoxic depolarization       0.67      0.48      0.56        29\n",
      "                                   air conduction       0.93      0.86      0.89        29\n",
      "                                       fulllength       0.67      0.50      0.57        56\n",
      "                              primary visual area       1.00      1.00      1.00         4\n",
      "                                    hairless gene       0.41      0.30      0.34        50\n",
      "                                  globus pallidus       0.40      0.38      0.39        52\n",
      "                        hemagglutination activity       0.57      0.72      0.64        57\n",
      "             new zealand genetically hypertensive       0.85      0.73      0.79        15\n",
      "                                     mental nerve       0.78      0.64      0.70        11\n",
      "                                     frontal lobe       0.75      0.69      0.72        13\n",
      "                                     western diet       0.61      0.73      0.67        26\n",
      "                                   striate cortex       0.94      0.89      0.91        18\n",
      "                            british pharmacopoeia       0.84      0.89      0.87        55\n",
      "                                  gland of harder       0.73      0.90      0.81        51\n",
      "                                   genital herpes       0.86      0.92      0.89        48\n",
      "                             myelin basic protein       1.00      1.00      1.00         1\n",
      "                                intermediate risk       0.79      0.88      0.84        52\n",
      "                           apparent digestibility       0.73      0.77      0.75        53\n",
      "                          hypersensitive response       1.00      0.63      0.78        30\n",
      "                                   acute diarrhea       1.00      0.67      0.80        18\n",
      "                                         efficacy       0.77      0.76      0.77        54\n",
      "                                     cold adapted       0.78      0.86      0.82        44\n",
      "                                   head activator       0.90      0.90      0.90        39\n",
      "                                 antiglycoprotein       0.90      0.79      0.84        58\n",
      "                                      fluorescent       0.63      0.64      0.63        58\n",
      "                                   fructoselysine       0.85      0.81      0.83        57\n",
      "                              genetic programming       0.89      0.98      0.93        55\n",
      "                                  inferior rectus       0.71      0.60      0.65        20\n",
      "                            autonomic dysfunction       0.59      0.57      0.58        46\n",
      "                                        flutamide       0.39      0.45      0.42        51\n",
      "                                        rutosides       1.00      0.67      0.80         3\n",
      "                                   tissue doppler       0.20      0.50      0.29         2\n",
      "                                acromioclavicular       1.00      0.70      0.82        10\n",
      "                                 mauthner neurons       0.74      0.69      0.71        51\n",
      "                                 atherogenic diet       0.56      0.71      0.63        42\n",
      "                             culture supernatants       0.83      0.89      0.86        54\n",
      "                                 skeletofusimotor       0.39      0.34      0.36        53\n",
      "                                  buffering power       0.00      0.00      0.00         1\n",
      "                                 hemagglutinating       0.95      0.95      0.95        57\n",
      "                                   absolute error       0.71      0.63      0.67        19\n",
      "                                  stiffness index       0.55      0.50      0.53        52\n",
      "                                    period length       0.34      0.37      0.35        49\n",
      "                                      facial lobe       0.18      0.14      0.16        21\n",
      "                                 winter dysentery       0.33      0.32      0.33        22\n",
      "                                incomplete repair       1.00      0.25      0.40         4\n",
      "                               acute exacerbation       0.67      0.48      0.56        21\n",
      "                           bereitschaftspotential       0.67      0.77      0.71        47\n",
      "                         gestational hypertension       0.75      0.75      0.75        20\n",
      "                              bacterial pneumonia       0.48      0.52      0.50        54\n",
      "                                   allyl chloride       0.42      0.49      0.45        53\n",
      "                                        beet pulp       0.73      0.81      0.77        53\n",
      "                               bovine pericardium       0.75      0.80      0.77        45\n",
      "                              axillary dissection       0.75      0.81      0.78        54\n",
      "                         homologous recombination       0.80      0.85      0.83        53\n",
      "                         constitutively activated       0.78      0.81      0.79        47\n",
      "                            sperm hyperactivation       0.64      0.59      0.61        51\n",
      "                                heparinreleasable       0.65      0.64      0.64        55\n",
      "                                internal rotation       0.42      0.28      0.33        36\n",
      "                      time constant of relaxation       0.51      0.43      0.47        49\n",
      "                           wallerian degeneration       0.77      0.91      0.83        11\n",
      "                                hybrid resistance       1.00      0.50      0.67         2\n",
      "                                      benzapyrene       0.93      0.93      0.93        42\n",
      "                                  aortic diameter       0.78      0.88      0.83        49\n",
      "                                 aerobic exercise       0.57      0.67      0.62        24\n",
      "                             gingival hyperplasia       0.75      0.68      0.71        56\n",
      "                                hepatic resection       1.00      0.50      0.67         4\n",
      "                                       time delay       0.70      0.83      0.76        23\n",
      "                                 health authority       0.90      0.92      0.91        48\n",
      "                             typically developing       0.94      0.96      0.95        46\n",
      "                                            adult       0.62      0.62      0.62         8\n",
      "                                   afterdischarge       0.92      0.94      0.93        50\n",
      "                                   apatite cement       0.00      0.00      0.00         2\n",
      "                        hyperstriatum accessorium       0.60      0.72      0.65        47\n",
      "                                       acebutolol       0.73      0.86      0.79        37\n",
      "                            platelet glycoprotein       0.72      0.75      0.74        56\n",
      "                                     benzophenone       0.78      0.76      0.77        46\n",
      "                           time constant of decay       0.46      0.46      0.46        54\n",
      "                           alzheimertype dementia       0.42      0.41      0.41        59\n",
      "                                 hyperandrogenism       0.54      0.73      0.62        45\n",
      "                               alcohol dependence       0.00      0.00      0.00         1\n",
      "                   time constant of lv relaxation       1.00      1.00      1.00         1\n",
      "                                 aldrin epoxidase       1.00      0.67      0.80         6\n",
      "                                       height age       1.00      0.71      0.83         7\n",
      "                              temporal difference       0.81      0.87      0.84        45\n",
      "                                    human albumin       0.90      0.94      0.92        50\n",
      "                              carbonic anhydrases       0.84      0.81      0.83        32\n",
      "                                  basilar papilla       0.50      0.36      0.42        14\n",
      "           time constant of isovolumic relaxation       0.90      0.90      0.90        10\n",
      "                          alveolar echinococcosis       1.00      0.67      0.80         6\n",
      "           systolic and diastolic blood pressures       0.78      0.81      0.80        43\n",
      "                                      glycophorin       0.77      0.69      0.73        59\n",
      "                                 acridinium ester       0.89      0.80      0.84        20\n",
      "                                  tangier disease       0.82      0.76      0.79        54\n",
      "                                  anticoagulation       0.54      0.60      0.57        53\n",
      "                                     growth plate       1.00      1.00      1.00         5\n",
      "                                     farmers lung       0.59      0.43      0.49        47\n",
      "                                    blastic phase       0.74      0.92      0.82        49\n",
      "                                   sentinel nodes       0.71      0.63      0.67        19\n",
      "                             ischaemiareperfusion       0.12      0.11      0.12         9\n",
      "                                   inactive renin       0.57      0.53      0.55        53\n",
      "                                      transdermal       0.56      0.34      0.42        53\n",
      "                                       tdependent       1.00      0.33      0.50         3\n",
      "                                 human fibroblast       0.78      0.78      0.78        59\n",
      "                                spectral exponent       0.87      0.91      0.89        53\n",
      "                              affective disorders       1.00      1.00      1.00         3\n",
      "                                implantation rate       0.00      0.00      0.00         2\n",
      "                                       geniohyoid       0.75      0.60      0.67         5\n",
      "                                  friend leukemia       0.82      0.82      0.82        55\n",
      "                                         gossypol       0.60      0.60      0.60        10\n",
      "                                   adherent cells       0.65      0.71      0.68        56\n",
      "                                   anion exchange       0.46      0.40      0.43        47\n",
      "                                      alternating       0.85      0.90      0.88        39\n",
      "                       true protein digestibility       0.81      0.84      0.83        45\n",
      "                             activity coefficient       0.73      0.77      0.75        43\n",
      "                               amygdaloid complex       0.63      0.59      0.61        46\n",
      "                                 melanocytic nevi       0.67      0.38      0.48        16\n",
      "                                      guttapercha       0.89      0.89      0.89        27\n",
      "                     acrodermatitis enteropathica       0.71      0.85      0.77        48\n",
      "                                  total biopterin       0.83      0.82      0.82        49\n",
      "                                arm circumference       0.25      0.22      0.24         9\n",
      "                                     median nerve       0.83      0.88      0.85        50\n",
      "                                 hormone receptor       0.83      1.00      0.91        20\n",
      "                               epileptogenic zone       0.53      0.67      0.59        12\n",
      "                                      bench press       0.50      0.20      0.29         5\n",
      "                         filtration leukapheresis       0.00      0.00      0.00         3\n",
      "                                      goodpasture       0.00      0.00      0.00         3\n",
      "                                 foreign language       0.64      0.43      0.51        42\n",
      "                        influenza a hemagglutinin       0.80      0.90      0.85        40\n",
      "                              glycoside hydrolase       1.00      0.67      0.80         6\n",
      "                               tardive dyskinesia       1.00      0.80      0.89         5\n",
      "                               ionizing radiation       0.47      0.30      0.37        53\n",
      "                              thiamine deficiency       0.69      0.75      0.72        12\n",
      "                                       total dose       0.78      0.91      0.84        56\n",
      "                            hemagglutinin protein       0.83      0.92      0.88        38\n",
      "                                            heart       0.83      0.42      0.56        12\n",
      "                                   hepatic artery       0.00      0.00      0.00         1\n",
      "                               true digestibility       0.71      0.57      0.63        21\n",
      "                               tourettes disorder       0.50      0.25      0.33         4\n",
      "                                     benzoapyrene       0.74      0.76      0.75        34\n",
      "                          allergic conjunctivitis       0.45      0.51      0.48        49\n",
      "                           attenuation correction       0.44      0.49      0.46        51\n",
      "                              arterial compliance       0.34      0.35      0.34        57\n",
      "                                hydropic abortion       0.59      0.63      0.61        51\n",
      "                                haemagglutination       0.84      0.90      0.87        48\n",
      "                                     blood plasma       0.89      0.72      0.80        46\n",
      "                              atypical depression       0.76      0.81      0.78        58\n",
      "                               thiamine deficient       1.00      1.00      1.00         4\n",
      "\n",
      "                                         accuracy                           0.70     10000\n",
      "                                        macro avg       0.70      0.67      0.67     10000\n",
      "                                     weighted avg       0.69      0.70      0.69     10000\n",
      "\n"
     ]
    }
   ],
   "source": [
    "y_unique = list(set(y_test))\n",
    "cr = classification_report(y_test, y_pred_test, target_names=y_unique)\n",
    "print(cr)"
   ]
  },
  {
   "cell_type": "markdown",
   "metadata": {},
   "source": [
    "### Thus, from the above Report it can be seen:\n",
    "1. Average Precision: 0.69\n",
    "2. Average Recall: 0.70"
   ]
  },
  {
   "cell_type": "markdown",
   "metadata": {},
   "source": [
    "## Model# 2: SVM"
   ]
  },
  {
   "cell_type": "markdown",
   "metadata": {},
   "source": [
    "### Lets perform a Grid Search to get the best possible combination of Hyperparameters for SVM's"
   ]
  },
  {
   "cell_type": "code",
   "execution_count": 15,
   "metadata": {},
   "outputs": [],
   "source": [
    "param_grid = {'C': [0.001, 0.01, 0.1, 1, 10, 100],'gamma': [1, 0.1, 0.01, 0.001, 0.0001], 'kernel': ['rbf']}\n",
    "grid_svm = GridSearchCV(SVC(), param_grid)"
   ]
  },
  {
   "cell_type": "code",
   "execution_count": 16,
   "metadata": {},
   "outputs": [
    {
     "data": {
      "text/plain": [
       "GridSearchCV(estimator=SVC(),\n",
       "             param_grid={'C': [0.001, 0.01, 0.1, 1, 10, 100],\n",
       "                         'gamma': [1, 0.1, 0.01, 0.001, 0.0001],\n",
       "                         'kernel': ['rbf']})"
      ]
     },
     "execution_count": 16,
     "metadata": {},
     "output_type": "execute_result"
    }
   ],
   "source": [
    "grid_svm.fit(X_train, y_train)"
   ]
  },
  {
   "cell_type": "code",
   "execution_count": 17,
   "metadata": {},
   "outputs": [
    {
     "data": {
      "text/plain": [
       "{'C': 10, 'gamma': 0.01, 'kernel': 'rbf'}"
      ]
     },
     "execution_count": 17,
     "metadata": {},
     "output_type": "execute_result"
    }
   ],
   "source": [
    "### Best parameters for the Grid Search\n",
    "grid_svm.best_params_"
   ]
  },
  {
   "cell_type": "code",
   "execution_count": 18,
   "metadata": {},
   "outputs": [
    {
     "data": {
      "text/plain": [
       "0.9725555822642471"
      ]
     },
     "execution_count": 18,
     "metadata": {},
     "output_type": "execute_result"
    }
   ],
   "source": [
    "### Accuracy Score\n",
    "grid_svm.best_score_"
   ]
  },
  {
   "cell_type": "markdown",
   "metadata": {},
   "source": [
    "### Apply the best parameters to SVC and train the model"
   ]
  },
  {
   "cell_type": "code",
   "execution_count": 19,
   "metadata": {},
   "outputs": [
    {
     "data": {
      "text/plain": [
       "SVC(C=10, gamma=0.01)"
      ]
     },
     "execution_count": 19,
     "metadata": {},
     "output_type": "execute_result"
    }
   ],
   "source": [
    "svcModel = SVC(C=10, gamma=0.01, kernel='rbf')\n",
    "svcModel.fit(X_train, y_train)"
   ]
  },
  {
   "cell_type": "code",
   "execution_count": 20,
   "metadata": {},
   "outputs": [],
   "source": [
    "### Apply the above Model on Validation Set\n",
    "y_valid, X_valid = vec_for_learning(vectorize, valid_tagged)\n",
    "y_pred_valid = svcModel.predict(X_valid)"
   ]
  },
  {
   "cell_type": "code",
   "execution_count": 21,
   "metadata": {},
   "outputs": [
    {
     "name": "stdout",
     "output_type": "stream",
     "text": [
      "SVM Validation Accuracy: 0.7067\n",
      "SVM Validation F1-Score: 0.7028056336697289\n"
     ]
    }
   ],
   "source": [
    "print('SVM Validation Accuracy:', accuracy_score(y_valid, y_pred_valid))\n",
    "print('SVM Validation F1-Score:', f1_score(y_valid, y_pred_valid, average='weighted'))"
   ]
  },
  {
   "cell_type": "markdown",
   "metadata": {},
   "source": [
    "### As per the above analysis of validation set, it can be seen that the SVC Classification model gives\n",
    "1. F1- Score of: 0.71\n",
    "2. Accuracy of: 70%\n",
    "\n",
    "Hence, lets apply this model to our Test set and check its performance metrics."
   ]
  },
  {
   "cell_type": "code",
   "execution_count": 22,
   "metadata": {},
   "outputs": [],
   "source": [
    "### Apply the above Model on Test Set\n",
    "y_test, X_test = vec_for_learning(vectorize, test_tagged)\n",
    "y_pred_test = svcModel.predict(X_test)"
   ]
  },
  {
   "cell_type": "markdown",
   "metadata": {},
   "source": [
    "### Lets calculate some Performance Metrics on the Test predictions."
   ]
  },
  {
   "cell_type": "code",
   "execution_count": 23,
   "metadata": {},
   "outputs": [
    {
     "name": "stdout",
     "output_type": "stream",
     "text": [
      "SVM Test Accuracy: 0.7055\n",
      "SVM Test F1-Score: 0.7009447611264659\n"
     ]
    }
   ],
   "source": [
    "accuracy = accuracy_score(y_test, y_pred_test)\n",
    "f1_scr = f1_score(y_test, y_pred_test, average='weighted')\n",
    "print('SVM Test Accuracy:', accuracy)\n",
    "print('SVM Test F1-Score:', f1_scr)"
   ]
  },
  {
   "cell_type": "code",
   "execution_count": 24,
   "metadata": {},
   "outputs": [
    {
     "name": "stdout",
     "output_type": "stream",
     "text": [
      "                                                   precision    recall  f1-score   support\n",
      "\n",
      "                             ischaemiareperfusion       1.00      1.00      1.00        15\n",
      "                                       fulllength       0.84      0.96      0.90        45\n",
      "                                   hepatic artery       0.71      0.67      0.69        48\n",
      "                                       acebutolol       0.87      0.83      0.85        48\n",
      "                           attenuation correction       0.39      0.41      0.40        54\n",
      "                                 human fibroblast       0.88      1.00      0.93        21\n",
      "                               thiamine deficient       0.81      0.85      0.83        41\n",
      "                                  contrast agents       0.89      0.89      0.89         9\n",
      "                               firefly luciferase       0.93      0.90      0.91        29\n",
      "                                arm circumference       0.85      0.85      0.85        53\n",
      "                               freerunning period       0.62      0.78      0.69        55\n",
      "                                     cold adapted       0.77      0.67      0.71        54\n",
      "                                   head activator       0.25      0.17      0.20         6\n",
      "                                     blood plasma       0.69      0.50      0.58        22\n",
      "                         generalized polarization       0.77      0.86      0.81        42\n",
      "                              arrhythmogenic dose       0.78      0.82      0.80        44\n",
      "                                  sensory neurons       0.84      0.75      0.79        51\n",
      "                             attenuationcorrected       0.50      0.55      0.53        47\n",
      "                                  brachial plexus       0.19      0.12      0.14        52\n",
      "                                     micronucleus       1.00      1.00      1.00         8\n",
      "                                       heart area       0.77      0.89      0.82        53\n",
      "                                 aldrin epoxidase       1.00      0.75      0.86         4\n",
      "                          thanatophoric dysplasia       0.39      0.57      0.47        53\n",
      "                            primary visual cortex       0.33      0.40      0.36        43\n",
      "                 doxorubicin and cyclophosphamide       0.76      0.81      0.79        54\n",
      "                                      anchor cell       1.00      0.33      0.50         3\n",
      "                              arterial compliance       0.91      0.81      0.85        36\n",
      "                              hippocampal atrophy       0.63      0.67      0.65        48\n",
      "                              anterior commissure       1.00      0.75      0.86         8\n",
      "                                 atherogenic diet       0.77      0.83      0.80        48\n",
      "                   dementia of the alzheimer type       0.71      0.62      0.67         8\n",
      "                                 foreign language       0.90      0.82      0.86        11\n",
      "                              central compartment       0.34      0.23      0.28        52\n",
      "                                fluorescent light       0.87      0.90      0.88        50\n",
      "                                acromioclavicular       0.49      0.38      0.43        52\n",
      "                                     frontal lobe       0.64      0.50      0.56        28\n",
      "                              thiamine deficiency       0.75      0.81      0.78        48\n",
      "                                 anterior chamber       0.59      0.82      0.68        49\n",
      "           systolic and diastolic blood pressures       0.92      0.86      0.89        14\n",
      "                            platelet glycoprotein       0.85      0.87      0.86        52\n",
      "                                heparinreleasable       0.60      0.60      0.60        60\n",
      "                                      fetal liver       0.75      0.75      0.75        12\n",
      "                                    human albumin       0.76      0.80      0.78        44\n",
      "                                habitual abortion       0.78      0.64      0.70        55\n",
      "                              typical development       0.50      0.46      0.48        39\n",
      "                                intermediate risk       0.00      0.00      0.00         3\n",
      "                                      triple dose       0.51      0.51      0.51        55\n",
      "                          alveolar echinococcosis       0.61      0.63      0.62        49\n",
      "                                 cold agglutinins       0.86      0.38      0.52        16\n",
      "                                     benzoapyrene       0.78      0.76      0.77        42\n",
      "                                 carotid arteries       0.65      0.68      0.67        53\n",
      "                           hemagglutination assay       0.75      0.76      0.76        55\n",
      "                                hybrid resistance       0.91      1.00      0.95        10\n",
      "                               general population       0.77      0.71      0.74        56\n",
      "                                      elimination       0.80      0.79      0.79        56\n",
      "                       true protein digestibility       0.85      0.90      0.88        52\n",
      "                                       time delay       0.86      0.86      0.86        51\n",
      "                             activity coefficient       0.80      1.00      0.89         4\n",
      "                                     nearinfrared       0.69      0.75      0.72        51\n",
      "           time constant of isovolumic relaxation       0.67      0.67      0.67        42\n",
      "                               amygdaloid complex       0.61      0.58      0.59        19\n",
      "                    anterodorsal thalamic nucleus       0.92      0.92      0.92        12\n",
      "                                 general practice       0.93      0.82      0.87        17\n",
      "                                 absence epilepsy       0.66      0.76      0.70        49\n",
      "                                        rutosides       0.68      0.85      0.76        46\n",
      "                        hemagglutination activity       0.87      0.80      0.83        49\n",
      "                               bowenoid papulosis       0.78      0.93      0.85        54\n",
      "                             culture supernatants       0.50      0.33      0.40         9\n",
      "                             tryptophan depletion       0.74      0.94      0.83        33\n",
      "                             ionizing irradiation       0.75      0.75      0.75        32\n",
      "                                       decay rate       0.54      0.48      0.51        56\n",
      "                               min of reperfusion       0.52      0.66      0.58        50\n",
      "                                    anticoagulant       0.88      0.86      0.87        43\n",
      "                               true digestibility       0.61      0.74      0.67        53\n",
      "                                          acetone       0.60      0.75      0.67         4\n",
      "                                  arachnoid cysts       0.67      0.53      0.59        19\n",
      "                                  asbestos cement       0.79      0.76      0.78        50\n",
      "                                  aqueous extract       0.79      0.88      0.83        56\n",
      "                                         headache       0.78      0.77      0.77        60\n",
      "                                   genital herpes       0.97      1.00      0.99        33\n",
      "                                  aberrant crypts       0.79      0.91      0.84        54\n",
      "                             gingival hyperplasia       0.85      0.85      0.85        59\n",
      "                               bovine pericardium       0.87      0.96      0.91        54\n",
      "                                water deprivation       0.60      0.67      0.63        18\n",
      "                          genetic hemochromatosis       0.57      0.64      0.60        45\n",
      "                                       total dose       0.72      0.72      0.72        65\n",
      "                               atypical carcinoid       0.85      0.79      0.81        14\n",
      "                                  buffering power       0.73      0.61      0.67        54\n",
      "                          tibial dyschondroplasia       0.60      0.84      0.70        44\n",
      "                                      bells palsy       0.70      0.58      0.64        48\n",
      "                            british pharmacopoeia       0.78      0.94      0.85        31\n",
      "                                   thermodilution       0.51      0.38      0.44        52\n",
      "                                   pressure decay       0.86      0.90      0.88        48\n",
      "                                  globus pallidus       0.81      0.90      0.85        51\n",
      "                                          bipolar       0.89      0.94      0.91        17\n",
      "                                  anticoagulation       0.69      0.87      0.77        52\n",
      "                                     anterodorsal       1.00      1.00      1.00         2\n",
      "                                    period length       0.50      0.50      0.50        10\n",
      "                                    hbenzoapyrene       0.70      0.59      0.64        54\n",
      "             new zealand genetically hypertensive       0.53      0.64      0.58        14\n",
      "                                 hemagglutination       0.91      0.86      0.89        50\n",
      "                          hypersensitive reaction       1.00      0.40      0.57         5\n",
      "                                 hemolytic anemia       0.78      0.84      0.81        45\n",
      "                              affective disorders       0.62      0.49      0.55        57\n",
      "                                 hyperandrogenism       0.64      0.60      0.62        53\n",
      "                                      guttapercha       0.90      0.72      0.80        53\n",
      "                               travelers diarrhea       0.58      0.82      0.68        51\n",
      "                           artificial circulation       0.67      0.50      0.57        12\n",
      "                               tourettes disorder       0.91      0.77      0.83        26\n",
      "                    influenza virus hemagglutinin       0.38      0.64      0.48        47\n",
      "                                      benzapyrene       0.69      0.77      0.73        47\n",
      "                            autonomic dysreflexia       0.53      0.65      0.58        48\n",
      "                                hepatic resection       0.68      0.67      0.67        54\n",
      "                                hydropic abortion       0.55      0.52      0.54        50\n",
      "                                    hairless gene       0.62      0.77      0.69        52\n",
      "                                      alternating       0.64      0.68      0.66        56\n",
      "                                      glycophorin       0.77      0.56      0.65        36\n",
      "                               autosomal dominant       0.75      0.86      0.80         7\n",
      "                                    amniocentesis       0.35      0.32      0.34        56\n",
      "                                   striate cortex       0.30      0.27      0.29        44\n",
      "                                     growth plate       0.82      0.96      0.88        55\n",
      "                                    thoracic duct       0.60      1.00      0.75         3\n",
      "                                     median nerve       0.96      0.93      0.95        29\n",
      "                               alcohol dependence       0.70      0.69      0.69        54\n",
      "                         filtration leukapheresis       1.00      0.67      0.80         3\n",
      "                                  dosing interval       0.76      0.53      0.62        55\n",
      "                                spectral exponent       0.43      0.49      0.46        51\n",
      "                                    atopic eczema       0.61      0.42      0.50        45\n",
      "                                         vascular       0.79      0.81      0.80        52\n",
      "                              genetic programming       0.81      0.81      0.81        42\n",
      "                          avian encephalomyelitis       0.55      0.41      0.47        29\n",
      "                               epileptogenic zone       0.89      0.83      0.86        29\n",
      "                               bullous pemphigoid       0.76      0.52      0.62        56\n",
      "                                 hepatic arterial       1.00      1.00      1.00         4\n",
      "                   mice selectively bred for high       0.37      0.34      0.35        50\n",
      "                                      bench press       0.45      0.38      0.42        52\n",
      "                          affinity chromatography       0.61      0.68      0.64        57\n",
      "                                 health authority       0.80      0.80      0.80        15\n",
      "                                            adult       0.55      0.55      0.55        11\n",
      "                           hepatocellular adenoma       0.73      0.62      0.67        13\n",
      "                                coronary arteries       0.65      0.77      0.70        26\n",
      "                                haemagglutination       0.84      0.89      0.86        18\n",
      "                               activated charcoal       0.89      0.89      0.89        55\n",
      "                           apparent digestibility       0.75      0.88      0.81        51\n",
      "                                      vasopressor       0.92      0.92      0.92        48\n",
      "                                      fluorescent       1.00      1.00      1.00         1\n",
      "                                  total biopterin       0.79      0.87      0.83        52\n",
      "                                   absolute error       0.74      0.81      0.77        53\n",
      "                           activation coefficient       1.00      0.70      0.82        30\n",
      "                                internal rotation       1.00      0.67      0.80        18\n",
      "                                       geniohyoid       0.83      0.80      0.81        54\n",
      "                                        flutamide       0.82      0.91      0.86        44\n",
      "                          assimilation efficiency       0.92      0.90      0.91        39\n",
      "                           regression coefficient       0.92      0.81      0.86        58\n",
      "                       hemagglutinin glycoprotein       0.58      0.62      0.60        58\n",
      "                                   anion exchange       0.80      0.89      0.84        57\n",
      "                 minor histocompatibility antigen       0.90      0.96      0.93        55\n",
      "                             hydroxyapatitecoated       0.72      0.65      0.68        20\n",
      "                                implantation rate       0.62      0.61      0.62        46\n",
      "                                         biphenyl       0.41      0.39      0.40        51\n",
      "                                 hormone receptor       1.00      0.67      0.80         3\n",
      "                             typically developing       0.33      0.50      0.40         2\n",
      "                              acute cholecystitis       1.00      0.80      0.89        10\n",
      "                        hyperstriatum accessorium       0.81      0.69      0.74        51\n",
      "                                  glucose polymer       0.65      0.81      0.72        42\n",
      "                              glycoside hydrolase       0.85      0.94      0.89        54\n",
      "                                incomplete repair       0.39      0.38      0.38        53\n",
      "                                     glenohumeral       0.00      0.00      0.00         1\n",
      "                                   sentinel nodes       0.93      0.91      0.92        57\n",
      "                                      meal number       0.79      0.58      0.67        19\n",
      "                     acrodermatitis enteropathica       0.53      0.44      0.48        52\n",
      "                   time constant of lv relaxation       0.40      0.45      0.42        49\n",
      "                                atopic dermatitis       0.25      0.24      0.24        21\n",
      "                          allergic conjunctivitis       0.50      0.23      0.31        22\n",
      "                                   allyl chloride       1.00      0.25      0.40         4\n",
      "                         gestational hypertension       0.67      0.38      0.48        21\n",
      "                                    adultdirected       0.71      0.85      0.78        47\n",
      "                              temporal difference       0.70      0.70      0.70        20\n",
      "                                      facial lobe       0.57      0.59      0.58        54\n",
      "                                 heat acclimation       0.58      0.49      0.53        53\n",
      "                                aortic dissection       0.77      0.89      0.82        53\n",
      "                          hypothalamic amenorrhea       0.91      0.87      0.89        45\n",
      "                                  basilar papilla       0.83      0.83      0.83        54\n",
      "                                   afterdischarge       0.75      0.83      0.79        53\n",
      "                                   apatite cement       0.81      0.81      0.81        47\n",
      "                                methyl nicotinate       0.61      0.61      0.61        51\n",
      "                                histamine release       0.62      0.65      0.64        55\n",
      "                                      hearing aid       0.46      0.31      0.37        36\n",
      "                              autoimmune diseases       0.59      0.45      0.51        49\n",
      "                              aesthetic component       0.83      0.91      0.87        11\n",
      "              lines of chickens selected for high       1.00      1.00      1.00         2\n",
      "                                acoustic emission       0.87      0.93      0.90        42\n",
      "                                  gland of harder       0.79      0.90      0.84        49\n",
      "                                   inactive renin       0.48      0.42      0.44        24\n",
      "                              carbonic anhydrases       0.62      0.77      0.69        56\n",
      "                                      goodpasture       1.00      0.75      0.86         4\n",
      "                                 winter dysentery       0.80      0.87      0.83        23\n",
      "                                     grampositive       0.92      0.92      0.92        48\n",
      "                            anoxic depolarization       0.96      0.96      0.96        46\n",
      "                                   adherent cells       0.80      0.50      0.62         8\n",
      "                                            heart       0.94      0.96      0.95        50\n",
      "                                     western diet       0.00      0.00      0.00         2\n",
      "                                  aortic diameter       0.51      0.77      0.62        47\n",
      "calcitonin generelated peptide cgrpimmunoreactive       0.79      0.89      0.84        37\n",
      "                                    blastic phase       0.74      0.71      0.73        56\n",
      "                               acute exacerbation       0.92      0.72      0.80        46\n",
      "                                binding potential       0.43      0.43      0.43        54\n",
      "                                         gossypol       0.48      0.47      0.48        59\n",
      "                                 antiglycoprotein       0.49      0.73      0.58        45\n",
      "                             glycolytic potential       0.00      0.00      0.00         1\n",
      "                       metabolism of benzoapyrene       1.00      1.00      1.00         1\n",
      "                                  inferior rectus       1.00      0.67      0.80         6\n",
      "                                   air conduction       1.00      0.86      0.92         7\n",
      "                               tardive dyskinesia       0.80      0.89      0.84        45\n",
      "                              bacterial pneumonia       0.92      0.94      0.93        50\n",
      "                                  acid ceramidase       0.87      0.81      0.84        32\n",
      "                             androgen deprivation       0.64      0.50      0.56        14\n",
      "                                           trpasp       0.90      0.90      0.90        10\n",
      "                                      tau protein       0.75      0.50      0.60         6\n",
      "                                  stiffness index       0.73      0.81      0.77        43\n",
      "                                 hemagglutinating       0.73      0.63      0.67        59\n",
      "                            information retrieval       0.73      0.80      0.76        20\n",
      "                                 mauthner neurons       0.80      0.76      0.78        54\n",
      "                                   catecholamines       0.62      0.53      0.57        53\n",
      "                                  buffer capacity       1.00      1.00      1.00         5\n",
      "                                   fructoselysine       0.56      0.43      0.48        47\n",
      "                               axillary clearance       0.80      0.96      0.87        49\n",
      "                                       height age       0.65      0.58      0.61        19\n",
      "                                    allylestrenol       0.12      0.11      0.12         9\n",
      "                                  edmonstonzagreb       0.67      0.72      0.69        53\n",
      "                         constitutively activated       0.57      0.40      0.47        53\n",
      "                              atypical depression       1.00      0.67      0.80         3\n",
      "                                 aerobic exercise       0.73      0.76      0.74        59\n",
      "                           wallerian degeneration       0.84      0.91      0.87        53\n",
      "                              aortic constriction       1.00      1.00      1.00         3\n",
      "                                   acute diarrhea       0.00      0.00      0.00         2\n",
      "                               ionizing radiation       1.00      0.80      0.89         5\n",
      "                                  brevipedicellus       0.79      0.80      0.79        55\n",
      "                        influenza a hemagglutinin       0.50      0.50      0.50        10\n",
      "                              stiffness parameter       0.72      0.64      0.68        56\n",
      "                            sperm hyperactivation       0.61      0.47      0.53        47\n",
      "                                     farmers lung       0.90      0.90      0.90        39\n",
      "                                    heptad repeat       0.88      0.78      0.82        45\n",
      "                              axillary dissection       0.78      0.72      0.75        43\n",
      "                      alzheimers disease patients       0.65      0.61      0.63        46\n",
      "                   against platelet glycoproteins       0.62      0.31      0.42        16\n",
      "                                 acridinium ester       0.96      0.89      0.92        27\n",
      "                                  total deviation       0.73      0.83      0.78        48\n",
      "                           alzheimertype dementia       0.81      0.80      0.80        49\n",
      "                           bereitschaftspotential       0.12      0.11      0.12         9\n",
      "                                     benzophenone       0.91      0.86      0.89        50\n",
      "                           time constant of decay       0.80      1.00      0.89        20\n",
      "                                      bodily pain       0.47      0.58      0.52        12\n",
      "                             myelin basic protein       0.33      0.40      0.36         5\n",
      "                              primary visual area       0.00      0.00      0.00         3\n",
      "                            hemagglutinin protein       0.00      0.00      0.00         3\n",
      "                                 melanocytic nevi       0.61      0.40      0.49        42\n",
      "                                       tdependent       0.84      0.90      0.87        40\n",
      "                                  backpropagation       1.00      0.83      0.91         6\n",
      "                         homologous recombination       1.00      0.60      0.75         5\n",
      "                            autonomic dysfunction       0.67      0.42      0.51        53\n",
      "                                   tissue doppler       0.92      1.00      0.96        12\n",
      "                                 circadian period       0.84      0.88      0.86        56\n",
      "                                 activated carbon       0.88      0.97      0.93        38\n",
      "                      live attenuated coldadapted       0.70      0.58      0.64        12\n",
      "                                      transdermal       1.00      1.00      1.00         1\n",
      "                                     mental nerve       0.60      0.57      0.59        21\n",
      "                                         efficacy       0.33      0.25      0.29         4\n",
      "                                  tangier disease       0.79      0.76      0.78        34\n",
      "                                 skeletofusimotor       0.47      0.47      0.47        49\n",
      "                         genetic haemochromatosis       0.46      0.51      0.48        51\n",
      "                              articular cartilage       0.39      0.33      0.36        57\n",
      "                      time constant of relaxation       0.63      0.65      0.64        51\n",
      "                                haemagglutinating       0.81      0.90      0.85        48\n",
      "                                        beet pulp       0.95      0.76      0.84        46\n",
      "                          hypersensitive response       0.81      0.79      0.80        58\n",
      "                                  friend leukemia       1.00      1.00      1.00         4\n",
      "\n",
      "                                         accuracy                           0.71     10000\n",
      "                                        macro avg       0.71      0.69      0.69     10000\n",
      "                                     weighted avg       0.71      0.71      0.70     10000\n",
      "\n"
     ]
    }
   ],
   "source": [
    "y_unique = list(set(y_test))\n",
    "cr = classification_report(y_test, y_pred_test, target_names=y_unique)\n",
    "print(cr)"
   ]
  },
  {
   "cell_type": "markdown",
   "metadata": {},
   "source": [
    "### Thus, from the above Report it can be seen:\n",
    "1. Average Precision: 0.71\n",
    "2. Average Recall: 0.71"
   ]
  },
  {
   "cell_type": "markdown",
   "metadata": {},
   "source": [
    "## Model# 3: XGBoost"
   ]
  },
  {
   "cell_type": "markdown",
   "metadata": {},
   "source": [
    "### Lets create a parameter grid for XGBoost Model"
   ]
  },
  {
   "cell_type": "code",
   "execution_count": 16,
   "metadata": {},
   "outputs": [],
   "source": [
    "param_grid = {'n_estimators':[100, 500, 1000], 'max_depth':[5, 6, 7], 'min_child_weight': [3, 5, 8]}"
   ]
  },
  {
   "cell_type": "code",
   "execution_count": 17,
   "metadata": {},
   "outputs": [],
   "source": [
    "unique = list(set(y_train))\r\n",
    "X_train = pd.DataFrame(X_train)\r\n",
    "y_train = np.asarray(y_train)"
   ]
  },
  {
   "cell_type": "code",
   "execution_count": 33,
   "metadata": {},
   "outputs": [],
   "source": [
    "XGBgrid = GridSearchCV(XGBClassifier(learning_rate= 0.1, gamma= 0, objective= 'multi:softmax', num_classes= len(unique), seed= 27), param_grid)"
   ]
  },
  {
   "cell_type": "code",
   "execution_count": 35,
   "metadata": {},
   "outputs": [
    {
     "name": "stderr",
     "output_type": "stream",
     "text": [
      "C:\\Users\\shubh\\Anaconda3\\lib\\site-packages\\xgboost\\sklearn.py:888: UserWarning: The use of label encoder in XGBClassifier is deprecated and will be removed in a future release. To remove this warning, do the following: 1) Pass option use_label_encoder=False when constructing XGBClassifier object; and 2) Encode your labels (y) as integers starting with 0, i.e. 0, 1, 2, ..., [num_class - 1].\n",
      "  warnings.warn(label_encoder_deprecation_msg, UserWarning)\n"
     ]
    },
    {
     "name": "stdout",
     "output_type": "stream",
     "text": [
      "[20:15:08] WARNING: C:/Users/Administrator/workspace/xgboost-win64_release_1.3.0/src/learner.cc:541: \n",
      "Parameters: { num_classes } might not be used.\n",
      "\n",
      "  This may not be accurate due to some parameters are only used in language bindings but\n",
      "  passed down to XGBoost core.  Or some parameters are not used but slip through this\n",
      "  verification. Please open an issue if you find above cases.\n",
      "\n",
      "\n",
      "[20:18:28] WARNING: C:/Users/Administrator/workspace/xgboost-win64_release_1.3.0/src/learner.cc:1061: Starting in XGBoost 1.3.0, the default evaluation metric used with the objective 'multi:softprob' was changed from 'merror' to 'mlogloss'. Explicitly set eval_metric if you'd like to restore the old behavior.\n",
      "[00:20:33] WARNING: C:/Users/Administrator/workspace/xgboost-win64_release_1.3.0/src/learner.cc:541: \n",
      "Parameters: { num_classes } might not be used.\n",
      "\n",
      "  This may not be accurate due to some parameters are only used in language bindings but\n",
      "  passed down to XGBoost core.  Or some parameters are not used but slip through this\n",
      "  verification. Please open an issue if you find above cases.\n",
      "\n",
      "\n",
      "[00:25:13] WARNING: C:/Users/Administrator/workspace/xgboost-win64_release_1.3.0/src/learner.cc:1061: Starting in XGBoost 1.3.0, the default evaluation metric used with the objective 'multi:softprob' was changed from 'merror' to 'mlogloss'. Explicitly set eval_metric if you'd like to restore the old behavior.\n",
      "[03:10:58] WARNING: C:/Users/Administrator/workspace/xgboost-win64_release_1.3.0/src/learner.cc:541: \n",
      "Parameters: { num_classes } might not be used.\n",
      "\n",
      "  This may not be accurate due to some parameters are only used in language bindings but\n",
      "  passed down to XGBoost core.  Or some parameters are not used but slip through this\n",
      "  verification. Please open an issue if you find above cases.\n",
      "\n",
      "\n",
      "[03:13:45] WARNING: C:/Users/Administrator/workspace/xgboost-win64_release_1.3.0/src/learner.cc:1061: Starting in XGBoost 1.3.0, the default evaluation metric used with the objective 'multi:softprob' was changed from 'merror' to 'mlogloss'. Explicitly set eval_metric if you'd like to restore the old behavior.\n",
      "[05:40:38] WARNING: C:/Users/Administrator/workspace/xgboost-win64_release_1.3.0/src/learner.cc:541: \n",
      "Parameters: { num_classes } might not be used.\n",
      "\n",
      "  This may not be accurate due to some parameters are only used in language bindings but\n",
      "  passed down to XGBoost core.  Or some parameters are not used but slip through this\n",
      "  verification. Please open an issue if you find above cases.\n",
      "\n",
      "\n",
      "[05:43:28] WARNING: C:/Users/Administrator/workspace/xgboost-win64_release_1.3.0/src/learner.cc:1061: Starting in XGBoost 1.3.0, the default evaluation metric used with the objective 'multi:softprob' was changed from 'merror' to 'mlogloss'. Explicitly set eval_metric if you'd like to restore the old behavior.\n",
      "[08:10:53] WARNING: C:/Users/Administrator/workspace/xgboost-win64_release_1.3.0/src/learner.cc:541: \n",
      "Parameters: { num_classes } might not be used.\n",
      "\n",
      "  This may not be accurate due to some parameters are only used in language bindings but\n",
      "  passed down to XGBoost core.  Or some parameters are not used but slip through this\n",
      "  verification. Please open an issue if you find above cases.\n",
      "\n",
      "\n",
      "[08:13:45] WARNING: C:/Users/Administrator/workspace/xgboost-win64_release_1.3.0/src/learner.cc:1061: Starting in XGBoost 1.3.0, the default evaluation metric used with the objective 'multi:softprob' was changed from 'merror' to 'mlogloss'. Explicitly set eval_metric if you'd like to restore the old behavior.\n",
      "[10:40:29] WARNING: C:/Users/Administrator/workspace/xgboost-win64_release_1.3.0/src/learner.cc:541: \n",
      "Parameters: { num_classes } might not be used.\n",
      "\n",
      "  This may not be accurate due to some parameters are only used in language bindings but\n",
      "  passed down to XGBoost core.  Or some parameters are not used but slip through this\n",
      "  verification. Please open an issue if you find above cases.\n",
      "\n",
      "\n",
      "[10:43:20] WARNING: C:/Users/Administrator/workspace/xgboost-win64_release_1.3.0/src/learner.cc:1061: Starting in XGBoost 1.3.0, the default evaluation metric used with the objective 'multi:softprob' was changed from 'merror' to 'mlogloss'. Explicitly set eval_metric if you'd like to restore the old behavior.\n",
      "[14:27:59] WARNING: C:/Users/Administrator/workspace/xgboost-win64_release_1.3.0/src/learner.cc:541: \n",
      "Parameters: { num_classes } might not be used.\n",
      "\n",
      "  This may not be accurate due to some parameters are only used in language bindings but\n",
      "  passed down to XGBoost core.  Or some parameters are not used but slip through this\n",
      "  verification. Please open an issue if you find above cases.\n",
      "\n",
      "\n",
      "[14:30:46] WARNING: C:/Users/Administrator/workspace/xgboost-win64_release_1.3.0/src/learner.cc:1061: Starting in XGBoost 1.3.0, the default evaluation metric used with the objective 'multi:softprob' was changed from 'merror' to 'mlogloss'. Explicitly set eval_metric if you'd like to restore the old behavior.\n",
      "[18:13:13] WARNING: C:/Users/Administrator/workspace/xgboost-win64_release_1.3.0/src/learner.cc:541: \n",
      "Parameters: { num_classes } might not be used.\n",
      "\n",
      "  This may not be accurate due to some parameters are only used in language bindings but\n",
      "  passed down to XGBoost core.  Or some parameters are not used but slip through this\n",
      "  verification. Please open an issue if you find above cases.\n",
      "\n",
      "\n",
      "[18:16:00] WARNING: C:/Users/Administrator/workspace/xgboost-win64_release_1.3.0/src/learner.cc:1061: Starting in XGBoost 1.3.0, the default evaluation metric used with the objective 'multi:softprob' was changed from 'merror' to 'mlogloss'. Explicitly set eval_metric if you'd like to restore the old behavior.\n",
      "[22:02:30] WARNING: C:/Users/Administrator/workspace/xgboost-win64_release_1.3.0/src/learner.cc:541: \n",
      "Parameters: { num_classes } might not be used.\n",
      "\n",
      "  This may not be accurate due to some parameters are only used in language bindings but\n",
      "  passed down to XGBoost core.  Or some parameters are not used but slip through this\n",
      "  verification. Please open an issue if you find above cases.\n",
      "\n",
      "\n",
      "[22:09:23] WARNING: C:/Users/Administrator/workspace/xgboost-win64_release_1.3.0/src/learner.cc:1061: Starting in XGBoost 1.3.0, the default evaluation metric used with the objective 'multi:softprob' was changed from 'merror' to 'mlogloss'. Explicitly set eval_metric if you'd like to restore the old behavior.\n",
      "[02:55:17] WARNING: C:/Users/Administrator/workspace/xgboost-win64_release_1.3.0/src/learner.cc:541: \n",
      "Parameters: { num_classes } might not be used.\n",
      "\n",
      "  This may not be accurate due to some parameters are only used in language bindings but\n",
      "  passed down to XGBoost core.  Or some parameters are not used but slip through this\n",
      "  verification. Please open an issue if you find above cases.\n",
      "\n",
      "\n",
      "[02:58:09] WARNING: C:/Users/Administrator/workspace/xgboost-win64_release_1.3.0/src/learner.cc:1061: Starting in XGBoost 1.3.0, the default evaluation metric used with the objective 'multi:softprob' was changed from 'merror' to 'mlogloss'. Explicitly set eval_metric if you'd like to restore the old behavior.\n"
     ]
    }
   ],
   "source": [
    "XGBgrid.fit(X_train, y_train)"
   ]
  },
  {
   "cell_type": "code",
   "execution_count": null,
   "metadata": {},
   "outputs": [],
   "source": [
    "### Best parameters for the Grid Search\r\n",
    "XGBgrid.best_params_"
   ]
  },
  {
   "cell_type": "code",
   "execution_count": null,
   "metadata": {},
   "outputs": [],
   "source": [
    "### Accuracy Score\r\n",
    "grid_svm.best_score_"
   ]
  },
  {
   "cell_type": "markdown",
   "metadata": {},
   "source": [
    "### Train a XGBoost Classifier"
   ]
  },
  {
   "cell_type": "code",
   "execution_count": 18,
   "metadata": {},
   "outputs": [
    {
     "name": "stderr",
     "output_type": "stream",
     "text": [
      "C:\\Users\\shubh\\Anaconda3\\lib\\site-packages\\xgboost\\sklearn.py:888: UserWarning: The use of label encoder in XGBClassifier is deprecated and will be removed in a future release. To remove this warning, do the following: 1) Pass option use_label_encoder=False when constructing XGBClassifier object; and 2) Encode your labels (y) as integers starting with 0, i.e. 0, 1, 2, ..., [num_class - 1].\n",
      "  warnings.warn(label_encoder_deprecation_msg, UserWarning)\n"
     ]
    },
    {
     "name": "stdout",
     "output_type": "stream",
     "text": [
      "[10:57:22] WARNING: C:/Users/Administrator/workspace/xgboost-win64_release_1.3.0/src/learner.cc:1061: Starting in XGBoost 1.3.0, the default evaluation metric used with the objective 'multi:softprob' was changed from 'merror' to 'mlogloss'. Explicitly set eval_metric if you'd like to restore the old behavior.\n"
     ]
    },
    {
     "data": {
      "text/plain": "XGBClassifier(base_score=0.5, booster='gbtree', colsample_bylevel=1,\n              colsample_bynode=1, colsample_bytree=1, gamma=0, gpu_id=-1,\n              importance_type='gain', interaction_constraints='',\n              learning_rate=0.1, max_delta_step=0, max_depth=7,\n              min_child_weight=4, missing=nan, monotone_constraints='()',\n              n_estimators=1000, n_jobs=4, num_parallel_tree=1,\n              objective='multi:softprob', random_state=27, reg_alpha=0,\n              reg_lambda=1, scale_pos_weight=None, seed=27, subsample=1,\n              tree_method='exact', validate_parameters=1, verbosity=None)"
     },
     "execution_count": 18,
     "metadata": {},
     "output_type": "execute_result"
    }
   ],
   "source": [
    "XGBModel = XGBClassifier(\r\n",
    " learning_rate =0.1,\r\n",
    " n_estimators=1000,\r\n",
    " max_depth=7,\r\n",
    " min_child_weight=4,\r\n",
    " gamma=0,\r\n",
    " objective= 'multi:softmax',\r\n",
    " seed=27)   \r\n",
    "XGBModel.fit(X_train, y_train)"
   ]
  },
  {
   "cell_type": "code",
   "execution_count": 19,
   "metadata": {},
   "outputs": [],
   "source": [
    "### Apply the above Model on Validation Set\r\n",
    "y_valid, X_valid = vec_for_learning(vectorize, valid_tagged)\r\n",
    "X_valid = pd.DataFrame(X_valid)\r\n",
    "y_valid = np.asarray(y_valid)\r\n",
    "y_pred_valid = XGBModel.predict(X_valid)"
   ]
  },
  {
   "cell_type": "code",
   "execution_count": 20,
   "metadata": {},
   "outputs": [
    {
     "name": "stdout",
     "output_type": "stream",
     "text": [
      "XGBoost Validation Accuracy: 0.5918\n",
      "XGBoost Validation F1-Score: 0.5861134966489252\n"
     ]
    }
   ],
   "source": [
    "print('XGBoost Validation Accuracy:', accuracy_score(y_valid, y_pred_valid))\r\n",
    "print('XGBoost Validation F1-Score:', f1_score(y_valid, y_pred_valid, average='weighted'))"
   ]
  },
  {
   "cell_type": "markdown",
   "metadata": {},
   "source": [
    "### As per the above analysis of validation set, it can be seen that the XGBoost Classification model gives\r\n",
    "1. F1- Score of: 0.58\r\n",
    "2. Accuracy of: 59.1%\r\n",
    "\r\n",
    "Hence, lets apply this model to our Test set and check its performance metrics."
   ]
  },
  {
   "cell_type": "code",
   "execution_count": 21,
   "metadata": {},
   "outputs": [],
   "source": [
    "### Apply the above Model on Test Set\r\n",
    "y_test, X_test = vec_for_learning(vectorize, test_tagged)\r\n",
    "X_test = pd.DataFrame(X_test)\r\n",
    "y_test = np.asarray(y_test)\r\n",
    "y_pred_test = XGBModel.predict(X_test)"
   ]
  },
  {
   "cell_type": "markdown",
   "metadata": {},
   "source": [
    "### Lets calculate some Performance Metrics on the Test predictions."
   ]
  },
  {
   "cell_type": "code",
   "execution_count": 22,
   "metadata": {},
   "outputs": [
    {
     "name": "stdout",
     "output_type": "stream",
     "text": [
      "XGBoost Test Accuracy: 0.5891\n",
      "XGBoost Test F1-Score: 0.5832797485214104\n"
     ]
    }
   ],
   "source": [
    "accuracy = accuracy_score(y_test, y_pred_test)\r\n",
    "f1_scr = f1_score(y_test, y_pred_test, average='weighted')\r\n",
    "print('XGBoost Test Accuracy:', accuracy)\r\n",
    "print('XGBoost Test F1-Score:', f1_scr)"
   ]
  },
  {
   "cell_type": "code",
   "execution_count": 23,
   "metadata": {},
   "outputs": [
    {
     "name": "stderr",
     "output_type": "stream",
     "text": [
      "C:\\Users\\shubh\\Anaconda3\\lib\\site-packages\\sklearn\\metrics\\_classification.py:1221: UndefinedMetricWarning: Precision and F-score are ill-defined and being set to 0.0 in labels with no predicted samples. Use `zero_division` parameter to control this behavior.\n",
      "  _warn_prf(average, modifier, msg_start, len(result))\n"
     ]
    },
    {
     "name": "stdout",
     "output_type": "stream",
     "text": [
      "                                                   precision    recall  f1-score   support\n",
      "\n",
      "                              anterior commissure       0.91      0.67      0.77        15\n",
      "                    anterodorsal thalamic nucleus       0.68      0.71      0.70        45\n",
      "                              atypical depression       0.47      0.46      0.46        48\n",
      "                           artificial circulation       0.80      0.83      0.82        48\n",
      "                                   striate cortex       0.32      0.26      0.29        54\n",
      "                            platelet glycoprotein       0.95      0.86      0.90        21\n",
      "                                 cold agglutinins       0.67      0.76      0.71        41\n",
      "                                haemagglutination       0.50      0.44      0.47         9\n",
      "                                            adult       0.80      0.83      0.81        29\n",
      "                              articular cartilage       0.68      0.81      0.74        53\n",
      "                                heparinreleasable       0.62      0.60      0.61        55\n",
      "                              arterial compliance       0.61      0.57      0.59        54\n",
      "                              aortic constriction       1.00      0.17      0.29         6\n",
      "                          hypersensitive response       0.75      0.55      0.63        22\n",
      "                           attenuation correction       0.72      0.81      0.76        42\n",
      "                                intermediate risk       0.54      0.64      0.58        44\n",
      "                                internal rotation       0.62      0.67      0.64        51\n",
      "                                    human albumin       0.44      0.51      0.47        47\n",
      "                                          acetone       0.07      0.04      0.05        52\n",
      "                                      goodpasture       0.62      1.00      0.76         8\n",
      "                                     frontal lobe       0.62      0.64      0.63        53\n",
      "                               ionizing radiation       0.00      0.00      0.00         4\n",
      "                                  glucose polymer       0.39      0.38      0.38        53\n",
      "                                arm circumference       0.25      0.26      0.25        43\n",
      "                            primary visual cortex       0.71      0.72      0.72        54\n",
      "              lines of chickens selected for high       0.33      0.33      0.33         3\n",
      "                                    period length       0.70      0.64      0.67        36\n",
      "                                 anterior chamber       0.54      0.62      0.58        48\n",
      "                                  sensory neurons       0.60      0.38      0.46         8\n",
      "                                      bodily pain       0.71      0.71      0.71        48\n",
      "                               autosomal dominant       0.60      0.38      0.46         8\n",
      "                              temporal difference       0.80      0.73      0.76        11\n",
      "                                 hepatic arterial       0.22      0.19      0.21        52\n",
      "                         gestational hypertension       0.86      0.84      0.85        50\n",
      "                                      benzapyrene       0.41      0.37      0.39        52\n",
      "                                  globus pallidus       0.48      0.50      0.49        28\n",
      "                             tryptophan depletion       0.69      0.77      0.73        48\n",
      "                               alcohol dependence       0.47      0.55      0.50        49\n",
      "                                  friend leukemia       0.71      0.71      0.71        14\n",
      "                                   sentinel nodes       0.72      0.83      0.77        52\n",
      "                                    atopic eczema       0.37      0.32      0.34        60\n",
      "                                      glycophorin       0.78      0.58      0.67        12\n",
      "                           time constant of decay       0.56      0.73      0.63        44\n",
      "                                 health authority       0.52      0.60      0.56        55\n",
      "                          thanatophoric dysplasia       0.43      0.41      0.42        39\n",
      "                                   afterdischarge       0.00      0.00      0.00         3\n",
      "                                     growth plate       0.49      0.44      0.46        55\n",
      "                                         efficacy       0.57      0.63      0.60        49\n",
      "                                    adultdirected       0.80      0.25      0.38        16\n",
      "                       true protein digestibility       0.62      0.60      0.61        42\n",
      "                                    hairless gene       0.64      0.60      0.62        53\n",
      "                                     anterodorsal       0.62      0.75      0.68        55\n",
      "                            british pharmacopoeia       1.00      0.60      0.75        10\n",
      "                                     farmers lung       0.73      0.64      0.69        56\n",
      "                             androgen deprivation       0.63      0.57      0.60        56\n",
      "                           wallerian degeneration       0.70      0.88      0.78        52\n",
      "                                 melanocytic nevi       0.80      0.76      0.78        51\n",
      "                                 human fibroblast       0.33      0.25      0.29         4\n",
      "                               acute exacerbation       0.69      0.57      0.62        51\n",
      "                                    allylestrenol       0.42      0.52      0.47        42\n",
      "                               freerunning period       0.53      0.53      0.53        19\n",
      "                                   head activator       0.73      0.67      0.70        12\n",
      "                                  buffer capacity       0.67      0.59      0.62        17\n",
      "                                  aberrant crypts       0.49      0.57      0.53        49\n",
      "                               travelers diarrhea       0.59      0.63      0.61        46\n",
      "                              primary visual area       0.59      0.67      0.63        49\n",
      "                           alzheimertype dementia       0.73      0.83      0.78        54\n",
      "                                 antiglycoprotein       0.50      0.22      0.31         9\n",
      "                                  gland of harder       0.78      0.76      0.77        33\n",
      "                          hypersensitive reaction       0.61      0.62      0.62        32\n",
      "                                       time delay       0.39      0.25      0.30        56\n",
      "                           bereitschaftspotential       0.48      0.64      0.55        50\n",
      "                                   genital herpes       0.77      0.79      0.78        43\n",
      "                                      hearing aid       0.46      0.60      0.52        53\n",
      "                              acute cholecystitis       0.25      0.25      0.25         4\n",
      "                                      fluorescent       0.40      0.32      0.35        19\n",
      "                                  buffering power       0.70      0.76      0.73        50\n",
      "                           hemagglutination assay       0.67      0.71      0.69        56\n",
      "                              typical development       0.75      0.72      0.74        60\n",
      "                                 skeletofusimotor       0.89      0.76      0.82        33\n",
      "                                 heat acclimation       0.69      0.74      0.71        54\n",
      "                               amygdaloid complex       0.74      0.85      0.79        59\n",
      "                                  arachnoid cysts       0.89      0.94      0.92        54\n",
      "                                     mental nerve       0.50      0.28      0.36        18\n",
      "                                        flutamide       0.46      0.51      0.48        45\n",
      "                              thiamine deficiency       0.53      0.63      0.57        65\n",
      "                                      guttapercha       0.57      0.29      0.38        14\n",
      "                             typically developing       0.75      0.50      0.60        54\n",
      "                              stiffness parameter       0.47      0.61      0.53        44\n",
      "                                     benzoapyrene       0.52      0.50      0.51        48\n",
      "                                  brachial plexus       0.83      0.77      0.80        31\n",
      "                                 general practice       0.26      0.23      0.24        52\n",
      "                                      vasopressor       0.82      0.69      0.75        48\n",
      "                                           trpasp       0.70      0.75      0.72        51\n",
      "                                   pressure decay       0.87      0.76      0.81        17\n",
      "                                  edmonstonzagreb       0.68      0.83      0.75        52\n",
      "                                  acid ceramidase       0.20      0.50      0.29         2\n",
      "                             culture supernatants       0.11      0.10      0.11        10\n",
      "                                   thermodilution       0.59      0.56      0.57        54\n",
      "                               tourettes disorder       0.60      0.43      0.50        14\n",
      "                                  backpropagation       0.80      0.88      0.84        50\n",
      "                                   absolute error       0.40      0.40      0.40         5\n",
      "                                         vascular       0.61      0.67      0.64        45\n",
      "                          affinity chromatography       0.47      0.37      0.41        57\n",
      "                                 carotid arteries       0.31      0.17      0.22        53\n",
      "                   mice selectively bred for high       0.77      0.62      0.69        53\n",
      "                                   apatite cement       0.59      0.80      0.68        51\n",
      "                         homologous recombination       0.38      0.25      0.30        12\n",
      "                               bullous pemphigoid       0.55      0.62      0.58        26\n",
      "                         constitutively activated       0.34      0.47      0.40        47\n",
      "                                histamine release       0.54      0.66      0.60        47\n",
      "                                spectral exponent       0.43      0.42      0.42        48\n",
      "                                 hormone receptor       0.47      0.50      0.48        54\n",
      "                                      bench press       0.49      0.40      0.44        50\n",
      "                                incomplete repair       0.57      0.58      0.57        52\n",
      "                                   allyl chloride       0.64      0.61      0.62        56\n",
      "                                    heptad repeat       0.59      0.53      0.56        36\n",
      "                                         headache       0.75      0.86      0.80         7\n",
      "                                aortic dissection       0.14      0.12      0.13        56\n",
      "                                  anticoagulation       0.16      0.14      0.15        44\n",
      "                                  asbestos cement       0.77      0.91      0.83        55\n",
      "                                acromioclavicular       1.00      0.67      0.80         3\n",
      "                                            heart       0.93      0.86      0.89        29\n",
      "                                  basilar papilla       0.47      0.54      0.50        54\n",
      "                      alzheimers disease patients       0.50      0.33      0.40         3\n",
      "                                      fetal liver       0.50      0.40      0.44        55\n",
      "                                 mauthner neurons       0.30      0.27      0.29        51\n",
      "                                 acridinium ester       0.38      0.47      0.42        45\n",
      "                                  brevipedicellus       0.77      0.77      0.77        52\n",
      "                      live attenuated coldadapted       0.79      0.64      0.71        42\n",
      "                                       total dose       0.62      0.45      0.52        29\n",
      "                                 circadian period       0.75      0.72      0.74        29\n",
      "                          genetic hemochromatosis       0.45      0.34      0.39        56\n",
      "                                     nearinfrared       1.00      0.25      0.40         4\n",
      "                                   catecholamines       0.24      0.24      0.24        50\n",
      "                                 aldrin epoxidase       0.33      0.29      0.31        52\n",
      "                               activated charcoal       0.48      0.61      0.54        57\n",
      "                          allergic conjunctivitis       0.88      0.47      0.61        15\n",
      "                           activation coefficient       0.71      0.45      0.56        11\n",
      "                              aesthetic component       0.67      0.62      0.64        13\n",
      "                                        beet pulp       0.52      0.50      0.51        26\n",
      "                               bovine pericardium       0.86      0.67      0.75        18\n",
      "                         filtration leukapheresis       0.80      0.85      0.82        55\n",
      "                          assimilation efficiency       0.61      0.84      0.71        51\n",
      "                                 hemolytic anemia       0.78      0.75      0.77        48\n",
      "                                   fructoselysine       1.00      1.00      1.00         1\n",
      "                           regression coefficient       0.78      0.88      0.83        52\n",
      "                               axillary clearance       0.62      0.66      0.64        53\n",
      "                                  total deviation       0.73      0.53      0.62        30\n",
      "                                     blood plasma       0.89      0.44      0.59        18\n",
      "                                 foreign language       0.74      0.63      0.68        54\n",
      "                   against platelet glycoproteins       0.59      0.89      0.71        44\n",
      "                                       heart area       0.88      0.77      0.82        39\n",
      "                 minor histocompatibility antigen       0.70      0.72      0.71        58\n",
      "                                 activated carbon       0.48      0.38      0.42        58\n",
      "                               bowenoid papulosis       0.71      0.74      0.72        57\n",
      "                                 atherogenic diet       0.84      0.93      0.88        55\n",
      "                                binding potential       0.69      0.45      0.55        20\n",
      "                                implantation rate       0.52      0.33      0.40        46\n",
      "calcitonin generelated peptide cgrpimmunoreactive       0.42      0.49      0.45        51\n",
      "                            sperm hyperactivation       0.67      0.67      0.67         3\n",
      "                                  aqueous extract       0.25      0.50      0.33         2\n",
      "                                   anion exchange       1.00      0.50      0.67        10\n",
      "                               general population       0.55      0.57      0.56        51\n",
      "                    influenza virus hemagglutinin       0.50      0.57      0.53        42\n",
      "                          avian encephalomyelitis       0.75      0.85      0.80        54\n",
      "                                 hemagglutination       0.35      0.26      0.30        53\n",
      "                                  total biopterin       0.00      0.00      0.00         1\n",
      "                             attenuationcorrected       0.87      0.79      0.83        57\n",
      "                               firefly luciferase       0.48      0.53      0.50        19\n",
      "                                     micronucleus       0.42      0.42      0.42        52\n",
      "                               min of reperfusion       0.27      0.29      0.28        49\n",
      "                                     cold adapted       0.15      0.10      0.12        21\n",
      "                                   acute diarrhea       0.36      0.23      0.28        22\n",
      "                        influenza a hemagglutinin       0.33      0.25      0.29         4\n",
      "           systolic and diastolic blood pressures       0.38      0.29      0.32        21\n",
      "                             ischaemiareperfusion       0.55      0.60      0.57        47\n",
      "                                       height age       0.71      0.60      0.65        20\n",
      "                 doxorubicin and cyclophosphamide       0.46      0.44      0.45        54\n",
      "                                   adherent cells       0.44      0.47      0.45        53\n",
      "                                    blastic phase       0.75      0.79      0.77        53\n",
      "                                coronary arteries       0.61      0.67      0.64        45\n",
      "                                 winter dysentery       0.56      0.80      0.66        54\n",
      "                                       decay rate       0.71      0.77      0.74        53\n",
      "                            hemagglutinin protein       0.67      0.68      0.67        47\n",
      "                                  stiffness index       0.45      0.57      0.50        51\n",
      "                        hemagglutination activity       0.44      0.45      0.45        55\n",
      "                                       tdependent       0.25      0.22      0.24        36\n",
      "                          alveolar echinococcosis       0.27      0.31      0.29        49\n",
      "                                water deprivation       0.88      0.64      0.74        11\n",
      "                                  tangier disease       0.50      0.50      0.50         2\n",
      "                                     grampositive       0.81      0.93      0.87        42\n",
      "                                 absence epilepsy       0.74      0.82      0.78        49\n",
      "                           apparent digestibility       0.44      0.46      0.45        24\n",
      "                              affective disorders       0.62      0.59      0.61        56\n",
      "                                      elimination       0.00      0.00      0.00         4\n",
      "                                 hyperandrogenism       0.63      0.74      0.68        23\n",
      "                                   air conduction       0.89      0.88      0.88        48\n",
      "                           hepatocellular adenoma       0.90      0.93      0.91        46\n",
      "                                         biphenyl       0.40      0.25      0.31         8\n",
      "                                      bells palsy       0.66      0.74      0.70        50\n",
      "                                      tau protein       0.00      0.00      0.00         2\n",
      "                                haemagglutinating       0.57      0.51      0.54        47\n",
      "                                       acebutolol       0.58      0.84      0.69        37\n",
      "                               epileptogenic zone       0.60      0.62      0.61        56\n",
      "                                      transdermal       0.70      0.50      0.58        46\n",
      "                            autonomic dysreflexia       0.42      0.50      0.45        54\n",
      "                               thiamine deficient       0.43      0.41      0.42        59\n",
      "                               atypical carcinoid       0.49      0.67      0.57        45\n",
      "                                    thoracic duct       0.00      0.00      0.00         1\n",
      "                   dementia of the alzheimer type       0.33      1.00      0.50         1\n",
      "                              genetic programming       1.00      0.67      0.80         6\n",
      "                                methyl nicotinate       0.80      0.57      0.67         7\n",
      "                       metabolism of benzoapyrene       0.75      0.73      0.74        45\n",
      "                         generalized polarization       0.84      0.92      0.88        50\n",
      "                                      anchor cell       0.79      0.69      0.73        32\n",
      "                       hemagglutinin glycoprotein       0.60      0.21      0.32        14\n",
      "                                 aerobic exercise       1.00      0.70      0.82        10\n",
      "                            autonomic dysfunction       1.00      0.50      0.67         6\n",
      "                                          bipolar       0.62      0.70      0.66        43\n",
      "                             myelin basic protein       0.63      0.56      0.59        59\n",
      "                               true digestibility       0.50      0.60      0.55        20\n",
      "                          tibial dyschondroplasia       0.68      0.59      0.63        54\n",
      "                              central compartment       0.48      0.55      0.51        53\n",
      "                                     median nerve       0.33      0.20      0.25         5\n",
      "                             hydroxyapatitecoated       0.58      0.40      0.48        47\n",
      "                                atopic dermatitis       0.69      0.78      0.73        49\n",
      "                            anoxic depolarization       0.53      0.42      0.47        19\n",
      "                             activity coefficient       0.00      0.00      0.00         9\n",
      "                              hippocampal atrophy       0.62      0.66      0.64        53\n",
      "                                habitual abortion       0.37      0.26      0.31        53\n",
      "                                    anticoagulant       0.33      0.33      0.33         3\n",
      "                            information retrieval       0.66      0.53      0.58        59\n",
      "                                hydropic abortion       0.78      0.79      0.79        53\n",
      "                             glycolytic potential       0.43      1.00      0.60         3\n",
      "                                hybrid resistance       0.00      0.00      0.00         2\n",
      "                              carbonic anhydrases       1.00      0.40      0.57         5\n",
      "                                   hepatic artery       0.78      0.76      0.77        55\n",
      "                                   inactive renin       0.44      0.40      0.42        10\n",
      "                                hepatic resection       0.72      0.50      0.59        56\n",
      "                        hyperstriatum accessorium       0.36      0.38      0.37        47\n",
      "                                      triple dose       0.79      0.77      0.78        39\n",
      "                                         gossypol       0.72      0.64      0.68        45\n",
      "                                     benzophenone       0.71      0.67      0.69        43\n",
      "                                      facial lobe       0.52      0.54      0.53        46\n",
      "                   time constant of lv relaxation       0.50      0.19      0.27        16\n",
      "                              autoimmune diseases       0.76      0.70      0.73        27\n",
      "                                acoustic emission       0.69      0.73      0.71        48\n",
      "                                        rutosides       0.70      0.80      0.74        49\n",
      "                         genetic haemochromatosis       0.00      0.00      0.00         9\n",
      "                                      alternating       0.67      0.76      0.71        50\n",
      "                              glycoside hydrolase       0.74      0.70      0.72        20\n",
      "                                       geniohyoid       0.45      0.42      0.43        12\n",
      "                                 hemagglutinating       0.14      0.20      0.17         5\n",
      "             new zealand genetically hypertensive       0.50      0.33      0.40         3\n",
      "                                  contrast agents       0.00      0.00      0.00         3\n",
      "                                    hbenzoapyrene       0.47      0.36      0.41        42\n",
      "                             ionizing irradiation       0.63      0.78      0.70        40\n",
      "                          hypothalamic amenorrhea       1.00      0.67      0.80         6\n",
      "           time constant of isovolumic relaxation       0.33      0.20      0.25         5\n",
      "                                  inferior rectus       0.38      0.28      0.33        53\n",
      "                     acrodermatitis enteropathica       0.73      0.67      0.70        12\n",
      "                                     western diet       0.64      0.88      0.74        56\n",
      "                                   tissue doppler       0.73      0.92      0.81        38\n",
      "                               tardive dyskinesia       1.00      0.50      0.67        12\n",
      "                              axillary dissection       0.00      0.00      0.00         1\n",
      "                                      meal number       0.64      0.43      0.51        21\n",
      "                              arrhythmogenic dose       0.33      0.25      0.29         4\n",
      "                      time constant of relaxation       0.89      0.71      0.79        34\n",
      "                                  aortic diameter       0.33      0.37      0.35        49\n",
      "                                     glenohumeral       0.33      0.39      0.36        51\n",
      "                                       fulllength       0.24      0.32      0.27        57\n",
      "                             gingival hyperplasia       0.37      0.43      0.40        51\n",
      "                                    amniocentesis       0.73      0.79      0.76        48\n",
      "                              bacterial pneumonia       0.68      0.59      0.63        46\n",
      "                                  dosing interval       0.70      0.66      0.68        58\n",
      "                                fluorescent light       1.00      0.75      0.86         4\n",
      "\n",
      "                                         accuracy                           0.59     10000\n",
      "                                        macro avg       0.58      0.55      0.55     10000\n",
      "                                     weighted avg       0.59      0.59      0.58     10000\n",
      "\n"
     ]
    }
   ],
   "source": [
    "y_unique = list(set(y_test))\n",
    "cr = classification_report(y_test, y_pred_test, target_names=y_unique)\n",
    "print(cr)"
   ]
  },
  {
   "cell_type": "markdown",
   "metadata": {},
   "source": [
    "### Thus, from the above Report it can be seen:\r\n",
    "1. Average Precision: 0.59\r\n",
    "2. Average Recall: 0.59"
   ]
  },
  {
   "cell_type": "markdown",
   "metadata": {},
   "source": [
    "# Next Steps"
   ]
  },
  {
   "cell_type": "markdown",
   "metadata": {},
   "source": [
    "## We can see that a basic Logistic Classification implementation gives 70% Accurate results hence, for next steps we can:\n",
    "1. Try tuning the Doc2Vec vectorizer's Hyperparameters.\n",
    "2. Try some other Classification Algorithms like SVN, Random Forrest and compare results.\n",
    "3. Present model has been trained to disambiguate 20 'Medical Abbreviations' but this same model can be generalized to be used in other fields as well. Some including Scientific Researches and Internet Slags."
   ]
  }
 ],
 "metadata": {
  "kernelspec": {
   "display_name": "Python 3",
   "language": "python",
   "name": "python3"
  },
  "language_info": {
   "codemirror_mode": {
    "name": "ipython",
    "version": 3
   },
   "file_extension": ".py",
   "mimetype": "text/x-python",
   "name": "python",
   "nbconvert_exporter": "python",
   "pygments_lexer": "ipython3",
   "version": "3.8.3"
  }
 },
 "nbformat": 4,
 "nbformat_minor": 2
}